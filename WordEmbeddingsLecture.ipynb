{
 "cells": [
  {
   "cell_type": "code",
   "execution_count": 1,
   "metadata": {},
   "outputs": [],
   "source": [
    "import spacy\n",
    "import seaborn as sns\n",
    "import numpy as np\n",
    "import matplotlib.pyplot as plt\n",
    "import pandas as pd\n",
    "import random\n",
    "import numpy.linalg as LA\n"
   ]
  },
  {
   "cell_type": "markdown",
   "metadata": {},
   "source": [
    "## Korelacija i kosinus sličnost dva vektora"
   ]
  },
  {
   "cell_type": "code",
   "execution_count": 2,
   "metadata": {},
   "outputs": [
    {
     "data": {
      "text/html": [
       "<div>\n",
       "<style scoped>\n",
       "    .dataframe tbody tr th:only-of-type {\n",
       "        vertical-align: middle;\n",
       "    }\n",
       "\n",
       "    .dataframe tbody tr th {\n",
       "        vertical-align: top;\n",
       "    }\n",
       "\n",
       "    .dataframe thead th {\n",
       "        text-align: right;\n",
       "    }\n",
       "</style>\n",
       "<table border=\"1\" class=\"dataframe\">\n",
       "  <thead>\n",
       "    <tr style=\"text-align: right;\">\n",
       "      <th></th>\n",
       "      <th>Ime</th>\n",
       "      <th>cm</th>\n",
       "      <th>kg</th>\n",
       "    </tr>\n",
       "  </thead>\n",
       "  <tbody>\n",
       "    <tr>\n",
       "      <th>0</th>\n",
       "      <td>Mika</td>\n",
       "      <td>111</td>\n",
       "      <td>58.5</td>\n",
       "    </tr>\n",
       "    <tr>\n",
       "      <th>1</th>\n",
       "      <td>Zika</td>\n",
       "      <td>186</td>\n",
       "      <td>97.0</td>\n",
       "    </tr>\n",
       "    <tr>\n",
       "      <th>2</th>\n",
       "      <td>Pera</td>\n",
       "      <td>178</td>\n",
       "      <td>90.0</td>\n",
       "    </tr>\n",
       "    <tr>\n",
       "      <th>3</th>\n",
       "      <td>Laza</td>\n",
       "      <td>161</td>\n",
       "      <td>83.5</td>\n",
       "    </tr>\n",
       "    <tr>\n",
       "      <th>4</th>\n",
       "      <td>Djole</td>\n",
       "      <td>197</td>\n",
       "      <td>100.5</td>\n",
       "    </tr>\n",
       "  </tbody>\n",
       "</table>\n",
       "</div>"
      ],
      "text/plain": [
       "     Ime   cm     kg\n",
       "0   Mika  111   58.5\n",
       "1   Zika  186   97.0\n",
       "2   Pera  178   90.0\n",
       "3   Laza  161   83.5\n",
       "4  Djole  197  100.5"
      ]
     },
     "execution_count": 2,
     "metadata": {},
     "output_type": "execute_result"
    }
   ],
   "source": [
    "\n",
    "visina = [100]*100\n",
    "tezina = [50]*100\n",
    "imena = ['Mika', 'Zika', 'Pera', 'Laza', 'Djole']*20\n",
    "\n",
    "def cosine_similarity(u, v):\n",
    "    dot = np.dot(u, v)\n",
    "    norm_u = np.linalg.norm(u)\n",
    "    norm_v = np.linalg.norm(v)\n",
    "    cosine_similarity = dot / (norm_u * norm_v)\n",
    "    return cosine_similarity\n",
    "\n",
    "def napravi_podatke(visina, tezina, imena):\n",
    "    for i in range(100):\n",
    "        dodatak_na_visinu = random.randint(1, 100)\n",
    "        dodatak_na_tezinu = 0.5*dodatak_na_visinu + random.randint(-5, 5)\n",
    "        visina[i] = visina[i]+dodatak_na_visinu\n",
    "        tezina[i] = tezina[i]+dodatak_na_tezinu\n",
    "    df = pd.DataFrame({'Ime':imena, 'cm': visina, 'kg':tezina})\n",
    "    return df\n",
    "\n",
    "df = napravi_podatke(visina, tezina, imena)\n",
    "df.head()\n",
    "    \n"
   ]
  },
  {
   "cell_type": "code",
   "execution_count": 3,
   "metadata": {},
   "outputs": [
    {
     "name": "stdout",
     "output_type": "stream",
     "text": [
      "Pirson r: 0.98 \n",
      "\n",
      "Kosinus sličnost: 0.999\n"
     ]
    }
   ],
   "source": [
    "kor = df.corr()\n",
    "print('Pirson r:', round(kor.iloc[0,1],3), '\\n')\n",
    "print('Kosinus sličnost:', round(cosine_similarity(df['kg'], df['cm']), 3))"
   ]
  },
  {
   "cell_type": "code",
   "execution_count": 4,
   "metadata": {},
   "outputs": [
    {
     "data": {
      "image/png": "[encoded data removed]",
      "text/plain": [
       "<Figure size 576x576 with 1 Axes>"
      ]
     },
     "metadata": {
      "needs_background": "light"
     },
     "output_type": "display_data"
    }
   ],
   "source": [
    "plt.figure(figsize=(8,8))\n",
    "plt.scatter(df['kg'], df['cm'])\n",
    "plt.xlabel('kg')\n",
    "plt.ylabel('cm')\n",
    "annotated_indices = [0, 5, 10]\n",
    "\n",
    "for i, txt in enumerate(df['Ime']):\n",
    "    if i%4 == 0:\n",
    "        plt.annotate(txt, (df['kg'][i], df['cm'][i]), textcoords=\"offset points\", xytext=(0, 5), ha='center')\n",
    "\n",
    "plt.show()"
   ]
  },
  {
   "cell_type": "markdown",
   "metadata": {},
   "source": [
    "#### Kako pronaći dva najsličnija i dva najrazličitija ispitanika? "
   ]
  },
  {
   "cell_type": "code",
   "execution_count": 5,
   "metadata": {},
   "outputs": [
    {
     "data": {
      "text/html": [
       "<div>\n",
       "<style scoped>\n",
       "    .dataframe tbody tr th:only-of-type {\n",
       "        vertical-align: middle;\n",
       "    }\n",
       "\n",
       "    .dataframe tbody tr th {\n",
       "        vertical-align: top;\n",
       "    }\n",
       "\n",
       "    .dataframe thead th {\n",
       "        text-align: right;\n",
       "    }\n",
       "</style>\n",
       "<table border=\"1\" class=\"dataframe\">\n",
       "  <thead>\n",
       "    <tr style=\"text-align: right;\">\n",
       "      <th></th>\n",
       "      <th>Ime</th>\n",
       "      <th>cm</th>\n",
       "      <th>kg</th>\n",
       "    </tr>\n",
       "  </thead>\n",
       "  <tbody>\n",
       "    <tr>\n",
       "      <th>0</th>\n",
       "      <td>Mika</td>\n",
       "      <td>111</td>\n",
       "      <td>58.5</td>\n",
       "    </tr>\n",
       "    <tr>\n",
       "      <th>1</th>\n",
       "      <td>Zika</td>\n",
       "      <td>186</td>\n",
       "      <td>97.0</td>\n",
       "    </tr>\n",
       "    <tr>\n",
       "      <th>2</th>\n",
       "      <td>Pera</td>\n",
       "      <td>178</td>\n",
       "      <td>90.0</td>\n",
       "    </tr>\n",
       "    <tr>\n",
       "      <th>3</th>\n",
       "      <td>Laza</td>\n",
       "      <td>161</td>\n",
       "      <td>83.5</td>\n",
       "    </tr>\n",
       "    <tr>\n",
       "      <th>4</th>\n",
       "      <td>Djole</td>\n",
       "      <td>197</td>\n",
       "      <td>100.5</td>\n",
       "    </tr>\n",
       "  </tbody>\n",
       "</table>\n",
       "</div>"
      ],
      "text/plain": [
       "     Ime   cm     kg\n",
       "0   Mika  111   58.5\n",
       "1   Zika  186   97.0\n",
       "2   Pera  178   90.0\n",
       "3   Laza  161   83.5\n",
       "4  Djole  197  100.5"
      ]
     },
     "execution_count": 5,
     "metadata": {},
     "output_type": "execute_result"
    }
   ],
   "source": [
    "df.head()"
   ]
  },
  {
   "cell_type": "code",
   "execution_count": 6,
   "metadata": {},
   "outputs": [
    {
     "data": {
      "text/html": [
       "<div>\n",
       "<style scoped>\n",
       "    .dataframe tbody tr th:only-of-type {\n",
       "        vertical-align: middle;\n",
       "    }\n",
       "\n",
       "    .dataframe tbody tr th {\n",
       "        vertical-align: top;\n",
       "    }\n",
       "\n",
       "    .dataframe thead th {\n",
       "        text-align: right;\n",
       "    }\n",
       "</style>\n",
       "<table border=\"1\" class=\"dataframe\">\n",
       "  <thead>\n",
       "    <tr style=\"text-align: right;\">\n",
       "      <th></th>\n",
       "      <th>0</th>\n",
       "      <th>1</th>\n",
       "      <th>2</th>\n",
       "      <th>3</th>\n",
       "      <th>4</th>\n",
       "      <th>5</th>\n",
       "      <th>6</th>\n",
       "      <th>7</th>\n",
       "      <th>8</th>\n",
       "      <th>9</th>\n",
       "      <th>...</th>\n",
       "      <th>90</th>\n",
       "      <th>91</th>\n",
       "      <th>92</th>\n",
       "      <th>93</th>\n",
       "      <th>94</th>\n",
       "      <th>95</th>\n",
       "      <th>96</th>\n",
       "      <th>97</th>\n",
       "      <th>98</th>\n",
       "      <th>99</th>\n",
       "    </tr>\n",
       "  </thead>\n",
       "  <tbody>\n",
       "    <tr>\n",
       "      <th>cm_std</th>\n",
       "      <td>-1.337377</td>\n",
       "      <td>1.000695</td>\n",
       "      <td>0.7513</td>\n",
       "      <td>0.221337</td>\n",
       "      <td>1.343612</td>\n",
       "      <td>0.938346</td>\n",
       "      <td>-0.277451</td>\n",
       "      <td>1.40596</td>\n",
       "      <td>1.343612</td>\n",
       "      <td>-0.99446</td>\n",
       "      <td>...</td>\n",
       "      <td>1.218915</td>\n",
       "      <td>-0.963286</td>\n",
       "      <td>1.063043</td>\n",
       "      <td>1.281263</td>\n",
       "      <td>-0.77624</td>\n",
       "      <td>-1.617946</td>\n",
       "      <td>1.40596</td>\n",
       "      <td>-0.526846</td>\n",
       "      <td>0.844823</td>\n",
       "      <td>-1.087983</td>\n",
       "    </tr>\n",
       "    <tr>\n",
       "      <th>kg_std</th>\n",
       "      <td>-1.155842</td>\n",
       "      <td>1.254771</td>\n",
       "      <td>0.816478</td>\n",
       "      <td>0.409491</td>\n",
       "      <td>1.473918</td>\n",
       "      <td>1.066931</td>\n",
       "      <td>-0.154029</td>\n",
       "      <td>1.098238</td>\n",
       "      <td>1.098238</td>\n",
       "      <td>-0.874082</td>\n",
       "      <td>...</td>\n",
       "      <td>0.973011</td>\n",
       "      <td>-0.717549</td>\n",
       "      <td>1.379998</td>\n",
       "      <td>1.473918</td>\n",
       "      <td>-1.030615</td>\n",
       "      <td>-1.813282</td>\n",
       "      <td>1.599144</td>\n",
       "      <td>-0.780162</td>\n",
       "      <td>0.910398</td>\n",
       "      <td>-1.155842</td>\n",
       "    </tr>\n",
       "  </tbody>\n",
       "</table>\n",
       "<p>2 rows × 100 columns</p>\n",
       "</div>"
      ],
      "text/plain": [
       "              0         1         2         3         4         5         6   \\\n",
       "cm_std -1.337377  1.000695    0.7513  0.221337  1.343612  0.938346 -0.277451   \n",
       "kg_std -1.155842  1.254771  0.816478  0.409491  1.473918  1.066931 -0.154029   \n",
       "\n",
       "              7         8         9   ...        90        91        92  \\\n",
       "cm_std   1.40596  1.343612  -0.99446  ...  1.218915 -0.963286  1.063043   \n",
       "kg_std  1.098238  1.098238 -0.874082  ...  0.973011 -0.717549  1.379998   \n",
       "\n",
       "              93        94        95        96        97        98        99  \n",
       "cm_std  1.281263  -0.77624 -1.617946   1.40596 -0.526846  0.844823 -1.087983  \n",
       "kg_std  1.473918 -1.030615 -1.813282  1.599144 -0.780162  0.910398 -1.155842  \n",
       "\n",
       "[2 rows x 100 columns]"
      ]
     },
     "execution_count": 6,
     "metadata": {},
     "output_type": "execute_result"
    }
   ],
   "source": [
    "# Računamo kosinus sličnost između svih 100 ispitanika (svakog sa svakim)\n",
    "# Ali pre toga moramo standardizovati varijable\n",
    "\n",
    "\n",
    "mean_cm = df['cm'].mean()\n",
    "std_cm = df['cm'].std()\n",
    "\n",
    "mean_kg = df['kg'].mean()\n",
    "std_kg = df['kg'].std()\n",
    "\n",
    "# Standardize column 'A'\n",
    "df['cm_std'] = (df['cm'] - mean_cm) / std_cm\n",
    "df['kg_std'] = (df['kg'] - mean_kg) / std_kg\n",
    "\n",
    "\n",
    "df_transposed = df.transpose()\n",
    "df_new = df_transposed.iloc[3:,:]\n",
    "df_new.head()"
   ]
  },
  {
   "cell_type": "code",
   "execution_count": 7,
   "metadata": {},
   "outputs": [],
   "source": [
    "similarities = []\n",
    "for col_a in df_new.columns:\n",
    "    for col_b in df_new.columns:\n",
    "        if col_a != col_b and col_b <=99:\n",
    "            similarity = (cosine_similarity(df_new[col_a], df_new[col_b]))\n",
    "            index = (col_a, col_b)\n",
    "            similarities.append((index, similarity))"
   ]
  },
  {
   "cell_type": "code",
   "execution_count": 8,
   "metadata": {},
   "outputs": [
    {
     "data": {
      "text/plain": [
       "[((0, 11), 0.9860749847263263),\n",
       " ((0, 12), 0.9986085415046538),\n",
       " ((0, 13), 0.9690621106929108),\n",
       " ((0, 14), 0.9859303317023139),\n",
       " ((0, 15), 0.9985585523953391),\n",
       " ((0, 16), 0.9913511775420347),\n",
       " ((0, 17), -0.9939532913204046),\n",
       " ((0, 18), -0.9992958157088605),\n",
       " ((0, 19), -0.9915783919139406),\n",
       " ((0, 20), 0.9997969291954834)]"
      ]
     },
     "execution_count": 8,
     "metadata": {},
     "output_type": "execute_result"
    }
   ],
   "source": [
    "similarities[10:20]"
   ]
  },
  {
   "cell_type": "code",
   "execution_count": 9,
   "metadata": {},
   "outputs": [
    {
     "name": "stdout",
     "output_type": "stream",
     "text": [
      "Najslicnija dva ispitanika: ((17, 98), 1.0000000000000002)\n",
      "Najrazlicitija dva ispitanika: ((7, 65), -0.9999999981025679)\n"
     ]
    }
   ],
   "source": [
    "najslicnija_dva = max(similarities, key=lambda x: x[1])\n",
    "najrazlicitija_dva = min(similarities, key=lambda x: x[1])\n",
    "\n",
    "# Print the result\n",
    "print(\"Najslicnija dva ispitanika:\", najslicnija_dva)\n",
    "print(\"Najrazlicitija dva ispitanika:\", najrazlicitija_dva)"
   ]
  },
  {
   "cell_type": "code",
   "execution_count": 10,
   "metadata": {},
   "outputs": [
    {
     "data": {
      "text/html": [
       "<div>\n",
       "<style scoped>\n",
       "    .dataframe tbody tr th:only-of-type {\n",
       "        vertical-align: middle;\n",
       "    }\n",
       "\n",
       "    .dataframe tbody tr th {\n",
       "        vertical-align: top;\n",
       "    }\n",
       "\n",
       "    .dataframe thead th {\n",
       "        text-align: right;\n",
       "    }\n",
       "</style>\n",
       "<table border=\"1\" class=\"dataframe\">\n",
       "  <thead>\n",
       "    <tr style=\"text-align: right;\">\n",
       "      <th></th>\n",
       "      <th>Ime</th>\n",
       "      <th>cm</th>\n",
       "      <th>kg</th>\n",
       "      <th>cm_std</th>\n",
       "      <th>kg_std</th>\n",
       "    </tr>\n",
       "  </thead>\n",
       "  <tbody>\n",
       "    <tr>\n",
       "      <th>17</th>\n",
       "      <td>Pera</td>\n",
       "      <td>181</td>\n",
       "      <td>91.5</td>\n",
       "      <td>0.844823</td>\n",
       "      <td>0.910398</td>\n",
       "    </tr>\n",
       "    <tr>\n",
       "      <th>98</th>\n",
       "      <td>Laza</td>\n",
       "      <td>181</td>\n",
       "      <td>91.5</td>\n",
       "      <td>0.844823</td>\n",
       "      <td>0.910398</td>\n",
       "    </tr>\n",
       "  </tbody>\n",
       "</table>\n",
       "</div>"
      ],
      "text/plain": [
       "     Ime   cm    kg    cm_std    kg_std\n",
       "17  Pera  181  91.5  0.844823  0.910398\n",
       "98  Laza  181  91.5  0.844823  0.910398"
      ]
     },
     "execution_count": 10,
     "metadata": {},
     "output_type": "execute_result"
    }
   ],
   "source": [
    "slican_a, slican_b = najslicnija_dva[0]\n",
    "df.iloc[[slican_a, slican_b]]"
   ]
  },
  {
   "cell_type": "code",
   "execution_count": 11,
   "metadata": {},
   "outputs": [
    {
     "data": {
      "text/html": [
       "<div>\n",
       "<style scoped>\n",
       "    .dataframe tbody tr th:only-of-type {\n",
       "        vertical-align: middle;\n",
       "    }\n",
       "\n",
       "    .dataframe tbody tr th {\n",
       "        vertical-align: top;\n",
       "    }\n",
       "\n",
       "    .dataframe thead th {\n",
       "        text-align: right;\n",
       "    }\n",
       "</style>\n",
       "<table border=\"1\" class=\"dataframe\">\n",
       "  <thead>\n",
       "    <tr style=\"text-align: right;\">\n",
       "      <th></th>\n",
       "      <th>Ime</th>\n",
       "      <th>cm</th>\n",
       "      <th>kg</th>\n",
       "      <th>cm_std</th>\n",
       "      <th>kg_std</th>\n",
       "    </tr>\n",
       "  </thead>\n",
       "  <tbody>\n",
       "    <tr>\n",
       "      <th>7</th>\n",
       "      <td>Pera</td>\n",
       "      <td>199</td>\n",
       "      <td>94.5</td>\n",
       "      <td>1.405960</td>\n",
       "      <td>1.098238</td>\n",
       "    </tr>\n",
       "    <tr>\n",
       "      <th>65</th>\n",
       "      <td>Mika</td>\n",
       "      <td>109</td>\n",
       "      <td>59.5</td>\n",
       "      <td>-1.399726</td>\n",
       "      <td>-1.093229</td>\n",
       "    </tr>\n",
       "  </tbody>\n",
       "</table>\n",
       "</div>"
      ],
      "text/plain": [
       "     Ime   cm    kg    cm_std    kg_std\n",
       "7   Pera  199  94.5  1.405960  1.098238\n",
       "65  Mika  109  59.5 -1.399726 -1.093229"
      ]
     },
     "execution_count": 11,
     "metadata": {},
     "output_type": "execute_result"
    }
   ],
   "source": [
    "razl_a, razl_b = najrazlicitija_dva[0]\n",
    "df.iloc[[razl_a, razl_b]]\n"
   ]
  },
  {
   "cell_type": "code",
   "execution_count": 42,
   "metadata": {},
   "outputs": [
    {
     "data": {
      "text/plain": [
       "array([1.40596049, 1.09823776])"
      ]
     },
     "execution_count": 42,
     "metadata": {},
     "output_type": "execute_result"
    }
   ],
   "source": [
    "df.iloc[[razl_a]][['cm_std', 'kg_std']].values[0]\n"
   ]
  },
  {
   "cell_type": "code",
   "execution_count": 52,
   "metadata": {},
   "outputs": [
    {
     "name": "stdout",
     "output_type": "stream",
     "text": [
      "1.4059604942550217\n",
      "1.0982377614986945\n",
      "|| [1.40596049 1.09823776] || =\n",
      "|| [-1.39972564 -1.0932287 ] || =\n"
     ]
    },
    {
     "data": {
      "image/png": "[encoded data removed]",
      "text/plain": [
       "<Figure size 432x288 with 1 Axes>"
      ]
     },
     "metadata": {
      "needs_background": "light"
     },
     "output_type": "display_data"
    }
   ],
   "source": [
    "\n",
    "\n",
    "razl1 = np.array(df.iloc[[razl_a]][['cm_std', 'kg_std']].values[0])\n",
    "razl2 = np.array(df.iloc[[razl_b]][['cm_std', 'kg_std']].values[0])\n",
    "\n",
    "print(razl1[0])\n",
    "print(razl1[1])\n",
    "\n",
    "def vector_norm(vector):\n",
    "    squares = [element**2 for element in vector]\n",
    "    return sum(squares)**0.5\n",
    "\n",
    "print(\"||\", razl1, \"|| =\")\n",
    "vector_norm(razl1)\n",
    "\n",
    "print(\"||\", razl2, \"|| =\")\n",
    "vector_norm(razl2) \n",
    "\n",
    "# radius = LA.norm(u)\n",
    "# plt.gca().add_artist(plt.Circle((0,0), radius, color=\"#DDDDDD\"))\n",
    "\n",
    "def plot_vector2d(vector2d, origin=[0, 0], head_width = 0.2, head_length=0.3, alpha=1, **options, ):\n",
    "    return plt.arrow(origin[0], origin[1], vector2d[0], vector2d[1], head_width=head_width, \n",
    "           head_length=head_length, length_includes_head=True, alpha=alpha, **options)\n",
    "\n",
    "plot_vector2d(razl1, color=\"red\", alpha=0.5)\n",
    "plot_vector2d(razl2, color=\"blue\", alpha=0.5)\n",
    "# plt.axis([0, 8.7, 0, 6])\n",
    "plt.grid()\n",
    "plt.show()"
   ]
  },
  {
   "cell_type": "code",
   "execution_count": 55,
   "metadata": {},
   "outputs": [
    {
     "data": {
      "image/png": "[encoded data removed]",
      "text/plain": [
       "<Figure size 432x288 with 1 Axes>"
      ]
     },
     "metadata": {
      "needs_background": "light"
     },
     "output_type": "display_data"
    }
   ],
   "source": [
    "sl1 = np.array(df.iloc[[slican_a]][['cm_std', 'kg_std']].values[0])\n",
    "sl2 = np.array(df.iloc[[slican_b]][['cm_std', 'kg_std']].values[0])\n",
    "\n",
    "plot_vector2d(sl1, color=\"red\", head_width = 0.15, head_length=0.15, alpha=0.5)\n",
    "plot_vector2d(sl2, color=\"blue\", head_width = 0.1, head_length=0.1, alpha=0.3)\n",
    "# plt.axis([0, 8.7, 0, 6])\n",
    "plt.grid()\n",
    "plt.show()"
   ]
  },
  {
   "cell_type": "code",
   "execution_count": 58,
   "metadata": {},
   "outputs": [
    {
     "data": {
      "image/png": "[encoded data removed]",
      "text/plain": [
       "<Figure size 432x288 with 1 Axes>"
      ]
     },
     "metadata": {
      "needs_background": "light"
     },
     "output_type": "display_data"
    }
   ],
   "source": [
    "random1 = random.randint(1, 99)\n",
    "random2 = random.randint(1, 99)\n",
    "rn1 = np.array(df.iloc[[random1]][['cm_std', 'kg_std']].values[0])\n",
    "rn2 = np.array(df.iloc[[random2]][['cm_std', 'kg_std']].values[0])\n",
    "\n",
    "plot_vector2d(rn1, color=\"red\", head_width = 0.15, head_length=0.15, alpha=0.5)\n",
    "plot_vector2d(rn2, color=\"blue\", head_width = 0.1, head_length=0.1, alpha=0.3)\n",
    "# plt.axis([0, 8.7, 0, 6])\n",
    "plt.grid()\n",
    "plt.show()"
   ]
  },
  {
   "cell_type": "markdown",
   "metadata": {},
   "source": [
    "### Word vectors and similarities"
   ]
  },
  {
   "cell_type": "code",
   "execution_count": 13,
   "metadata": {},
   "outputs": [
    {
     "name": "stdout",
     "output_type": "stream",
     "text": [
      "0.87\n"
     ]
    }
   ],
   "source": [
    "nlp = spacy.load('en_core_web_md')\n",
    "doc1 = nlp(\"I like fast food\")\n",
    "doc2 = nlp(\"I like pizza\")\n",
    "print(round(doc1.similarity(doc2),2))"
   ]
  },
  {
   "cell_type": "code",
   "execution_count": 14,
   "metadata": {},
   "outputs": [
    {
     "data": {
      "text/plain": [
       "<AxesSubplot:>"
      ]
     },
     "execution_count": 14,
     "metadata": {},
     "output_type": "execute_result"
    },
    {
     "data": {
      "image/png": "[encoded data removed]",
      "text/plain": [
       "<Figure size 864x720 with 2 Axes>"
      ]
     },
     "metadata": {
      "needs_background": "light"
     },
     "output_type": "display_data"
    }
   ],
   "source": [
    "\n",
    "\n",
    "doc = nlp(\"Two ball goal in pyjamas socks\")\n",
    "\n",
    "# Get the vector for the token \"bananas\"\n",
    "ball_vector = doc[1].vector\n",
    "goal_vector = doc[2].vector\n",
    "pidzama_vector = doc[4].vector\n",
    "carape_vector = doc[5].vector\n",
    "# print(bananas_vector)\n",
    "embeddings = np.array([ball_vector, goal_vector, pidzama_vector, carape_vector])\n",
    "\n",
    "plt.figure(figsize=(12,10))\n",
    "sns.heatmap(embeddings, cmap=\"viridis\", annot=False, xticklabels=False, yticklabels=['Lopta', 'Mitrogol', 'Pidzama', 'Carape'], vmax=6, vmin=-6)"
   ]
  },
  {
   "cell_type": "code",
   "execution_count": 15,
   "metadata": {},
   "outputs": [
    {
     "name": "stdout",
     "output_type": "stream",
     "text": [
      "Kosinus slicnost vektora lopta i gol: 0.40408238768577576\n",
      "Kosinus slicnost vektora pidžama i čarape: 1.0\n"
     ]
    }
   ],
   "source": [
    "dot_product1 = cosine_similarity(ball_vector, goal_vector)\n",
    "dot_product2 = round(cosine_similarity(pidzama_vector, carape_vector),3)\n",
    "\n",
    "print(f\"Kosinus slicnost vektora lopta i gol: {dot_product1}\")\n",
    "print(f\"Kosinus slicnost vektora pidžama i čarape: {dot_product2}\")"
   ]
  },
  {
   "cell_type": "code",
   "execution_count": 16,
   "metadata": {},
   "outputs": [
    {
     "name": "stdout",
     "output_type": "stream",
     "text": [
      "Koeficijent korelacije vektora lopta i gol: 0.3990248833035314\n",
      "Koeficijent korelacijevektora pidžama i čarape:: 1.0\n"
     ]
    }
   ],
   "source": [
    "corr1 = np.corrcoef(ball_vector, goal_vector)[0,1]\n",
    "corr2 = np.corrcoef(pidzama_vector, carape_vector)[0,1]\n",
    "\n",
    "print(f\"Koeficijent korelacije vektora lopta i gol: {corr1}\")\n",
    "print(f\"Koeficijent korelacijevektora pidžama i čarape:: {corr2}\")\n"
   ]
  },
  {
   "cell_type": "code",
   "execution_count": 17,
   "metadata": {},
   "outputs": [],
   "source": [
    "nlp = spacy.load(\"en_core_web_md\")\n",
    "\n",
    "# Get vectors for specific words\n",
    "king_vector = nlp(\"king\").vector\n",
    "queen_vector = nlp(\"queen\").vector\n",
    "man_vector = nlp(\"man\").vector\n",
    "woman_vector = nlp(\"woman\").vector\n",
    "\n",
    "# Vector arithmetic: king - man + woman = queen\n",
    "queen_guess_vector = king_vector - man_vector + woman_vector\n"
   ]
  },
  {
   "cell_type": "code",
   "execution_count": 18,
   "metadata": {},
   "outputs": [],
   "source": [
    "cokolada = nlp.vocab['chocolate'].vector\n",
    "kolac = nlp.vocab['cookies'].vector\n",
    "limun = nlp.vocab['lemon'].vector\n",
    "limunada = nlp.vocab['lemonade'].vector"
   ]
  },
  {
   "cell_type": "code",
   "execution_count": 19,
   "metadata": {},
   "outputs": [],
   "source": [
    "new_vector_for_testing = queen_guess_vector\n",
    "# new_vector_for_testing = chocolate - cake + ball\n",
    "# new_vector_for_testing =  limun - kolac + cokolada"
   ]
  },
  {
   "cell_type": "code",
   "execution_count": 20,
   "metadata": {},
   "outputs": [],
   "source": [
    "from scipy import spatial\n",
    "\n",
    "cosine_similarity = lambda x,y: 1 - spatial.distance.cosine(x,y)"
   ]
  },
  {
   "cell_type": "code",
   "execution_count": 21,
   "metadata": {},
   "outputs": [],
   "source": [
    "# Find the most similar word to the calculated vector\n",
    "computed_similarities = []\n",
    "for word in nlp.vocab:\n",
    "    if word.has_vector:\n",
    "        if word.is_lower:\n",
    "            if word.is_alpha:\n",
    "                if not word.is_stop:\n",
    "                    similarity = cosine_similarity(new_vector_for_testing, word.vector)\n",
    "                    computed_similarities.append((word, similarity))\n",
    "                \n",
    "computed_similarities = sorted(computed_similarities, key=lambda item: -item[1])"
   ]
  },
  {
   "cell_type": "code",
   "execution_count": 22,
   "metadata": {},
   "outputs": [
    {
     "name": "stdout",
     "output_type": "stream",
     "text": [
      "['king', 'queen', 'havin', 'woman', 'somethin', 'nothin', 'cause', 'ought', 'lovin', 'space']\n"
     ]
    }
   ],
   "source": [
    "print([w[0].text for w in computed_similarities[:10]])"
   ]
  },
  {
   "cell_type": "code",
   "execution_count": 23,
   "metadata": {},
   "outputs": [
    {
     "data": {
      "text/plain": [
       "<AxesSubplot:>"
      ]
     },
     "execution_count": 23,
     "metadata": {},
     "output_type": "execute_result"
    },
    {
     "data": {
      "image/png": "[encoded data removed]",
      "text/plain": [
       "<Figure size 864x720 with 2 Axes>"
      ]
     },
     "metadata": {
      "needs_background": "light"
     },
     "output_type": "display_data"
    }
   ],
   "source": [
    "embeddings = np.array([cokolada, kolac, limun, limunada])\n",
    "\n",
    "plt.figure(figsize=(12,10))\n",
    "sns.heatmap(embeddings, cmap=\"viridis\", annot=False, xticklabels=False, yticklabels=['Čokolada', 'Kolac', 'Limun', 'Limunada'], vmax=6, vmin=-6)"
   ]
  },
  {
   "cell_type": "code",
   "execution_count": 24,
   "metadata": {},
   "outputs": [
    {
     "name": "stdout",
     "output_type": "stream",
     "text": [
      "Loading GloVe Model...\n"
     ]
    },
    {
     "name": "stdout",
     "output_type": "stream",
     "text": [
      "Done. 400000 words loaded!\n",
      "Predicted queen: king\n"
     ]
    }
   ],
   "source": [
    "import numpy as np\n",
    "\n",
    "def load_glove_model(glove_file):\n",
    "    print(\"Loading GloVe Model...\")\n",
    "    with open(glove_file, 'r', encoding='utf-8') as f:\n",
    "        words = set()\n",
    "        word_to_vec_map = {}\n",
    "        for line in f:\n",
    "            line = line.strip().split()\n",
    "            curr_word = line[0]\n",
    "            words.add(curr_word)\n",
    "            word_to_vec_map[curr_word] = np.array(line[1:], dtype=np.float64)\n",
    "    print(f\"Done. {len(words)} words loaded!\")\n",
    "    return word_to_vec_map\n",
    "\n",
    "def cosine_similarity(u, v):\n",
    "    dot = np.dot(u, v)\n",
    "    norm_u = np.linalg.norm(u)\n",
    "    norm_v = np.linalg.norm(v)\n",
    "    cosine_similarity = dot / (norm_u * norm_v)\n",
    "    return cosine_similarity\n",
    "\n",
    "glove_file_path = 'glove.6B.200d.txt'  # Adjust the path to your downloaded GloVe file\n",
    "word_to_vec_map = load_glove_model(glove_file_path)\n",
    "\n",
    "# Example: king - man + woman = queen\n",
    "king_vec = word_to_vec_map[\"king\"]\n",
    "man_vec = word_to_vec_map[\"man\"]\n",
    "woman_vec = word_to_vec_map[\"woman\"]\n",
    "queen_vec = king_vec - man_vec + woman_vec\n",
    "\n",
    "# Find the most similar word to the calculated vector\n",
    "most_similar_word = max(word_to_vec_map.keys(), key=lambda word: cosine_similarity(queen_vec, word_to_vec_map[word]))\n",
    "\n",
    "print(\"Predicted queen:\", most_similar_word)\n"
   ]
  },
  {
   "cell_type": "code",
   "execution_count": 25,
   "metadata": {},
   "outputs": [
    {
     "name": "stdout",
     "output_type": "stream",
     "text": [
      "Top 5 words most similar to 'queen': ['elizabeth', 'king', 'princess', 'monarch', 'victoria']\n"
     ]
    }
   ],
   "source": [
    "import heapq\n",
    "\n",
    "def find_most_similar_words(reference_vector, word_to_vec_map, top_n=5):\n",
    "    similarity_heap = []\n",
    "\n",
    "    for word in word_to_vec_map.keys():\n",
    "        if word != reference_word:\n",
    "            similarity = cosine_similarity(reference_vector, word_to_vec_map[word])\n",
    "            heapq.heappush(similarity_heap, (similarity, word))\n",
    "\n",
    "    # Get the top N most similar words\n",
    "    top_similar_words = [word for similarity, word in heapq.nlargest(top_n, similarity_heap)]\n",
    "\n",
    "    return top_similar_words\n",
    "\n",
    "# Example usage\n",
    "reference_word = 'queen'\n",
    "queen_vec = word_to_vec_map[reference_word]\n",
    "top_similar_words = find_most_similar_words(queen_vec, word_to_vec_map, top_n=5)\n",
    "\n",
    "print(f\"Top 5 words most similar to 'queen': {top_similar_words}\")\n"
   ]
  },
  {
   "cell_type": "code",
   "execution_count": 26,
   "metadata": {},
   "outputs": [
    {
     "name": "stdout",
     "output_type": "stream",
     "text": [
      "Top 5 words most similar to 'queen': ['cake', 'cookies', 'cream', 'candy', 'caramel']\n"
     ]
    }
   ],
   "source": [
    "# Example usage\n",
    "reference_word = 'chocolate'\n",
    "tested_vec = word_to_vec_map[reference_word]\n",
    "top_similar_words = find_most_similar_words(tested_vec, word_to_vec_map, top_n=5)\n",
    "\n",
    "print(f\"Top 5 words most similar to 'queen': {top_similar_words}\")"
   ]
  },
  {
   "cell_type": "code",
   "execution_count": 27,
   "metadata": {},
   "outputs": [
    {
     "name": "stdout",
     "output_type": "stream",
     "text": [
      "Top 5 words most similar to 'queen': ['elizabeth', 'king', 'princess', 'monarch', 'victoria']\n"
     ]
    }
   ],
   "source": [
    "import heapq\n",
    "\n",
    "def find_most_similar_words(reference_vector, word_to_vec_map, top_n=5):\n",
    "    similarity_heap = []\n",
    "\n",
    "    for word in word_to_vec_map.keys():\n",
    "        if word != reference_word:\n",
    "            similarity = cosine_similarity(reference_vector, word_to_vec_map[word])\n",
    "            heapq.heappush(similarity_heap, (similarity, word))\n",
    "\n",
    "    # Get the top N most similar words\n",
    "    top_similar_words = [word for similarity, word in heapq.nlargest(top_n, similarity_heap)]\n",
    "\n",
    "    return top_similar_words\n",
    "\n",
    "# Example usage\n",
    "reference_word = 'queen'\n",
    "queen_vec = word_to_vec_map[reference_word]\n",
    "top_similar_words = find_most_similar_words(queen_vec, word_to_vec_map, top_n=5)\n",
    "\n",
    "print(f\"Top 5 words most similar to 'queen': {top_similar_words}\")\n"
   ]
  },
  {
   "cell_type": "code",
   "execution_count": 28,
   "metadata": {},
   "outputs": [
    {
     "name": "stdout",
     "output_type": "stream",
     "text": [
      "[('king', 0.8209067571293023), ('queen', 0.7119165714263136), ('princess', 0.6121214491336003), ('monarch', 0.6024806452435356), ('prince', 0.5960040506895239), ('throne', 0.5915313642749513), ('daughter', 0.5588055718030608), ('elizabeth', 0.5547402774335012), ('kingdom', 0.5494517440184139), ('mother', 0.541981685682989)]\n"
     ]
    }
   ],
   "source": [
    "# Find the most similar word to the calculated vector\n",
    "new_vector_for_testing = king_vec - man_vec + woman_vec\n",
    "computed_similarities = []\n",
    "for word in word_to_vec_map.keys():\n",
    "    similarity = cosine_similarity(new_vector_for_testing, word_to_vec_map[word])\n",
    "    computed_similarities.append((word, similarity))\n",
    "                \n",
    "computed_similarities = sorted(computed_similarities, key=lambda item: -item[1])\n",
    "print([w for w in computed_similarities[:10]])"
   ]
  },
  {
   "cell_type": "code",
   "execution_count": null,
   "metadata": {},
   "outputs": [],
   "source": []
  },
  {
   "cell_type": "markdown",
   "metadata": {},
   "source": [
    "### OpenAI word embeddings"
   ]
  },
  {
   "cell_type": "code",
   "execution_count": null,
   "metadata": {},
   "outputs": [],
   "source": [
    "from openai import OpenAI\n",
    "client = OpenAI()\n",
    "\n",
    "response = client.embeddings.create(\n",
    "    input=\"Your text string goes here\",\n",
    "    model=\"text-embedding-ada-002\"\n",
    ")\n",
    "\n",
    "print(response.data[0].embedding)"
   ]
  }
 ],
 "metadata": {
  "kernelspec": {
   "display_name": "Python 3",
   "language": "python",
   "name": "python3"
  },
  "language_info": {
   "codemirror_mode": {
    "name": "ipython",
    "version": 3
   },
   "file_extension": ".py",
   "mimetype": "text/x-python",
   "name": "python",
   "nbconvert_exporter": "python",
   "pygments_lexer": "ipython3",
   "version": "3.9.12"
  }
 },
 "nbformat": 4,
 "nbformat_minor": 2
}
