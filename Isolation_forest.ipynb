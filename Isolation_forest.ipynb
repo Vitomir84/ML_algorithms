{
 "cells": [
  {
   "cell_type": "markdown",
   "id": "6c4de066",
   "metadata": {},
   "source": [
    "## Isolation Forest algorithm"
   ]
  },
  {
   "cell_type": "markdown",
   "id": "bff40f41",
   "metadata": {},
   "source": [
    "Isolation Forest, like any tree ensemble method, is built on the basis of decision trees. \n",
    "In these trees, partitions are created by first randomly selecting a feature and then selecting a random split value \n",
    "between the minimum and maximum value of the selected feature.\n",
    "In principle, outliers are less frequent than regular observations \n",
    "and are different from them in terms of values (they lie further away from the regular observations in the feature space). \n",
    "That is why by using such random partitioning they should be identified closer to the root of the tree (shorter average path length, i.e., the number of edges an observation must pass in the tree going from the root to the terminal node), with fewer splits necessary.\n",
    "\n",
    "In the following example we will use the ISO forest algorithm on a famous boston data set to detect the cities with the highest crime rate."
   ]
  },
  {
   "cell_type": "code",
   "execution_count": 39,
   "id": "d5a6704a",
   "metadata": {},
   "outputs": [],
   "source": [
    "from sklearn.datasets import load_boston\n",
    "import numpy as np\n",
    "import pandas as pd\n",
    "import matplotlib.pyplot as plt\n",
    "import warnings"
   ]
  },
  {
   "cell_type": "code",
   "execution_count": 26,
   "id": "0c5f7e8c",
   "metadata": {
    "scrolled": true
   },
   "outputs": [],
   "source": [
    "boston =load_boston()\n",
    "names=list(boston['feature_names'])\n",
    "X=boston['data']\n",
    "df = pd.DataFrame(X, columns=names)"
   ]
  },
  {
   "cell_type": "code",
   "execution_count": 27,
   "id": "7e82f2cd",
   "metadata": {},
   "outputs": [
    {
     "name": "stdout",
     "output_type": "stream",
     "text": [
      ".. _boston_dataset:\n",
      "\n",
      "Boston house prices dataset\n",
      "---------------------------\n",
      "\n",
      "**Data Set Characteristics:**  \n",
      "\n",
      "    :Number of Instances: 506 \n",
      "\n",
      "    :Number of Attributes: 13 numeric/categorical predictive. Median Value (attribute 14) is usually the target.\n",
      "\n",
      "    :Attribute Information (in order):\n",
      "        - CRIM     per capita crime rate by town\n",
      "        - ZN       proportion of residential land zoned for lots over 25,000 sq.ft.\n",
      "        - INDUS    proportion of non-retail business acres per town\n",
      "        - CHAS     Charles River dummy variable (= 1 if tract bounds river; 0 otherwise)\n",
      "        - NOX      nitric oxides concentration (parts per 10 million)\n",
      "        - RM       average number of rooms per dwelling\n",
      "        - AGE      proportion of owner-occupied units built prior to 1940\n",
      "        - DIS      weighted distances to five Boston employment centres\n",
      "        - RAD      index of accessibility to radial highways\n",
      "        - TAX      full-value property-tax rate per $10,000\n",
      "        - PTRATIO  pupil-teacher ratio by town\n",
      "        - B        1000(Bk - 0.63)^2 where Bk is the proportion of blacks by town\n",
      "        - LSTAT    % lower status of the population\n",
      "        - MEDV     Median value of owner-occupied homes in $1000's\n",
      "\n",
      "    :Missing Attribute Values: None\n",
      "\n",
      "    :Creator: Harrison, D. and Rubinfeld, D.L.\n",
      "\n",
      "This is a copy of UCI ML housing dataset.\n",
      "https://archive.ics.uci.edu/ml/machine-learning-databases/housing/\n",
      "\n",
      "\n",
      "This dataset was taken from the StatLib library which is maintained at Carnegie Mellon University.\n",
      "\n",
      "The Boston house-price data of Harrison, D. and Rubinfeld, D.L. 'Hedonic\n",
      "prices and the demand for clean air', J. Environ. Economics & Management,\n",
      "vol.5, 81-102, 1978.   Used in Belsley, Kuh & Welsch, 'Regression diagnostics\n",
      "...', Wiley, 1980.   N.B. Various transformations are used in the table on\n",
      "pages 244-261 of the latter.\n",
      "\n",
      "The Boston house-price data has been used in many machine learning papers that address regression\n",
      "problems.   \n",
      "     \n",
      ".. topic:: References\n",
      "\n",
      "   - Belsley, Kuh & Welsch, 'Regression diagnostics: Identifying Influential Data and Sources of Collinearity', Wiley, 1980. 244-261.\n",
      "   - Quinlan,R. (1993). Combining Instance-Based and Model-Based Learning. In Proceedings on the Tenth International Conference of Machine Learning, 236-243, University of Massachusetts, Amherst. Morgan Kaufmann.\n",
      "\n"
     ]
    }
   ],
   "source": [
    "print(boston.DESCR)"
   ]
  },
  {
   "cell_type": "code",
   "execution_count": 29,
   "id": "77654100",
   "metadata": {},
   "outputs": [],
   "source": [
    "from sklearn.ensemble import IsolationForest\n",
    "\n",
    "def iso_forest_detection(df, outliers_fraction, target_feature:str, plotting = True):\n",
    "    x=df[target_feature].to_numpy().reshape(len(df[target_feature]),-1)\n",
    "    model = IsolationForest(contamination=outliers_fraction)\n",
    "    model.fit(x)\n",
    "    predictions = model.predict(x) # anomalies are -1\n",
    "    df[target_feature+'_anomalies'] = pd.Series(predictions, index = df.index)\n",
    "    decision_function = model.decision_function(x)\n",
    "    df['decision_function'] = pd.Series(decision_function, index = df.index)\n",
    "    \n",
    "    if plotting:\n",
    "        a = df.loc[df[target_feature+'_anomalies'] == -1] #anomaly\n",
    "        plt.figure(figsize=(6,6))\n",
    "        plt.plot(df[target_feature], color='blue', label= f'original {target_feature}')\n",
    "        plt.plot(a[target_feature], linestyle='none', marker='X', color='red', markersize=8, label='Anomaly')\n",
    "        plt.plot(df['decision_function'], color='green', label='decision function', alpha=0.3) # The anomaly score of the input samples.\n",
    "        #             The lower, the more abnormal. Negative scores represent outliers,\n",
    "        #             positive scores represent inliers.\n",
    "        plt.xlabel('Rows')\n",
    "        plt.ylabel(f'{target_feature}value')\n",
    "        plt.title('Anomalies')\n",
    "        plt.legend(loc='best')\n",
    "        plt.show()\n",
    "    return df"
   ]
  },
  {
   "cell_type": "code",
   "execution_count": 21,
   "id": "4fc946c6",
   "metadata": {},
   "outputs": [],
   "source": [
    "#Trying isolation forest\n",
    "\n",
    "# Import IsolationForest\n",
    "from sklearn.ensemble import IsolationForest\n",
    "# Assume that 13% of the entire data set are anomalies\n",
    " \n",
    "outliers_fraction = 0.01\n",
    "x=df['CRIM'].to_numpy().reshape(506,-1)\n",
    "model =  IsolationForest(contamination=outliers_fraction)\n",
    "model.fit(x)\n",
    "predictions = model.predict(x) # anomalies are -1\n",
    "# predictions = predictions.reshape(2375,-1)\n",
    "df['CRIM_anomalies'] = pd.Series(predictions, index = df.index)\n",
    "decision_function = model.decision_function(x)\n",
    "df['decision_function'] = pd.Series(decision_function, index = df.index)\n"
   ]
  },
  {
   "cell_type": "code",
   "execution_count": 23,
   "id": "8541aaf0",
   "metadata": {},
   "outputs": [
    {
     "data": {
      "image/png": "[encoded data removed]",
      "text/plain": [
       "<Figure size 432x288 with 1 Axes>"
      ]
     },
     "metadata": {
      "needs_background": "light"
     },
     "output_type": "display_data"
    }
   ],
   "source": [
    "df['CRIM'].hist(bins=40);"
   ]
  },
  {
   "cell_type": "code",
   "execution_count": 25,
   "id": "9e355b74",
   "metadata": {
    "scrolled": true
   },
   "outputs": [
    {
     "data": {
      "image/png": "[encoded data removed]",
      "text/plain": [
       "<Figure size 432x288 with 1 Axes>"
      ]
     },
     "metadata": {
      "needs_background": "light"
     },
     "output_type": "display_data"
    }
   ],
   "source": [
    "a = df.loc[df['CRIM_anomalies'] == -1] #anomaly\n",
    "plt.figure(figsize=(6,4))\n",
    "plt.plot(df['CRIM'], color='blue', label='original CRIM ')\n",
    "plt.plot(a['CRIM'], linestyle='none', marker='X', color='red', markersize=8, label='Anomaly - cities with the highest crime rate')\n",
    "plt.plot(df['decision_function'], color='green', label='decision function', alpha=0.3) # The anomaly score of the input samples.\n",
    "#             The lower, the more abnormal. Negative scores represent outliers,\n",
    "#             positive scores represent inliers.\n",
    "plt.xlabel('CRIM per capita crime rate by town')\n",
    "plt.ylabel('CRIM value')\n",
    "plt.title('Anomalies')\n",
    "plt.legend(loc='best')\n",
    "plt.show()"
   ]
  },
  {
   "cell_type": "code",
   "execution_count": 34,
   "id": "4777da29",
   "metadata": {},
   "outputs": [
    {
     "data": {
      "text/plain": [
       "380    88.9762\n",
       "404    41.5292\n",
       "405    67.9208\n",
       "410    51.1358\n",
       "414    45.7461\n",
       "418    73.5341\n",
       "Name: CRIM, dtype: float64"
      ]
     },
     "execution_count": 34,
     "metadata": {},
     "output_type": "execute_result"
    }
   ],
   "source": [
    "# cities with the highest crime rate\n",
    "a['CRIM']"
   ]
  },
  {
   "cell_type": "code",
   "execution_count": 42,
   "id": "66c1ce66",
   "metadata": {},
   "outputs": [
    {
     "data": {
      "image/png": "[encoded data removed]",
      "text/plain": [
       "<Figure size 432x432 with 1 Axes>"
      ]
     },
     "metadata": {
      "needs_background": "light"
     },
     "output_type": "display_data"
    }
   ],
   "source": [
    "#now we try ISO FOREST for different outlier fraction and different target feature\n",
    "# and we create fake outlier to the unrealistically high tax \n",
    "warnings.filterwarnings(\"ignore\")\n",
    "df['TAX'][0]=3000\n",
    "\n",
    "outliers_fraction=0.01\n",
    "df = iso_forest_detection(df, outliers_fraction, 'TAX', plotting=True)"
   ]
  }
 ],
 "metadata": {
  "kernelspec": {
   "display_name": "Python 3",
   "language": "python",
   "name": "python3"
  },
  "language_info": {
   "codemirror_mode": {
    "name": "ipython",
    "version": 3
   },
   "file_extension": ".py",
   "mimetype": "text/x-python",
   "name": "python",
   "nbconvert_exporter": "python",
   "pygments_lexer": "ipython3",
   "version": "3.8.5"
  }
 },
 "nbformat": 4,
 "nbformat_minor": 5
}
