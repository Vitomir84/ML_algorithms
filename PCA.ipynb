{
 "cells": [
  {
   "cell_type": "markdown",
   "id": "984475ed",
   "metadata": {},
   "source": [
    "### PCA\n",
    "Principal component analysis is ML technique for feature reduction. It searches in the space of the features, latent vectors that explains the highest amount of variance among original features (original matrix). The latent features are eigenvectors in matrix decomposition with their own eigenvalues of matrix of covariance of original features. In that way, we can search the more fundamental structure of some matrix, and we can explain the high dimensional space of feature with only a few principal components which are dimension that reflect the \"inner structure\" of our original matrix (e.g. imagine that we applied 20 IQ tests to our subjects, and it will create a matrix with a lot of variance - some subject will underperform on some tests, due to the tiredness, attention, etc. but we should be able to extract one principal component that should reflect the global IQ of the subject). Principal components are usually not correlated (they are ortogonal in our feature space) but some rotation (oblique Promax) allows correlation between components (in our example it could be an verbal and non-verba IQ component)."
   ]
  },
  {
   "cell_type": "code",
   "execution_count": 1,
   "id": "356fb66e",
   "metadata": {},
   "outputs": [],
   "source": [
    "import pandas as pd\n",
    "from sklearn.preprocessing import LabelEncoder"
   ]
  },
  {
   "cell_type": "code",
   "execution_count": 2,
   "id": "9eab8a3b",
   "metadata": {},
   "outputs": [],
   "source": [
    "df = pd.read_csv('iq.csv')"
   ]
  },
  {
   "cell_type": "code",
   "execution_count": 3,
   "id": "e1e93f79",
   "metadata": {},
   "outputs": [
    {
     "data": {
      "text/html": [
       "<div>\n",
       "<style scoped>\n",
       "    .dataframe tbody tr th:only-of-type {\n",
       "        vertical-align: middle;\n",
       "    }\n",
       "\n",
       "    .dataframe tbody tr th {\n",
       "        vertical-align: top;\n",
       "    }\n",
       "\n",
       "    .dataframe thead th {\n",
       "        text-align: right;\n",
       "    }\n",
       "</style>\n",
       "<table border=\"1\" class=\"dataframe\">\n",
       "  <thead>\n",
       "    <tr style=\"text-align: right;\">\n",
       "      <th></th>\n",
       "      <th>VQ1s</th>\n",
       "      <th>VQ1a</th>\n",
       "      <th>VQ1e</th>\n",
       "      <th>VQ2s</th>\n",
       "      <th>VQ2a</th>\n",
       "      <th>VQ2e</th>\n",
       "      <th>VQ3s</th>\n",
       "      <th>VQ3a</th>\n",
       "      <th>VQ3e</th>\n",
       "      <th>VQ4s</th>\n",
       "      <th>...</th>\n",
       "      <th>MQ5s</th>\n",
       "      <th>MQ5a</th>\n",
       "      <th>MQ5e</th>\n",
       "      <th>MQ6s</th>\n",
       "      <th>MQ6a</th>\n",
       "      <th>MQ6e</th>\n",
       "      <th>dateload</th>\n",
       "      <th>introelapse</th>\n",
       "      <th>testelapse</th>\n",
       "      <th>endelapse</th>\n",
       "    </tr>\n",
       "  </thead>\n",
       "  <tbody>\n",
       "    <tr>\n",
       "      <th>0</th>\n",
       "      <td>4</td>\n",
       "      <td>2,4,3,1</td>\n",
       "      <td>8382</td>\n",
       "      <td>3</td>\n",
       "      <td>3,2,1</td>\n",
       "      <td>7460</td>\n",
       "      <td>3</td>\n",
       "      <td>1,4,2</td>\n",
       "      <td>5213</td>\n",
       "      <td>3</td>\n",
       "      <td>...</td>\n",
       "      <td>4</td>\n",
       "      <td>17,21,18,20</td>\n",
       "      <td>8540</td>\n",
       "      <td>3</td>\n",
       "      <td>26,23,22</td>\n",
       "      <td>8974</td>\n",
       "      <td>2019-01-11 18:29:36</td>\n",
       "      <td>9</td>\n",
       "      <td>674</td>\n",
       "      <td>40</td>\n",
       "    </tr>\n",
       "    <tr>\n",
       "      <th>1</th>\n",
       "      <td>3</td>\n",
       "      <td>4,3,1</td>\n",
       "      <td>42029</td>\n",
       "      <td>3</td>\n",
       "      <td>1,2,3</td>\n",
       "      <td>56582</td>\n",
       "      <td>3</td>\n",
       "      <td>4,1,2</td>\n",
       "      <td>23424</td>\n",
       "      <td>2</td>\n",
       "      <td>...</td>\n",
       "      <td>4</td>\n",
       "      <td>20,21,17,19</td>\n",
       "      <td>10112</td>\n",
       "      <td>4</td>\n",
       "      <td>26,71,23,25,24,22</td>\n",
       "      <td>13387</td>\n",
       "      <td>2019-01-11 18:31:22</td>\n",
       "      <td>3</td>\n",
       "      <td>703</td>\n",
       "      <td>46</td>\n",
       "    </tr>\n",
       "    <tr>\n",
       "      <th>2</th>\n",
       "      <td>4</td>\n",
       "      <td>3,4,2,1</td>\n",
       "      <td>24844</td>\n",
       "      <td>2</td>\n",
       "      <td>1,2</td>\n",
       "      <td>16019</td>\n",
       "      <td>3</td>\n",
       "      <td>4,2,1</td>\n",
       "      <td>9387</td>\n",
       "      <td>3</td>\n",
       "      <td>...</td>\n",
       "      <td>4</td>\n",
       "      <td>17,20,21,18</td>\n",
       "      <td>15522</td>\n",
       "      <td>5</td>\n",
       "      <td>25,24,22,23,26</td>\n",
       "      <td>10198</td>\n",
       "      <td>2019-01-11 18:36:29</td>\n",
       "      <td>2</td>\n",
       "      <td>1627</td>\n",
       "      <td>57</td>\n",
       "    </tr>\n",
       "    <tr>\n",
       "      <th>3</th>\n",
       "      <td>4</td>\n",
       "      <td>4,2,3,1</td>\n",
       "      <td>12188</td>\n",
       "      <td>2</td>\n",
       "      <td>1,2</td>\n",
       "      <td>13542</td>\n",
       "      <td>3</td>\n",
       "      <td>2,4,1</td>\n",
       "      <td>9309</td>\n",
       "      <td>2</td>\n",
       "      <td>...</td>\n",
       "      <td>2</td>\n",
       "      <td>17,68,20,21</td>\n",
       "      <td>8469</td>\n",
       "      <td>3</td>\n",
       "      <td>70,24,23,22,26</td>\n",
       "      <td>12241</td>\n",
       "      <td>2019-01-11 19:06:54</td>\n",
       "      <td>30</td>\n",
       "      <td>848</td>\n",
       "      <td>95</td>\n",
       "    </tr>\n",
       "    <tr>\n",
       "      <th>4</th>\n",
       "      <td>4</td>\n",
       "      <td>1,4,2,3</td>\n",
       "      <td>9023</td>\n",
       "      <td>1</td>\n",
       "      <td>1</td>\n",
       "      <td>12651</td>\n",
       "      <td>3</td>\n",
       "      <td>2,4,1</td>\n",
       "      <td>6089</td>\n",
       "      <td>2</td>\n",
       "      <td>...</td>\n",
       "      <td>2</td>\n",
       "      <td>19,20,18,69</td>\n",
       "      <td>12028</td>\n",
       "      <td>0</td>\n",
       "      <td>72,22</td>\n",
       "      <td>12396</td>\n",
       "      <td>2019-01-11 19:15:14</td>\n",
       "      <td>4</td>\n",
       "      <td>756</td>\n",
       "      <td>168</td>\n",
       "    </tr>\n",
       "  </tbody>\n",
       "</table>\n",
       "<p>5 rows × 61 columns</p>\n",
       "</div>"
      ],
      "text/plain": [
       "   VQ1s     VQ1a   VQ1e  VQ2s   VQ2a   VQ2e  VQ3s   VQ3a   VQ3e  VQ4s  ...  \\\n",
       "0     4  2,4,3,1   8382     3  3,2,1   7460     3  1,4,2   5213     3  ...   \n",
       "1     3    4,3,1  42029     3  1,2,3  56582     3  4,1,2  23424     2  ...   \n",
       "2     4  3,4,2,1  24844     2    1,2  16019     3  4,2,1   9387     3  ...   \n",
       "3     4  4,2,3,1  12188     2    1,2  13542     3  2,4,1   9309     2  ...   \n",
       "4     4  1,4,2,3   9023     1      1  12651     3  2,4,1   6089     2  ...   \n",
       "\n",
       "  MQ5s         MQ5a   MQ5e MQ6s               MQ6a   MQ6e  \\\n",
       "0    4  17,21,18,20   8540    3           26,23,22   8974   \n",
       "1    4  20,21,17,19  10112    4  26,71,23,25,24,22  13387   \n",
       "2    4  17,20,21,18  15522    5     25,24,22,23,26  10198   \n",
       "3    2  17,68,20,21   8469    3     70,24,23,22,26  12241   \n",
       "4    2  19,20,18,69  12028    0              72,22  12396   \n",
       "\n",
       "              dateload  introelapse  testelapse endelapse  \n",
       "0  2019-01-11 18:29:36            9         674        40  \n",
       "1  2019-01-11 18:31:22            3         703        46  \n",
       "2  2019-01-11 18:36:29            2        1627        57  \n",
       "3  2019-01-11 19:06:54           30         848        95  \n",
       "4  2019-01-11 19:15:14            4         756       168  \n",
       "\n",
       "[5 rows x 61 columns]"
      ]
     },
     "execution_count": 3,
     "metadata": {},
     "output_type": "execute_result"
    }
   ],
   "source": [
    "df.head()"
   ]
  },
  {
   "cell_type": "markdown",
   "id": "8fd6fd6c",
   "metadata": {},
   "source": [
    "This is data from an on-line objective test advertised as \"Full Scale IQ Test\".\n",
    "https://www.kaggle.com/mpwolke/alpha-version-iq-test/data\n",
    "\n",
    "The test had 3 sections. The first was a vocabulary test, the second had mental rotation items, and the third was a short term memory test. Each question had 8 possible answers, of which 3-5 were correct so each question was more like a composite of several questions. A demo of the test in included.\n",
    "\n",
    "For each question, multiple values are recorded. e.g. for the first vocabulary question:\n",
    "\n",
    "VQ1s\tThe individuals score on that question. +1 point for each correct answer, -1 point for each wrong answer\n",
    "VQ1a\tThe actual answers selected by the user for this question\n",
    "VQ1e\tThe elapsed time in milliseconds on this question\n",
    "\n",
    "\n",
    "The other values were also recorded:\n",
    "dateload\t\n",
    "introelapse\ttime spent on the landing page in seconds\n",
    "testelapse\ttime spent on the test page in seconds\n",
    "endelapse\ttime spent on the page where they agreed to donate their data\n",
    "\n",
    "This file only contains individuals who indicated their data was appropriate for research; records from subjects where there were indications that it was not their first time taking this were also removed."
   ]
  },
  {
   "cell_type": "code",
   "execution_count": 4,
   "id": "89429029",
   "metadata": {},
   "outputs": [],
   "source": [
    "def missing_values_table(df):\n",
    "        # Total missing values\n",
    "        mis_val = df.isnull().sum()\n",
    "        \n",
    "        # Percentage of missing values\n",
    "        mis_val_percent = 100 * df.isnull().sum() / len(df)\n",
    "        \n",
    "        # Make a table with the results\n",
    "        mis_val_table = pd.concat([mis_val, mis_val_percent], axis=1)\n",
    "        \n",
    "        # Rename the columns\n",
    "        mis_val_table_ren_columns = mis_val_table.rename(\n",
    "        columns = {0 : 'Missing Values', 1 : '% of Total Values'})\n",
    "        \n",
    "        # Sort the table by percentage of missing descending\n",
    "        mis_val_table_ren_columns = mis_val_table_ren_columns[\n",
    "            mis_val_table_ren_columns.iloc[:,1] != 0].sort_values(\n",
    "        '% of Total Values', ascending=False).round(1)\n",
    "        \n",
    "        # Print some summary information\n",
    "        print (\"Your selected dataframe has \" + str(df.shape[1]) + \" columns.\\n\"      \n",
    "            \"There are \" + str(mis_val_table_ren_columns.shape[0]) +\n",
    "              \" columns that have missing values.\")\n",
    "        \n",
    "        # Return the dataframe with missing information\n",
    "        return mis_val_table_ren_columns"
   ]
  },
  {
   "cell_type": "code",
   "execution_count": 5,
   "id": "0638ddda",
   "metadata": {},
   "outputs": [
    {
     "data": {
      "text/plain": [
       "count    3194.000000\n",
       "mean        3.251096\n",
       "std         1.084963\n",
       "min        -1.000000\n",
       "25%         3.000000\n",
       "50%         4.000000\n",
       "75%         4.000000\n",
       "max         4.000000\n",
       "Name: VQ1s, dtype: float64"
      ]
     },
     "execution_count": 5,
     "metadata": {},
     "output_type": "execute_result"
    }
   ],
   "source": [
    "df['VQ1s'].describe()"
   ]
  },
  {
   "cell_type": "code",
   "execution_count": 6,
   "id": "38509138",
   "metadata": {},
   "outputs": [
    {
     "data": {
      "text/plain": [
       "['VQ1s',\n",
       " 'VQ2s',\n",
       " 'VQ3s',\n",
       " 'VQ4s',\n",
       " 'VQ5s',\n",
       " 'VQ6s',\n",
       " 'VQ7s',\n",
       " 'RQ1s',\n",
       " 'RQ2s',\n",
       " 'RQ3s',\n",
       " 'RQ4s',\n",
       " 'RQ5s',\n",
       " 'RQ6s',\n",
       " 'MQ1s',\n",
       " 'MQ2s',\n",
       " 'MQ3s',\n",
       " 'MQ4s',\n",
       " 'MQ5s',\n",
       " 'MQ6s']"
      ]
     },
     "execution_count": 6,
     "metadata": {},
     "output_type": "execute_result"
    }
   ],
   "source": [
    "assessments = [] # we extract only columns with assessed iq tasks \n",
    "for col in df.columns:\n",
    "    if col.endswith('s'):\n",
    "        assessments.append(col)\n",
    "assessments"
   ]
  },
  {
   "cell_type": "code",
   "execution_count": 7,
   "id": "95825f14",
   "metadata": {},
   "outputs": [],
   "source": [
    "df = df[assessments]"
   ]
  },
  {
   "cell_type": "code",
   "execution_count": 8,
   "id": "54732f19",
   "metadata": {},
   "outputs": [
    {
     "data": {
      "text/html": [
       "<div>\n",
       "<style scoped>\n",
       "    .dataframe tbody tr th:only-of-type {\n",
       "        vertical-align: middle;\n",
       "    }\n",
       "\n",
       "    .dataframe tbody tr th {\n",
       "        vertical-align: top;\n",
       "    }\n",
       "\n",
       "    .dataframe thead th {\n",
       "        text-align: right;\n",
       "    }\n",
       "</style>\n",
       "<table border=\"1\" class=\"dataframe\">\n",
       "  <thead>\n",
       "    <tr style=\"text-align: right;\">\n",
       "      <th></th>\n",
       "      <th>VQ1s</th>\n",
       "      <th>VQ2s</th>\n",
       "      <th>VQ3s</th>\n",
       "      <th>VQ4s</th>\n",
       "      <th>VQ5s</th>\n",
       "      <th>VQ6s</th>\n",
       "      <th>VQ7s</th>\n",
       "      <th>RQ1s</th>\n",
       "      <th>RQ2s</th>\n",
       "      <th>RQ3s</th>\n",
       "      <th>RQ4s</th>\n",
       "      <th>RQ5s</th>\n",
       "      <th>RQ6s</th>\n",
       "      <th>MQ1s</th>\n",
       "      <th>MQ2s</th>\n",
       "      <th>MQ3s</th>\n",
       "      <th>MQ4s</th>\n",
       "      <th>MQ5s</th>\n",
       "      <th>MQ6s</th>\n",
       "    </tr>\n",
       "  </thead>\n",
       "  <tbody>\n",
       "    <tr>\n",
       "      <th>0</th>\n",
       "      <td>4</td>\n",
       "      <td>3</td>\n",
       "      <td>3</td>\n",
       "      <td>3</td>\n",
       "      <td>3</td>\n",
       "      <td>3</td>\n",
       "      <td>3</td>\n",
       "      <td>1</td>\n",
       "      <td>3</td>\n",
       "      <td>3</td>\n",
       "      <td>4</td>\n",
       "      <td>4</td>\n",
       "      <td>5</td>\n",
       "      <td>4</td>\n",
       "      <td>2</td>\n",
       "      <td>4</td>\n",
       "      <td>4</td>\n",
       "      <td>4</td>\n",
       "      <td>3</td>\n",
       "    </tr>\n",
       "    <tr>\n",
       "      <th>1</th>\n",
       "      <td>3</td>\n",
       "      <td>3</td>\n",
       "      <td>3</td>\n",
       "      <td>2</td>\n",
       "      <td>4</td>\n",
       "      <td>4</td>\n",
       "      <td>3</td>\n",
       "      <td>-1</td>\n",
       "      <td>5</td>\n",
       "      <td>4</td>\n",
       "      <td>3</td>\n",
       "      <td>4</td>\n",
       "      <td>4</td>\n",
       "      <td>4</td>\n",
       "      <td>2</td>\n",
       "      <td>3</td>\n",
       "      <td>5</td>\n",
       "      <td>4</td>\n",
       "      <td>4</td>\n",
       "    </tr>\n",
       "    <tr>\n",
       "      <th>2</th>\n",
       "      <td>4</td>\n",
       "      <td>2</td>\n",
       "      <td>3</td>\n",
       "      <td>3</td>\n",
       "      <td>3</td>\n",
       "      <td>3</td>\n",
       "      <td>3</td>\n",
       "      <td>1</td>\n",
       "      <td>4</td>\n",
       "      <td>4</td>\n",
       "      <td>4</td>\n",
       "      <td>4</td>\n",
       "      <td>4</td>\n",
       "      <td>3</td>\n",
       "      <td>3</td>\n",
       "      <td>4</td>\n",
       "      <td>5</td>\n",
       "      <td>4</td>\n",
       "      <td>5</td>\n",
       "    </tr>\n",
       "    <tr>\n",
       "      <th>3</th>\n",
       "      <td>4</td>\n",
       "      <td>2</td>\n",
       "      <td>3</td>\n",
       "      <td>2</td>\n",
       "      <td>3</td>\n",
       "      <td>4</td>\n",
       "      <td>3</td>\n",
       "      <td>3</td>\n",
       "      <td>4</td>\n",
       "      <td>4</td>\n",
       "      <td>4</td>\n",
       "      <td>4</td>\n",
       "      <td>4</td>\n",
       "      <td>4</td>\n",
       "      <td>3</td>\n",
       "      <td>4</td>\n",
       "      <td>4</td>\n",
       "      <td>2</td>\n",
       "      <td>3</td>\n",
       "    </tr>\n",
       "    <tr>\n",
       "      <th>4</th>\n",
       "      <td>4</td>\n",
       "      <td>1</td>\n",
       "      <td>3</td>\n",
       "      <td>2</td>\n",
       "      <td>3</td>\n",
       "      <td>2</td>\n",
       "      <td>3</td>\n",
       "      <td>0</td>\n",
       "      <td>2</td>\n",
       "      <td>1</td>\n",
       "      <td>4</td>\n",
       "      <td>1</td>\n",
       "      <td>2</td>\n",
       "      <td>4</td>\n",
       "      <td>2</td>\n",
       "      <td>3</td>\n",
       "      <td>3</td>\n",
       "      <td>2</td>\n",
       "      <td>0</td>\n",
       "    </tr>\n",
       "  </tbody>\n",
       "</table>\n",
       "</div>"
      ],
      "text/plain": [
       "   VQ1s  VQ2s  VQ3s  VQ4s  VQ5s  VQ6s  VQ7s  RQ1s  RQ2s  RQ3s  RQ4s  RQ5s  \\\n",
       "0     4     3     3     3     3     3     3     1     3     3     4     4   \n",
       "1     3     3     3     2     4     4     3    -1     5     4     3     4   \n",
       "2     4     2     3     3     3     3     3     1     4     4     4     4   \n",
       "3     4     2     3     2     3     4     3     3     4     4     4     4   \n",
       "4     4     1     3     2     3     2     3     0     2     1     4     1   \n",
       "\n",
       "   RQ6s  MQ1s  MQ2s  MQ3s  MQ4s  MQ5s  MQ6s  \n",
       "0     5     4     2     4     4     4     3  \n",
       "1     4     4     2     3     5     4     4  \n",
       "2     4     3     3     4     5     4     5  \n",
       "3     4     4     3     4     4     2     3  \n",
       "4     2     4     2     3     3     2     0  "
      ]
     },
     "execution_count": 8,
     "metadata": {},
     "output_type": "execute_result"
    }
   ],
   "source": [
    "df.head()"
   ]
  },
  {
   "cell_type": "code",
   "execution_count": 9,
   "id": "fce66322",
   "metadata": {
    "scrolled": true
   },
   "outputs": [
    {
     "name": "stdout",
     "output_type": "stream",
     "text": [
      "Your selected dataframe has 19 columns.\n",
      "There are 0 columns that have missing values.\n"
     ]
    },
    {
     "data": {
      "text/html": [
       "<div>\n",
       "<style scoped>\n",
       "    .dataframe tbody tr th:only-of-type {\n",
       "        vertical-align: middle;\n",
       "    }\n",
       "\n",
       "    .dataframe tbody tr th {\n",
       "        vertical-align: top;\n",
       "    }\n",
       "\n",
       "    .dataframe thead th {\n",
       "        text-align: right;\n",
       "    }\n",
       "</style>\n",
       "<table border=\"1\" class=\"dataframe\">\n",
       "  <thead>\n",
       "    <tr style=\"text-align: right;\">\n",
       "      <th></th>\n",
       "      <th>Missing Values</th>\n",
       "      <th>% of Total Values</th>\n",
       "    </tr>\n",
       "  </thead>\n",
       "  <tbody>\n",
       "  </tbody>\n",
       "</table>\n",
       "</div>"
      ],
      "text/plain": [
       "Empty DataFrame\n",
       "Columns: [Missing Values, % of Total Values]\n",
       "Index: []"
      ]
     },
     "execution_count": 9,
     "metadata": {},
     "output_type": "execute_result"
    }
   ],
   "source": [
    "df_missing= missing_values_table(df)\n",
    "df_missing"
   ]
  },
  {
   "cell_type": "code",
   "execution_count": 10,
   "id": "3873cc56",
   "metadata": {},
   "outputs": [],
   "source": [
    "from sklearn.preprocessing import StandardScaler\n",
    "\n",
    "sc = StandardScaler()\n",
    "df_std = sc.fit_transform(df)"
   ]
  },
  {
   "cell_type": "code",
   "execution_count": 11,
   "id": "76f46beb",
   "metadata": {},
   "outputs": [
    {
     "name": "stdout",
     "output_type": "stream",
     "text": [
      "\n",
      "Eigenvalues \n",
      "[11.32384655  3.10317769  2.38987079  1.53470763  0.38844001  0.4047044\n",
      "  0.43405762  0.45174528  0.56935699  0.58265879  1.26507255  0.71717052\n",
      "  0.76601852  0.80238905  0.89512253  1.13175707  1.09794158  1.07614948\n",
      "  0.97820066]\n"
     ]
    }
   ],
   "source": [
    "import numpy as np\n",
    "cov_mat = np.cov(df.T) # we create matrix of covariance\n",
    "eigen_vals, eigen_vecs = np.linalg.eig(cov_mat) # We find the eigen values and eigen vectors\n",
    "\n",
    "print('\\nEigenvalues \\n%s' % eigen_vals)"
   ]
  },
  {
   "cell_type": "code",
   "execution_count": 12,
   "id": "50a6c191",
   "metadata": {},
   "outputs": [],
   "source": [
    "tot = sum(eigen_vals)\n",
    "var_exp = [(i / tot) for i in sorted(eigen_vals, reverse=True)]\n",
    "cum_var_exp = np.cumsum(var_exp)  # we calculate the percentage of variance expleind by eigen vector (principal component)"
   ]
  },
  {
   "cell_type": "code",
   "execution_count": 13,
   "id": "52826a50",
   "metadata": {},
   "outputs": [
    {
     "data": {
      "text/plain": [
       "19"
      ]
     },
     "execution_count": 13,
     "metadata": {},
     "output_type": "execute_result"
    }
   ],
   "source": [
    "len(var_exp)"
   ]
  },
  {
   "cell_type": "code",
   "execution_count": 14,
   "id": "88e03bde",
   "metadata": {},
   "outputs": [
    {
     "data": {
      "text/plain": [
       "[0.37856712307452156,\n",
       " 0.1037422261239888,\n",
       " 0.07989568777315426,\n",
       " 0.05130675762325875,\n",
       " 0.04229259665452779,\n",
       " 0.03783573143733723,\n",
       " 0.036705247090664965,\n",
       " 0.03597671595775853,\n",
       " 0.032702192394812174,\n",
       " 0.029924810346714657,\n",
       " 0.026824640651322597,\n",
       " 0.025608738751444194,\n",
       " 0.023975702892830887,\n",
       " 0.0194788458905116,\n",
       " 0.01903415390745789,\n",
       " 0.015102280997196191,\n",
       " 0.014510965178426144,\n",
       " 0.01352965872469495,\n",
       " 0.012985924529377134]"
      ]
     },
     "execution_count": 14,
     "metadata": {},
     "output_type": "execute_result"
    }
   ],
   "source": [
    "var_exp"
   ]
  },
  {
   "cell_type": "code",
   "execution_count": 15,
   "id": "ebd5c002",
   "metadata": {},
   "outputs": [
    {
     "data": {
      "image/png": "[encoded data removed]",
      "text/plain": [
       "<Figure size 432x288 with 1 Axes>"
      ]
     },
     "metadata": {
      "needs_background": "light"
     },
     "output_type": "display_data"
    }
   ],
   "source": [
    "import matplotlib.pyplot as plt\n",
    "\n",
    "\n",
    "plt.bar(range(1, 20), var_exp, alpha=0.5, align='center',\n",
    "        label='individual explained variance')\n",
    "plt.step(range(1, 20), cum_var_exp, where='mid',\n",
    "         label='cumulative explained variance')\n",
    "plt.ylabel('Explained variance ratio')\n",
    "plt.xlabel('Principal components')\n",
    "plt.legend(loc='best')\n",
    "plt.tight_layout()\n",
    "# plt.savefig('./figures/pca1.png', dpi=300)\n",
    "plt.show()"
   ]
  },
  {
   "cell_type": "code",
   "execution_count": 16,
   "id": "48e99549",
   "metadata": {},
   "outputs": [
    {
     "data": {
      "text/plain": [
       "array([0.28627341, 0.12096431])"
      ]
     },
     "execution_count": 16,
     "metadata": {},
     "output_type": "execute_result"
    }
   ],
   "source": [
    "from sklearn.decomposition import PCA\n",
    "\n",
    "pca = PCA(n_components=2)\n",
    "df_pca2 = pca.fit_transform(df_std)\n",
    "pca.explained_variance_ratio_"
   ]
  },
  {
   "cell_type": "code",
   "execution_count": 17,
   "id": "8bdd85aa",
   "metadata": {},
   "outputs": [],
   "source": [
    "pca = PCA(n_components=2) # we want to extract two principal components\n",
    "df_pca2 = pca.fit_transform(df_std) # we get scores on two main principal components"
   ]
  },
  {
   "cell_type": "code",
   "execution_count": 18,
   "id": "10c8b133",
   "metadata": {},
   "outputs": [],
   "source": [
    "pca_data = pd.DataFrame(data=df_pca2, columns=[\"PC1\", \"PC2\"], index=df.index)"
   ]
  },
  {
   "cell_type": "code",
   "execution_count": 19,
   "id": "cd624574",
   "metadata": {},
   "outputs": [],
   "source": [
    "df_std = pd.DataFrame(df_std, columns = df.columns)\n",
    "df_all = df_std.merge(pca_data, how='inner', on = df.index)"
   ]
  },
  {
   "cell_type": "code",
   "execution_count": 20,
   "id": "cde82a5d",
   "metadata": {},
   "outputs": [],
   "source": [
    "df_all = df_all.drop('key_0', axis=1)"
   ]
  },
  {
   "cell_type": "code",
   "execution_count": 21,
   "id": "36941b56",
   "metadata": {},
   "outputs": [],
   "source": [
    "correlations = df_all.corr() # we take correlations between features and PCs"
   ]
  },
  {
   "cell_type": "code",
   "execution_count": 45,
   "id": "ff29901b",
   "metadata": {},
   "outputs": [
    {
     "data": {
      "image/png": "[encoded data removed]",
      "text/plain": [
       "<Figure size 432x288 with 2 Axes>"
      ]
     },
     "metadata": {
      "needs_background": "light"
     },
     "output_type": "display_data"
    }
   ],
   "source": [
    "import seaborn as sns\n",
    "correlations = correlations[['PC1', 'PC2']].apply(lambda x: round(x,2))\n",
    "sns.heatmap(correlations, cmap = 'autumn_r', vmin = -1, vmax=1); # from this heatmap we clearly see\n",
    "#that first component (PC1) is more correlated with manipulative tests (RQ) while second PCA2 is more connected \n",
    "#with verbal tasks"
   ]
  }
 ],
 "metadata": {
  "kernelspec": {
   "display_name": "Python 3",
   "language": "python",
   "name": "python3"
  },
  "language_info": {
   "codemirror_mode": {
    "name": "ipython",
    "version": 3
   },
   "file_extension": ".py",
   "mimetype": "text/x-python",
   "name": "python",
   "nbconvert_exporter": "python",
   "pygments_lexer": "ipython3",
   "version": "3.8.5"
  }
 },
 "nbformat": 4,
 "nbformat_minor": 5
}
