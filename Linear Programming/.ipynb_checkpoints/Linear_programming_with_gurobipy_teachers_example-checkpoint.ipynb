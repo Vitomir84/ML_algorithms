{
 "cells": [
  {
   "cell_type": "markdown",
   "id": "98a7c74a",
   "metadata": {},
   "source": [
    "### Linear programming \n",
    "Linear programming is an optimization technique for a system of linear constraints and a linear objective function. An objective function defines the quantity to be optimized, and the goal of linear programming is to find the values of the variables that maximize or minimize the objective function.\n",
    "Linear programming is useful for many problems that require an optimization of resources. It could be applied to manufacturing, to calculate how to assign labor and machinery to minimize cost of operations. It could be applied in high-level business operations, to decide which products to sell and in what quantity in order to maximize profit. It could also be applied in logistics, to decide how to apply resources to get a job done in the minimum amount of time.\n",
    "Good introduction you can use here: https://brilliant.org/wiki/linear-programming/\n",
    "\n",
    "Here we created one interesting task to illustrate LP problem."
   ]
  },
  {
   "cell_type": "code",
   "execution_count": 1,
   "id": "5cee4b45",
   "metadata": {},
   "outputs": [],
   "source": [
    "import pandas as pd\n",
    "import numpy as np\n",
    "from gurobipy import *"
   ]
  },
  {
   "cell_type": "markdown",
   "id": "8c0fb67c",
   "metadata": {},
   "source": [
    "### Task description\n",
    "Imagine you are local community officer in new suburban municipality and you need to hire teachers for new schools. You are responsible for ten schools and you have asked the teachers where they live. You have read an article that people are more motivated for a job if they do not have to travell a long way, so you want to hire teachers in the school which is the nearest to their home. Also, teachers have some salary expectations and you have some budget constraints. Every school needs one new teacher. How would you solve this? By linear programming! But, let's create some fake data first."
   ]
  },
  {
   "cell_type": "code",
   "execution_count": 2,
   "id": "f36d9dba",
   "metadata": {},
   "outputs": [],
   "source": [
    "# Let's create the list of the teachers first:\n",
    "teachers = []\n",
    "for i in range(1,101):\n",
    "    teachers.append(f'teacher_{i}')"
   ]
  },
  {
   "cell_type": "code",
   "execution_count": 3,
   "id": "78619b91",
   "metadata": {},
   "outputs": [],
   "source": [
    "#then schools\n",
    "schools = []\n",
    "for i in range(1,11):\n",
    "    schools.append(f'School_{i}')"
   ]
  },
  {
   "cell_type": "code",
   "execution_count": 4,
   "id": "c23b99da",
   "metadata": {},
   "outputs": [
    {
     "data": {
      "text/plain": [
       "1000"
      ]
     },
     "execution_count": 4,
     "metadata": {},
     "output_type": "execute_result"
    }
   ],
   "source": [
    "#now we will for each teacher and school create some fake distance that in maximum could be 20 km\n",
    "distances = []\n",
    "for teacher in teachers:\n",
    "    for school in schools:\n",
    "        distances.append(np.random.randint(2, 20, size=1))\n",
    "len(distances)   "
   ]
  },
  {
   "cell_type": "code",
   "execution_count": 5,
   "id": "24e83b14",
   "metadata": {},
   "outputs": [],
   "source": [
    "values = np.asarray(distances).reshape(100,-10)\n",
    "df = pd.DataFrame(values, index=teachers, columns = schools)"
   ]
  },
  {
   "cell_type": "code",
   "execution_count": 6,
   "id": "d620e934",
   "metadata": {
    "scrolled": true
   },
   "outputs": [
    {
     "data": {
      "text/html": [
       "<div>\n",
       "<style scoped>\n",
       "    .dataframe tbody tr th:only-of-type {\n",
       "        vertical-align: middle;\n",
       "    }\n",
       "\n",
       "    .dataframe tbody tr th {\n",
       "        vertical-align: top;\n",
       "    }\n",
       "\n",
       "    .dataframe thead th {\n",
       "        text-align: right;\n",
       "    }\n",
       "</style>\n",
       "<table border=\"1\" class=\"dataframe\">\n",
       "  <thead>\n",
       "    <tr style=\"text-align: right;\">\n",
       "      <th></th>\n",
       "      <th>School_1</th>\n",
       "      <th>School_2</th>\n",
       "      <th>School_3</th>\n",
       "      <th>School_4</th>\n",
       "      <th>School_5</th>\n",
       "      <th>School_6</th>\n",
       "      <th>School_7</th>\n",
       "      <th>School_8</th>\n",
       "      <th>School_9</th>\n",
       "      <th>School_10</th>\n",
       "    </tr>\n",
       "  </thead>\n",
       "  <tbody>\n",
       "    <tr>\n",
       "      <th>teacher_1</th>\n",
       "      <td>4</td>\n",
       "      <td>14</td>\n",
       "      <td>6</td>\n",
       "      <td>15</td>\n",
       "      <td>16</td>\n",
       "      <td>16</td>\n",
       "      <td>11</td>\n",
       "      <td>8</td>\n",
       "      <td>17</td>\n",
       "      <td>14</td>\n",
       "    </tr>\n",
       "    <tr>\n",
       "      <th>teacher_2</th>\n",
       "      <td>5</td>\n",
       "      <td>8</td>\n",
       "      <td>6</td>\n",
       "      <td>17</td>\n",
       "      <td>9</td>\n",
       "      <td>18</td>\n",
       "      <td>17</td>\n",
       "      <td>7</td>\n",
       "      <td>15</td>\n",
       "      <td>9</td>\n",
       "    </tr>\n",
       "    <tr>\n",
       "      <th>teacher_3</th>\n",
       "      <td>18</td>\n",
       "      <td>13</td>\n",
       "      <td>10</td>\n",
       "      <td>17</td>\n",
       "      <td>7</td>\n",
       "      <td>17</td>\n",
       "      <td>7</td>\n",
       "      <td>19</td>\n",
       "      <td>5</td>\n",
       "      <td>2</td>\n",
       "    </tr>\n",
       "    <tr>\n",
       "      <th>teacher_4</th>\n",
       "      <td>4</td>\n",
       "      <td>4</td>\n",
       "      <td>2</td>\n",
       "      <td>11</td>\n",
       "      <td>19</td>\n",
       "      <td>6</td>\n",
       "      <td>7</td>\n",
       "      <td>7</td>\n",
       "      <td>11</td>\n",
       "      <td>17</td>\n",
       "    </tr>\n",
       "    <tr>\n",
       "      <th>teacher_5</th>\n",
       "      <td>3</td>\n",
       "      <td>15</td>\n",
       "      <td>2</td>\n",
       "      <td>2</td>\n",
       "      <td>3</td>\n",
       "      <td>15</td>\n",
       "      <td>9</td>\n",
       "      <td>16</td>\n",
       "      <td>15</td>\n",
       "      <td>2</td>\n",
       "    </tr>\n",
       "    <tr>\n",
       "      <th>...</th>\n",
       "      <td>...</td>\n",
       "      <td>...</td>\n",
       "      <td>...</td>\n",
       "      <td>...</td>\n",
       "      <td>...</td>\n",
       "      <td>...</td>\n",
       "      <td>...</td>\n",
       "      <td>...</td>\n",
       "      <td>...</td>\n",
       "      <td>...</td>\n",
       "    </tr>\n",
       "    <tr>\n",
       "      <th>teacher_96</th>\n",
       "      <td>9</td>\n",
       "      <td>11</td>\n",
       "      <td>10</td>\n",
       "      <td>11</td>\n",
       "      <td>9</td>\n",
       "      <td>12</td>\n",
       "      <td>11</td>\n",
       "      <td>16</td>\n",
       "      <td>9</td>\n",
       "      <td>6</td>\n",
       "    </tr>\n",
       "    <tr>\n",
       "      <th>teacher_97</th>\n",
       "      <td>8</td>\n",
       "      <td>13</td>\n",
       "      <td>14</td>\n",
       "      <td>17</td>\n",
       "      <td>4</td>\n",
       "      <td>3</td>\n",
       "      <td>14</td>\n",
       "      <td>6</td>\n",
       "      <td>9</td>\n",
       "      <td>7</td>\n",
       "    </tr>\n",
       "    <tr>\n",
       "      <th>teacher_98</th>\n",
       "      <td>7</td>\n",
       "      <td>15</td>\n",
       "      <td>15</td>\n",
       "      <td>17</td>\n",
       "      <td>10</td>\n",
       "      <td>11</td>\n",
       "      <td>5</td>\n",
       "      <td>17</td>\n",
       "      <td>17</td>\n",
       "      <td>12</td>\n",
       "    </tr>\n",
       "    <tr>\n",
       "      <th>teacher_99</th>\n",
       "      <td>13</td>\n",
       "      <td>15</td>\n",
       "      <td>11</td>\n",
       "      <td>14</td>\n",
       "      <td>12</td>\n",
       "      <td>3</td>\n",
       "      <td>11</td>\n",
       "      <td>6</td>\n",
       "      <td>3</td>\n",
       "      <td>15</td>\n",
       "    </tr>\n",
       "    <tr>\n",
       "      <th>teacher_100</th>\n",
       "      <td>18</td>\n",
       "      <td>7</td>\n",
       "      <td>17</td>\n",
       "      <td>6</td>\n",
       "      <td>10</td>\n",
       "      <td>3</td>\n",
       "      <td>8</td>\n",
       "      <td>15</td>\n",
       "      <td>16</td>\n",
       "      <td>16</td>\n",
       "    </tr>\n",
       "  </tbody>\n",
       "</table>\n",
       "<p>100 rows × 10 columns</p>\n",
       "</div>"
      ],
      "text/plain": [
       "             School_1  School_2  School_3  School_4  School_5  School_6  \\\n",
       "teacher_1           4        14         6        15        16        16   \n",
       "teacher_2           5         8         6        17         9        18   \n",
       "teacher_3          18        13        10        17         7        17   \n",
       "teacher_4           4         4         2        11        19         6   \n",
       "teacher_5           3        15         2         2         3        15   \n",
       "...               ...       ...       ...       ...       ...       ...   \n",
       "teacher_96          9        11        10        11         9        12   \n",
       "teacher_97          8        13        14        17         4         3   \n",
       "teacher_98          7        15        15        17        10        11   \n",
       "teacher_99         13        15        11        14        12         3   \n",
       "teacher_100        18         7        17         6        10         3   \n",
       "\n",
       "             School_7  School_8  School_9  School_10  \n",
       "teacher_1          11         8        17         14  \n",
       "teacher_2          17         7        15          9  \n",
       "teacher_3           7        19         5          2  \n",
       "teacher_4           7         7        11         17  \n",
       "teacher_5           9        16        15          2  \n",
       "...               ...       ...       ...        ...  \n",
       "teacher_96         11        16         9          6  \n",
       "teacher_97         14         6         9          7  \n",
       "teacher_98          5        17        17         12  \n",
       "teacher_99         11         6         3         15  \n",
       "teacher_100         8        15        16         16  \n",
       "\n",
       "[100 rows x 10 columns]"
      ]
     },
     "execution_count": 6,
     "metadata": {},
     "output_type": "execute_result"
    }
   ],
   "source": [
    "df"
   ]
  },
  {
   "cell_type": "code",
   "execution_count": 7,
   "id": "90c61ca1",
   "metadata": {},
   "outputs": [],
   "source": [
    "#At the end, let's add some fake salary expectaitons for each teacher, maximal teacher salary could be 8000 dollars\n",
    "salary_expectation = []\n",
    "for i in range(1,101):\n",
    "    salary_expectation.append(np.random.randint(8000, size=1))\n",
    "salary_expectation = np.asarray(salary_expectation).reshape(100,)"
   ]
  },
  {
   "cell_type": "code",
   "execution_count": 8,
   "id": "1bf97aef",
   "metadata": {},
   "outputs": [],
   "source": [
    "salary_pd = pd.Series(salary_expectation, index = df.index)"
   ]
  },
  {
   "cell_type": "code",
   "execution_count": 9,
   "id": "b9cc896d",
   "metadata": {},
   "outputs": [],
   "source": [
    "df['salary_expectation'] = salary_pd"
   ]
  },
  {
   "cell_type": "code",
   "execution_count": 10,
   "id": "842630c9",
   "metadata": {},
   "outputs": [],
   "source": [
    "#We must also calculate total distance for each teacher which we will use for objective function (we sum all school distances for each teacher)\n",
    "df['total_distance'] = df.iloc[:,:-2].sum(axis=1)"
   ]
  },
  {
   "cell_type": "code",
   "execution_count": 11,
   "id": "4225aaec",
   "metadata": {},
   "outputs": [
    {
     "data": {
      "text/html": [
       "<div>\n",
       "<style scoped>\n",
       "    .dataframe tbody tr th:only-of-type {\n",
       "        vertical-align: middle;\n",
       "    }\n",
       "\n",
       "    .dataframe tbody tr th {\n",
       "        vertical-align: top;\n",
       "    }\n",
       "\n",
       "    .dataframe thead th {\n",
       "        text-align: right;\n",
       "    }\n",
       "</style>\n",
       "<table border=\"1\" class=\"dataframe\">\n",
       "  <thead>\n",
       "    <tr style=\"text-align: right;\">\n",
       "      <th></th>\n",
       "      <th>School_1</th>\n",
       "      <th>School_2</th>\n",
       "      <th>School_3</th>\n",
       "      <th>School_4</th>\n",
       "      <th>School_5</th>\n",
       "      <th>School_6</th>\n",
       "      <th>School_7</th>\n",
       "      <th>School_8</th>\n",
       "      <th>School_9</th>\n",
       "      <th>School_10</th>\n",
       "      <th>salary_expectation</th>\n",
       "      <th>total_distance</th>\n",
       "    </tr>\n",
       "  </thead>\n",
       "  <tbody>\n",
       "    <tr>\n",
       "      <th>teacher_1</th>\n",
       "      <td>4</td>\n",
       "      <td>14</td>\n",
       "      <td>6</td>\n",
       "      <td>15</td>\n",
       "      <td>16</td>\n",
       "      <td>16</td>\n",
       "      <td>11</td>\n",
       "      <td>8</td>\n",
       "      <td>17</td>\n",
       "      <td>14</td>\n",
       "      <td>5820</td>\n",
       "      <td>107</td>\n",
       "    </tr>\n",
       "    <tr>\n",
       "      <th>teacher_2</th>\n",
       "      <td>5</td>\n",
       "      <td>8</td>\n",
       "      <td>6</td>\n",
       "      <td>17</td>\n",
       "      <td>9</td>\n",
       "      <td>18</td>\n",
       "      <td>17</td>\n",
       "      <td>7</td>\n",
       "      <td>15</td>\n",
       "      <td>9</td>\n",
       "      <td>1251</td>\n",
       "      <td>102</td>\n",
       "    </tr>\n",
       "    <tr>\n",
       "      <th>teacher_3</th>\n",
       "      <td>18</td>\n",
       "      <td>13</td>\n",
       "      <td>10</td>\n",
       "      <td>17</td>\n",
       "      <td>7</td>\n",
       "      <td>17</td>\n",
       "      <td>7</td>\n",
       "      <td>19</td>\n",
       "      <td>5</td>\n",
       "      <td>2</td>\n",
       "      <td>1815</td>\n",
       "      <td>113</td>\n",
       "    </tr>\n",
       "    <tr>\n",
       "      <th>teacher_4</th>\n",
       "      <td>4</td>\n",
       "      <td>4</td>\n",
       "      <td>2</td>\n",
       "      <td>11</td>\n",
       "      <td>19</td>\n",
       "      <td>6</td>\n",
       "      <td>7</td>\n",
       "      <td>7</td>\n",
       "      <td>11</td>\n",
       "      <td>17</td>\n",
       "      <td>6253</td>\n",
       "      <td>71</td>\n",
       "    </tr>\n",
       "    <tr>\n",
       "      <th>teacher_5</th>\n",
       "      <td>3</td>\n",
       "      <td>15</td>\n",
       "      <td>2</td>\n",
       "      <td>2</td>\n",
       "      <td>3</td>\n",
       "      <td>15</td>\n",
       "      <td>9</td>\n",
       "      <td>16</td>\n",
       "      <td>15</td>\n",
       "      <td>2</td>\n",
       "      <td>4521</td>\n",
       "      <td>80</td>\n",
       "    </tr>\n",
       "  </tbody>\n",
       "</table>\n",
       "</div>"
      ],
      "text/plain": [
       "           School_1  School_2  School_3  School_4  School_5  School_6  \\\n",
       "teacher_1         4        14         6        15        16        16   \n",
       "teacher_2         5         8         6        17         9        18   \n",
       "teacher_3        18        13        10        17         7        17   \n",
       "teacher_4         4         4         2        11        19         6   \n",
       "teacher_5         3        15         2         2         3        15   \n",
       "\n",
       "           School_7  School_8  School_9  School_10  salary_expectation  \\\n",
       "teacher_1        11         8        17         14                5820   \n",
       "teacher_2        17         7        15          9                1251   \n",
       "teacher_3         7        19         5          2                1815   \n",
       "teacher_4         7         7        11         17                6253   \n",
       "teacher_5         9        16        15          2                4521   \n",
       "\n",
       "           total_distance  \n",
       "teacher_1             107  \n",
       "teacher_2             102  \n",
       "teacher_3             113  \n",
       "teacher_4              71  \n",
       "teacher_5              80  "
      ]
     },
     "execution_count": 11,
     "metadata": {},
     "output_type": "execute_result"
    }
   ],
   "source": [
    "df.head()"
   ]
  },
  {
   "cell_type": "code",
   "execution_count": 12,
   "id": "d7a0780e",
   "metadata": {},
   "outputs": [
    {
     "name": "stdout",
     "output_type": "stream",
     "text": [
      "Restricted license - for non-production use only - expires 2023-10-25\n"
     ]
    }
   ],
   "source": [
    "#Declare and initialise the model\n",
    "#Resource Assignment problem - RAP\n",
    "#Four components of the model: data, desicion variables, constraints and objective function\n",
    "\n",
    "m = Model('RAP')"
   ]
  },
  {
   "cell_type": "code",
   "execution_count": 13,
   "id": "a88a4862",
   "metadata": {},
   "outputs": [
    {
     "data": {
      "text/plain": [
       "[('teacher_1', 'School_1'),\n",
       " ('teacher_1', 'School_2'),\n",
       " ('teacher_1', 'School_3'),\n",
       " ('teacher_1', 'School_4'),\n",
       " ('teacher_1', 'School_5'),\n",
       " ('teacher_1', 'School_6'),\n",
       " ('teacher_1', 'School_7'),\n",
       " ('teacher_1', 'School_8'),\n",
       " ('teacher_1', 'School_9'),\n",
       " ('teacher_1', 'School_10')]"
      ]
     },
     "execution_count": 13,
     "metadata": {},
     "output_type": "execute_result"
    }
   ],
   "source": [
    "from itertools import product\n",
    "\n",
    "combinations = list(product(teachers, schools))\n",
    "combinations[:10]"
   ]
  },
  {
   "cell_type": "code",
   "execution_count": 14,
   "id": "2848adfd",
   "metadata": {},
   "outputs": [],
   "source": [
    "# x is our decistion variable, in this case it could be only 1 (meaning this teacher goes to this school) or 0 (not assigned to this school)\n",
    "# in combinations we created all possible combinations of each teacher and each school\n",
    "x = m.addVars(combinations, name='assign')"
   ]
  },
  {
   "cell_type": "code",
   "execution_count": 15,
   "id": "c5848965",
   "metadata": {},
   "outputs": [],
   "source": [
    "#now we create constraint that teacher can be assigned only to one school\n",
    "jobs = m.addConstrs((x.sum('*',school)==1 for school in schools), 'job')"
   ]
  },
  {
   "cell_type": "code",
   "execution_count": 16,
   "id": "994b6046",
   "metadata": {},
   "outputs": [],
   "source": [
    "# for all teachers in the list of teachers with index j must be less 1, i.e. some teachers could not be chosen\n",
    "#teachers must be assigned maximum to 1 job, but it could happen teacher will not be chosen at all if he or she lives to far\n",
    "# or have unrealistic salary expectation\n",
    "resources = m.addConstrs((x.sum(teacher,'*')<=1 for teacher in teachers), 'teacher')"
   ]
  },
  {
   "cell_type": "code",
   "execution_count": 17,
   "id": "72dbc863",
   "metadata": {},
   "outputs": [],
   "source": [
    "# just transform salary expectation to dict for gurobypi for budget constraint \n",
    "cost = {}\n",
    "for i, teacher in enumerate(teachers):\n",
    "    for j, school in enumerate(schools):\n",
    "        cost[(teacher,school)] = df['salary_expectation'][i]"
   ]
  },
  {
   "cell_type": "code",
   "execution_count": 18,
   "id": "d0d2e27a",
   "metadata": {},
   "outputs": [],
   "source": [
    "#We also have some budget constraint. Out total budget is 400 000 dolars. So salary expectations of selected teachers\n",
    "#must not exceed 4000 000 dollars.\n",
    "budget = 400000\n",
    "budget = m.addConstr((x.prod(cost)<=budget), 'budget')"
   ]
  },
  {
   "cell_type": "code",
   "execution_count": 19,
   "id": "857957ff",
   "metadata": {},
   "outputs": [],
   "source": [
    "# now we transpose our pandas data frame in multidict gurobipy could use \n",
    "obj_func = {}\n",
    "for i, teacher in enumerate(teachers):\n",
    "    for j, school in enumerate(schools):\n",
    "        obj_func[(teacher,school)] = df.iloc[i,j]"
   ]
  },
  {
   "cell_type": "code",
   "execution_count": 20,
   "id": "2b3ef173",
   "metadata": {},
   "outputs": [
    {
     "data": {
      "text/plain": [
       "1000"
      ]
     },
     "execution_count": 20,
     "metadata": {},
     "output_type": "execute_result"
    }
   ],
   "source": [
    "len(obj_func)"
   ]
  },
  {
   "cell_type": "code",
   "execution_count": 22,
   "id": "2f6c5aec",
   "metadata": {},
   "outputs": [],
   "source": [
    "#Now we should define our objective function. It is a distance for each teacher from each school. We want to minimize it.\n",
    "m.setObjective(x.prod(obj_func), GRB.MINIMIZE)"
   ]
  },
  {
   "cell_type": "code",
   "execution_count": 28,
   "id": "7ac74dda",
   "metadata": {},
   "outputs": [],
   "source": [
    "#We can save our model\n",
    "# save model for inspection - you can see it in folder of this task.\n",
    "m.write('TEACHERS.lp')"
   ]
  },
  {
   "cell_type": "code",
   "execution_count": 24,
   "id": "1a935ccc",
   "metadata": {},
   "outputs": [
    {
     "name": "stdout",
     "output_type": "stream",
     "text": [
      "Gurobi Optimizer version 9.5.0 build v9.5.0rc5 (mac64[x86])\n",
      "Thread count: 4 physical cores, 8 logical processors, using up to 8 threads\n",
      "Optimize a model with 111 rows, 1000 columns and 3000 nonzeros\n",
      "Model fingerprint: 0xf363be96\n",
      "Coefficient statistics:\n",
      "  Matrix range     [1e+00, 8e+03]\n",
      "  Objective range  [2e+00, 2e+01]\n",
      "  Bounds range     [0e+00, 0e+00]\n",
      "  RHS range        [1e+00, 4e+05]\n",
      "Presolve time: 0.01s\n",
      "Presolved: 111 rows, 1000 columns, 3000 nonzeros\n",
      "\n",
      "Iteration    Objective       Primal Inf.    Dual Inf.      Time\n",
      "       0    0.0000000e+00   4.000000e+01   0.000000e+00      0s\n",
      "      10    2.0000000e+01   0.000000e+00   0.000000e+00      0s\n",
      "\n",
      "Solved in 10 iterations and 0.01 seconds (0.00 work units)\n",
      "Optimal objective  2.000000000e+01\n"
     ]
    }
   ],
   "source": [
    "# run optimisation engine\n",
    "m.optimize()"
   ]
  },
  {
   "cell_type": "code",
   "execution_count": 25,
   "id": "7d7a13ac",
   "metadata": {},
   "outputs": [
    {
     "name": "stdout",
     "output_type": "stream",
     "text": [
      "assign[teacher_6,School_2] 1.0\n",
      "assign[teacher_12,School_1] 1.0\n",
      "assign[teacher_16,School_6] 1.0\n",
      "assign[teacher_38,School_8] 1.0\n",
      "assign[teacher_54,School_7] 1.0\n",
      "assign[teacher_61,School_10] 1.0\n",
      "assign[teacher_66,School_3] 1.0\n",
      "assign[teacher_72,School_9] 1.0\n",
      "assign[teacher_85,School_5] 1.0\n",
      "assign[teacher_94,School_4] 1.0\n"
     ]
    }
   ],
   "source": [
    "#display optimal values of desicion variables:\n",
    "#we print which teachers our solver selected for each school\n",
    "for var in m.getVars():\n",
    "    if var.x==1:\n",
    "        print(var.varName, var.x)"
   ]
  },
  {
   "cell_type": "code",
   "execution_count": 26,
   "id": "b32b30a7",
   "metadata": {},
   "outputs": [],
   "source": [
    "#We basically solved the problem. Teacher 6 goes to school 2, teacher 12 to school 1, etc. \n",
    "#Maybe we could see values of our objective function:"
   ]
  },
  {
   "cell_type": "code",
   "execution_count": 27,
   "id": "d13c08eb",
   "metadata": {},
   "outputs": [
    {
     "name": "stdout",
     "output_type": "stream",
     "text": [
      "total optimised distance 20.0\n",
      "average distance of all teachers 92.86\n"
     ]
    }
   ],
   "source": [
    "#display optimal matching score\n",
    "print('total optimised distance', m.ObjVal)\n",
    "print('average distance of all teachers', df['total_distance'].mean())"
   ]
  },
  {
   "cell_type": "markdown",
   "id": "4ab7a7e7",
   "metadata": {},
   "source": [
    "It was easy for our solver to solve this. It is easy problem. Imagine now that we have 100 schools and 1000 teachers. The procedure would be completely the same.  "
   ]
  }
 ],
 "metadata": {
  "kernelspec": {
   "display_name": "Python 3 (ipykernel)",
   "language": "python",
   "name": "python3"
  },
  "language_info": {
   "codemirror_mode": {
    "name": "ipython",
    "version": 3
   },
   "file_extension": ".py",
   "mimetype": "text/x-python",
   "name": "python",
   "nbconvert_exporter": "python",
   "pygments_lexer": "ipython3",
   "version": "3.8.5"
  }
 },
 "nbformat": 4,
 "nbformat_minor": 5
}
