{
 "cells": [
  {
   "cell_type": "markdown",
   "id": "88c96633",
   "metadata": {},
   "source": [
    "### XGBoost\n",
    "XGBoost is an implementation of gradient boosted decision trees designed for speed and performance.\n",
    "Boosting is an ensemble technique where new models are added to correct the errors made by existing models. Models are added sequentially until no further improvements can be made. A popular example is the AdaBoost algorithm that weights data points that are hard to predict.\n",
    "\n",
    "Gradient boosting is an approach where new models are created that predict the residuals or errors of prior models and then added together to make the final prediction. It is called gradient boosting because it uses a gradient descent algorithm to minimize the loss when adding new models.\n",
    "We will use toy data set: https://www.kaggle.com/mohammeddagga/eda-toy-dataset"
   ]
  },
  {
   "cell_type": "code",
   "execution_count": 1,
   "id": "813a3f46",
   "metadata": {},
   "outputs": [],
   "source": [
    "import xgboost as xgb\n",
    "import pandas as pd\n",
    "import numpy as np\n",
    "from sklearn.utils import shuffle\n",
    "from sklearn.metrics import confusion_matrix, mean_squared_error, classification_report\n",
    "from sklearn.model_selection import KFold, train_test_split, GridSearchCV\n",
    "from sklearn.metrics import ConfusionMatrixDisplay\n",
    "from sklearn.preprocessing import OneHotEncoder"
   ]
  },
  {
   "cell_type": "code",
   "execution_count": 2,
   "id": "c9832976",
   "metadata": {},
   "outputs": [
    {
     "data": {
      "text/html": [
       "<div>\n",
       "<style scoped>\n",
       "    .dataframe tbody tr th:only-of-type {\n",
       "        vertical-align: middle;\n",
       "    }\n",
       "\n",
       "    .dataframe tbody tr th {\n",
       "        vertical-align: top;\n",
       "    }\n",
       "\n",
       "    .dataframe thead th {\n",
       "        text-align: right;\n",
       "    }\n",
       "</style>\n",
       "<table border=\"1\" class=\"dataframe\">\n",
       "  <thead>\n",
       "    <tr style=\"text-align: right;\">\n",
       "      <th></th>\n",
       "      <th>Number</th>\n",
       "      <th>City</th>\n",
       "      <th>Gender</th>\n",
       "      <th>Age</th>\n",
       "      <th>Income</th>\n",
       "      <th>Illness</th>\n",
       "    </tr>\n",
       "  </thead>\n",
       "  <tbody>\n",
       "    <tr>\n",
       "      <th>0</th>\n",
       "      <td>1</td>\n",
       "      <td>Dallas</td>\n",
       "      <td>Male</td>\n",
       "      <td>41</td>\n",
       "      <td>40367.0</td>\n",
       "      <td>No</td>\n",
       "    </tr>\n",
       "    <tr>\n",
       "      <th>1</th>\n",
       "      <td>2</td>\n",
       "      <td>Dallas</td>\n",
       "      <td>Male</td>\n",
       "      <td>54</td>\n",
       "      <td>45084.0</td>\n",
       "      <td>No</td>\n",
       "    </tr>\n",
       "    <tr>\n",
       "      <th>2</th>\n",
       "      <td>3</td>\n",
       "      <td>Dallas</td>\n",
       "      <td>Male</td>\n",
       "      <td>42</td>\n",
       "      <td>52483.0</td>\n",
       "      <td>No</td>\n",
       "    </tr>\n",
       "    <tr>\n",
       "      <th>3</th>\n",
       "      <td>4</td>\n",
       "      <td>Dallas</td>\n",
       "      <td>Male</td>\n",
       "      <td>40</td>\n",
       "      <td>40941.0</td>\n",
       "      <td>No</td>\n",
       "    </tr>\n",
       "    <tr>\n",
       "      <th>4</th>\n",
       "      <td>5</td>\n",
       "      <td>Dallas</td>\n",
       "      <td>Male</td>\n",
       "      <td>46</td>\n",
       "      <td>50289.0</td>\n",
       "      <td>No</td>\n",
       "    </tr>\n",
       "  </tbody>\n",
       "</table>\n",
       "</div>"
      ],
      "text/plain": [
       "   Number    City Gender  Age   Income Illness\n",
       "0       1  Dallas   Male   41  40367.0      No\n",
       "1       2  Dallas   Male   54  45084.0      No\n",
       "2       3  Dallas   Male   42  52483.0      No\n",
       "3       4  Dallas   Male   40  40941.0      No\n",
       "4       5  Dallas   Male   46  50289.0      No"
      ]
     },
     "execution_count": 2,
     "metadata": {},
     "output_type": "execute_result"
    }
   ],
   "source": [
    "df = pd.read_csv('toy_dataset.csv')\n",
    "df.head()"
   ]
  },
  {
   "cell_type": "code",
   "execution_count": 3,
   "id": "efc87e19",
   "metadata": {},
   "outputs": [],
   "source": [
    "def encode_and_bind(original_dataframe, feature_to_encode):\n",
    "    dummies = pd.get_dummies(original_dataframe[[feature_to_encode]])\n",
    "    res = pd.concat([original_dataframe, dummies], axis=1)\n",
    "    return(res)\n",
    "\n",
    "df = encode_and_bind(df, 'City')"
   ]
  },
  {
   "cell_type": "code",
   "execution_count": 7,
   "id": "25d6e595",
   "metadata": {},
   "outputs": [],
   "source": [
    "illness = {'No':0, 'Yes':1}\n",
    "gender = {'Male': 1, 'Female':2}\n",
    "\n",
    "df['Illness'] = df['Illness'].map(illness)\n",
    "df['Gender'] = df['Gender'].map(gender)\n",
    "\n",
    "df = df.drop(['Number', 'City'], axis =1)\n"
   ]
  },
  {
   "cell_type": "code",
   "execution_count": 8,
   "id": "e63a7fd9",
   "metadata": {},
   "outputs": [],
   "source": [
    "df = shuffle(df) # we have to shuffle data set becease the ill people are at the end of the dataset"
   ]
  },
  {
   "cell_type": "code",
   "execution_count": 9,
   "id": "ded5ea29",
   "metadata": {},
   "outputs": [],
   "source": [
    "X = np.asarray(df.drop('Illness', axis =1))"
   ]
  },
  {
   "cell_type": "code",
   "execution_count": 10,
   "id": "17ab4ee3",
   "metadata": {},
   "outputs": [],
   "source": [
    "y = np.asarray(df['Illness'])"
   ]
  },
  {
   "cell_type": "code",
   "execution_count": 11,
   "id": "daaae30e",
   "metadata": {},
   "outputs": [],
   "source": [
    "from sklearn.model_selection import train_test_split\n",
    "X_train, X_test, y_train, y_test = train_test_split(X, y, test_size=0.30, random_state=101)"
   ]
  },
  {
   "cell_type": "code",
   "execution_count": 20,
   "id": "12ce4b8d",
   "metadata": {},
   "outputs": [
    {
     "name": "stdout",
     "output_type": "stream",
     "text": [
      "Fitting 5 folds for each of 9 candidates, totalling 45 fits\n",
      "best score:  0.9195047619047619\n",
      "best parameters: {'max_depth': 2, 'n_estimators': 50}\n"
     ]
    }
   ],
   "source": [
    "# we run the xgb model with early stoping and we make a small grid search\n",
    "\n",
    "xgb_model = xgb.XGBClassifier(n_jobs=1)\n",
    "clf = GridSearchCV(xgb_model,\n",
    "                   {'max_depth': [2, 4, 6],\n",
    "                    'n_estimators': [50, 100, 200]}, verbose=1, n_jobs=1)\n",
    "clf.fit(X_train, y_train)\n",
    "print('best score: ',clf.best_score_)\n",
    "print('best parameters:', clf.best_params_)"
   ]
  },
  {
   "cell_type": "code",
   "execution_count": 25,
   "id": "484c3a84",
   "metadata": {},
   "outputs": [
    {
     "name": "stdout",
     "output_type": "stream",
     "text": [
      "[0]\tvalidation_0-auc:0.50000\n",
      "Will train until validation_0-auc hasn't improved in 10 rounds.\n",
      "[1]\tvalidation_0-auc:0.50000\n",
      "[2]\tvalidation_0-auc:0.50000\n",
      "[3]\tvalidation_0-auc:0.50000\n",
      "[4]\tvalidation_0-auc:0.50000\n",
      "[5]\tvalidation_0-auc:0.50000\n",
      "[6]\tvalidation_0-auc:0.49760\n",
      "[7]\tvalidation_0-auc:0.49760\n",
      "[8]\tvalidation_0-auc:0.49760\n",
      "[9]\tvalidation_0-auc:0.49621\n",
      "[10]\tvalidation_0-auc:0.49639\n",
      "Stopping. Best iteration:\n",
      "[0]\tvalidation_0-auc:0.50000\n",
      "\n",
      "[[41313     0]\n",
      " [ 3687     0]]\n"
     ]
    }
   ],
   "source": [
    "final_xgb_model =  xgb.XGBClassifier(n_estimators=50, max_depth=2, learning_rate=0.1).fit(X_train, y_train, early_stopping_rounds=10, eval_metric=\"auc\",\n",
    "        eval_set=[(X_test, y_test)])\n",
    "predictions = final_xgb_model.predict(X_test)\n",
    "print(confusion_matrix(y_test, predictions))"
   ]
  },
  {
   "cell_type": "code",
   "execution_count": 26,
   "id": "63fb7b38",
   "metadata": {},
   "outputs": [
    {
     "data": {
      "text/plain": [
       "0.08193333333333333"
      ]
     },
     "execution_count": 26,
     "metadata": {},
     "output_type": "execute_result"
    }
   ],
   "source": [
    "mean_squared_error(y_test, predictions)"
   ]
  },
  {
   "cell_type": "code",
   "execution_count": 27,
   "id": "a597edd2",
   "metadata": {},
   "outputs": [
    {
     "data": {
      "image/png": "[encoded data removed]",
      "text/plain": [
       "<Figure size 432x288 with 1 Axes>"
      ]
     },
     "metadata": {
      "needs_background": "light"
     },
     "output_type": "display_data"
    }
   ],
   "source": [
    "xgb.plot_importance(final_xgb_model); # age and income are the best predictor of illness"
   ]
  },
  {
   "cell_type": "code",
   "execution_count": 28,
   "id": "aac6d029",
   "metadata": {},
   "outputs": [
    {
     "data": {
      "image/svg+xml": [
       "<?xml version=\"1.0\" encoding=\"UTF-8\" standalone=\"no\"?>\n",
       "<!DOCTYPE svg PUBLIC \"-//W3C//DTD SVG 1.1//EN\"\n",
       " \"http://www.w3.org/Graphics/SVG/1.1/DTD/svg11.dtd\">\n",
       "<!-- Generated by graphviz version 2.40.1 (20161225.0304)\n",
       " -->\n",
       "<!-- Title: %3 Pages: 1 -->\n",
       "<svg width=\"214pt\" height=\"131pt\"\n",
       " viewBox=\"0.00 0.00 213.59 131.00\" xmlns=\"http://www.w3.org/2000/svg\" xmlns:xlink=\"http://www.w3.org/1999/xlink\">\n",
       "<g id=\"graph0\" class=\"graph\" transform=\"scale(1 1) rotate(0) translate(4 127)\">\n",
       "<title>%3</title>\n",
       "<polygon fill=\"#ffffff\" stroke=\"transparent\" points=\"-4,4 -4,-127 209.5917,-127 209.5917,4 -4,4\"/>\n",
       "<!-- 0 -->\n",
       "<g id=\"node1\" class=\"node\">\n",
       "<title>0</title>\n",
       "<ellipse fill=\"none\" stroke=\"#000000\" cx=\"86.5473\" cy=\"-105\" rx=\"38.9931\" ry=\"18\"/>\n",
       "<text text-anchor=\"middle\" x=\"86.5473\" y=\"-101.3\" font-family=\"Times,serif\" font-size=\"14.00\" fill=\"#000000\">f2&lt;3254.5</text>\n",
       "</g>\n",
       "<!-- 1 -->\n",
       "<g id=\"node2\" class=\"node\">\n",
       "<title>1</title>\n",
       "<ellipse fill=\"none\" stroke=\"#000000\" cx=\"30.5473\" cy=\"-18\" rx=\"30.5947\" ry=\"18\"/>\n",
       "<text text-anchor=\"middle\" x=\"30.5473\" y=\"-14.3\" font-family=\"Times,serif\" font-size=\"14.00\" fill=\"#000000\">leaf=&#45;0</text>\n",
       "</g>\n",
       "<!-- 0&#45;&gt;1 -->\n",
       "<g id=\"edge1\" class=\"edge\">\n",
       "<title>0&#45;&gt;1</title>\n",
       "<path fill=\"none\" stroke=\"#0000ff\" d=\"M75.2149,-87.3943C67.14,-74.8494 56.1575,-57.7873 47.1033,-43.7209\"/>\n",
       "<polygon fill=\"#0000ff\" stroke=\"#0000ff\" points=\"49.8373,-41.5018 41.4818,-34.9875 43.9512,-45.2905 49.8373,-41.5018\"/>\n",
       "<text text-anchor=\"middle\" x=\"88.5473\" y=\"-57.8\" font-family=\"Times,serif\" font-size=\"14.00\" fill=\"#000000\">yes, missing</text>\n",
       "</g>\n",
       "<!-- 2 -->\n",
       "<g id=\"node3\" class=\"node\">\n",
       "<title>2</title>\n",
       "<ellipse fill=\"none\" stroke=\"#000000\" cx=\"142.5473\" cy=\"-18\" rx=\"63.0888\" ry=\"18\"/>\n",
       "<text text-anchor=\"middle\" x=\"142.5473\" y=\"-14.3\" font-family=\"Times,serif\" font-size=\"14.00\" fill=\"#000000\">leaf=&#45;0.139592096</text>\n",
       "</g>\n",
       "<!-- 0&#45;&gt;2 -->\n",
       "<g id=\"edge2\" class=\"edge\">\n",
       "<title>0&#45;&gt;2</title>\n",
       "<path fill=\"none\" stroke=\"#ff0000\" d=\"M102.9117,-88.6045C108.2868,-82.719 114.034,-75.8402 118.5473,-69 123.3749,-61.6834 127.7625,-53.2427 131.4271,-45.3605\"/>\n",
       "<polygon fill=\"#ff0000\" stroke=\"#ff0000\" points=\"134.6634,-46.6961 135.5193,-36.1359 128.2648,-43.8575 134.6634,-46.6961\"/>\n",
       "<text text-anchor=\"middle\" x=\"132.0473\" y=\"-57.8\" font-family=\"Times,serif\" font-size=\"14.00\" fill=\"#000000\">no</text>\n",
       "</g>\n",
       "</g>\n",
       "</svg>\n"
      ],
      "text/plain": [
       "<graphviz.files.Source at 0x7ff374b54520>"
      ]
     },
     "execution_count": 28,
     "metadata": {},
     "output_type": "execute_result"
    }
   ],
   "source": [
    "xgb.to_graphviz(final_xgb_model, num_trees=2)"
   ]
  },
  {
   "cell_type": "code",
   "execution_count": 29,
   "id": "e90a8dba",
   "metadata": {},
   "outputs": [
    {
     "name": "stdout",
     "output_type": "stream",
     "text": [
      "              precision    recall  f1-score   support\n",
      "\n",
      "     Healthy       0.92      1.00      0.96     41313\n",
      "         Ill       0.00      0.00      0.00      3687\n",
      "\n",
      "    accuracy                           0.92     45000\n",
      "   macro avg       0.46      0.50      0.48     45000\n",
      "weighted avg       0.84      0.92      0.88     45000\n",
      "\n"
     ]
    }
   ],
   "source": [
    "import warnings\n",
    "warnings.filterwarnings(\"ignore\")\n",
    "print(classification_report(y_test, predictions, target_names=['Healthy', 'Ill']))"
   ]
  },
  {
   "cell_type": "code",
   "execution_count": 30,
   "id": "168d3e61",
   "metadata": {},
   "outputs": [
    {
     "data": {
      "image/png": "[encoded data removed]",
      "text/plain": [
       "<Figure size 432x288 with 2 Axes>"
      ]
     },
     "metadata": {
      "needs_background": "light"
     },
     "output_type": "display_data"
    }
   ],
   "source": [
    "np.set_printoptions(precision=2)\n",
    "\n",
    "cm = confusion_matrix(y_test, predictions, labels=final_xgb_model.classes_)\n",
    "disp = ConfusionMatrixDisplay(confusion_matrix=cm,\n",
    "                           display_labels=final_xgb_model.classes_)\n",
    "disp.plot(); # this model is so poor probably becease there are no valid predictors for predicting illness, \n",
    "# illness in nomraly distributed through age and income"
   ]
  },
  {
   "cell_type": "code",
   "execution_count": 31,
   "id": "8aef9f1c",
   "metadata": {},
   "outputs": [
    {
     "data": {
      "image/png": "[encoded data removed]",
      "text/plain": [
       "<Figure size 720x360 with 1 Axes>"
      ]
     },
     "metadata": {
      "needs_background": "light"
     },
     "output_type": "display_data"
    }
   ],
   "source": [
    "import matplotlib.pyplot as plt\n",
    "import seaborn as sns\n",
    "plt.figure(figsize=(10,5))\n",
    "sns.distplot(df[df[\"Illness\"] == 0][\"Age\"], color=\"g\", label = 'Healthy')\n",
    "sns.distplot(df[df[\"Illness\"] == 1][\"Age\"], color=\"r\", label = 'Ill')\n",
    "plt.legend()\n",
    "plt.title(\"Income distribution - Illness:Yes\")\n",
    "plt.show()"
   ]
  },
  {
   "cell_type": "code",
   "execution_count": 33,
   "id": "59dd2bab",
   "metadata": {},
   "outputs": [
    {
     "data": {
      "image/png": "[encoded data removed]",
      "text/plain": [
       "<Figure size 720x360 with 1 Axes>"
      ]
     },
     "metadata": {
      "needs_background": "light"
     },
     "output_type": "display_data"
    }
   ],
   "source": [
    "import matplotlib.pyplot as plt\n",
    "import seaborn as sns\n",
    "plt.figure(figsize=(10,5))\n",
    "sns.distplot(df[df[\"Illness\"] == 0][\"Income\"], color=\"g\", label = 'Healthy')\n",
    "sns.distplot(df[df[\"Illness\"] == 1][\"Income\"], color=\"r\", label = 'Ill')\n",
    "plt.legend()\n",
    "plt.title(\"Income distribution - Illness:Yes\")\n",
    "plt.show() # there are no predictors in this dataset that could differentiate Healthy and Ill"
   ]
  }
 ],
 "metadata": {
  "kernelspec": {
   "display_name": "Python 3",
   "language": "python",
   "name": "python3"
  },
  "language_info": {
   "codemirror_mode": {
    "name": "ipython",
    "version": 3
   },
   "file_extension": ".py",
   "mimetype": "text/x-python",
   "name": "python",
   "nbconvert_exporter": "python",
   "pygments_lexer": "ipython3",
   "version": "3.8.5"
  }
 },
 "nbformat": 4,
 "nbformat_minor": 5
}
