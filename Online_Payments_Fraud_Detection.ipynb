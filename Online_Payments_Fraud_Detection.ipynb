{
 "cells": [
  {
   "cell_type": "markdown",
   "id": "bcd0d0a7",
   "metadata": {},
   "source": [
    "# Fraud Detection - imbalanced data set"
   ]
  },
  {
   "cell_type": "markdown",
   "id": "9b0fa7dd",
   "metadata": {},
   "source": [
    "Accuracy is not the best metric to use when evaluating imbalanced datasets as it can be\n",
    "misleading.\n",
    "Metrics that can provide better insight are:\n",
    "\n",
    "Confusion Matrix: a table showing correct predictions and types of incorrect\n",
    "predictions.\n",
    "\n",
    "Precision: the number of true positives divided by all positive predictions. Precision is\n",
    "also called Positive Predictive Value. It is a measure of a classifier’s exactness. Low\n",
    "precision indicates a high number of false positives.\n",
    "\n",
    "\n",
    "Recall: the number of true positives divided by the number of positive values in the\n",
    "test data. The recall is also called Sensitivity or the True Positive Rate. It is a measure of\n",
    "a classifier’s completeness. Low recall indicates a high number of false negatives.\n",
    "\n",
    "F1: Score: the weighted average of precision and recall.\n",
    "\n",
    "Area Under ROC Curve (AUROC): AUROC represents the likelihood of your model\n",
    "distinguishing observations from two classes.\n",
    "\n",
    "In other words, if you randomly select one observation from each class, what’s the\n",
    "probability that your model will be able to “rank” them correctly?"
   ]
  },
  {
   "cell_type": "markdown",
   "id": "7998c295",
   "metadata": {},
   "source": [
    "recall = TP/(TP+FN)\n",
    "\n",
    "precision = TP/(TP+FP)\n",
    "\n",
    "F1 = 2TP/(2TP + FP + FN)"
   ]
  },
  {
   "cell_type": "markdown",
   "id": "afb4b41b",
   "metadata": {},
   "source": [
    "Data download: https://www.kaggle.com/ealaxi/paysim1"
   ]
  },
  {
   "cell_type": "markdown",
   "id": "d6eb363e",
   "metadata": {},
   "source": [
    "step: represents a unit of time where 1 step equals 1 hour\n",
    "\n",
    "type: type of online transaction\n",
    "\n",
    "amount: the amount of the transaction\n",
    "\n",
    "nameOrig: customer starting the transaction\n",
    "\n",
    "oldbalanceOrg: balance before the transaction\n",
    "\n",
    "newbalanceOrig: balance after the transaction\n",
    "\n",
    "nameDest: recipient of the transaction\n",
    "\n",
    "oldbalanceDest: initial balance of recipient before the transaction\n",
    "\n",
    "newbalanceDest: the new balance of recipient after the transaction\n",
    "\n",
    "isFraud: fraud transaction"
   ]
  },
  {
   "cell_type": "code",
   "execution_count": 1,
   "id": "98601537",
   "metadata": {
    "ExecuteTime": {
     "end_time": "2022-03-16T11:39:16.316264Z",
     "start_time": "2022-03-16T11:39:13.750716Z"
    }
   },
   "outputs": [],
   "source": [
    "import pandas as pd\n",
    "from sklearn.utils import shuffle\n",
    "import matplotlib.pyplot as plt\n",
    "import seaborn as sns\n",
    "import numpy as np\n",
    "from sklearn.model_selection import train_test_split\n",
    "from sklearn.tree import DecisionTreeClassifier\n",
    "from sklearn.ensemble import RandomForestClassifier\n",
    "from sklearn.model_selection import GridSearchCV\n",
    "from sklearn import metrics\n",
    "# import library\n",
    "from imblearn.over_sampling import SMOTE, ADASYN\n",
    "from collections import Counter\n",
    "from sklearn.metrics import precision_recall_curve\n",
    "from sklearn.metrics import auc\n",
    "from sklearn.svm import SVC"
   ]
  },
  {
   "cell_type": "code",
   "execution_count": 2,
   "id": "88f1965a",
   "metadata": {
    "ExecuteTime": {
     "end_time": "2022-03-16T11:39:25.328200Z",
     "start_time": "2022-03-16T11:39:16.318254Z"
    }
   },
   "outputs": [],
   "source": [
    "\n",
    "df = pd.read_csv('online_payment.csv')"
   ]
  },
  {
   "cell_type": "code",
   "execution_count": 3,
   "id": "68fc50f3",
   "metadata": {
    "ExecuteTime": {
     "end_time": "2022-03-16T11:39:25.336470Z",
     "start_time": "2022-03-16T11:39:25.330247Z"
    }
   },
   "outputs": [
    {
     "data": {
      "text/plain": [
       "6362620"
      ]
     },
     "execution_count": 3,
     "metadata": {},
     "output_type": "execute_result"
    }
   ],
   "source": [
    "len(df)"
   ]
  },
  {
   "cell_type": "code",
   "execution_count": 4,
   "id": "9a6c4c35",
   "metadata": {
    "ExecuteTime": {
     "end_time": "2022-03-16T11:39:30.430530Z",
     "start_time": "2022-03-16T11:39:25.340001Z"
    }
   },
   "outputs": [],
   "source": [
    "\n",
    "df = shuffle(df)"
   ]
  },
  {
   "cell_type": "code",
   "execution_count": 5,
   "id": "0d7d3887",
   "metadata": {
    "ExecuteTime": {
     "end_time": "2022-03-16T11:39:31.364204Z",
     "start_time": "2022-03-16T11:39:30.432935Z"
    }
   },
   "outputs": [],
   "source": [
    "#skracujemo df zbog brzine kompjutacije\n",
    "df = df[:10000].copy()"
   ]
  },
  {
   "cell_type": "code",
   "execution_count": 6,
   "id": "1a180c76",
   "metadata": {
    "ExecuteTime": {
     "end_time": "2022-03-16T11:39:31.385195Z",
     "start_time": "2022-03-16T11:39:31.366107Z"
    }
   },
   "outputs": [
    {
     "data": {
      "text/html": [
       "<div>\n",
       "<style scoped>\n",
       "    .dataframe tbody tr th:only-of-type {\n",
       "        vertical-align: middle;\n",
       "    }\n",
       "\n",
       "    .dataframe tbody tr th {\n",
       "        vertical-align: top;\n",
       "    }\n",
       "\n",
       "    .dataframe thead th {\n",
       "        text-align: right;\n",
       "    }\n",
       "</style>\n",
       "<table border=\"1\" class=\"dataframe\">\n",
       "  <thead>\n",
       "    <tr style=\"text-align: right;\">\n",
       "      <th></th>\n",
       "      <th>step</th>\n",
       "      <th>type</th>\n",
       "      <th>amount</th>\n",
       "      <th>nameOrig</th>\n",
       "      <th>oldbalanceOrg</th>\n",
       "      <th>newbalanceOrig</th>\n",
       "      <th>nameDest</th>\n",
       "      <th>oldbalanceDest</th>\n",
       "      <th>newbalanceDest</th>\n",
       "      <th>isFraud</th>\n",
       "      <th>isFlaggedFraud</th>\n",
       "    </tr>\n",
       "  </thead>\n",
       "  <tbody>\n",
       "    <tr>\n",
       "      <th>5669568</th>\n",
       "      <td>397</td>\n",
       "      <td>CASH_IN</td>\n",
       "      <td>433408.37</td>\n",
       "      <td>C835348408</td>\n",
       "      <td>2419695.96</td>\n",
       "      <td>2853104.33</td>\n",
       "      <td>C1201502112</td>\n",
       "      <td>494056.13</td>\n",
       "      <td>60647.76</td>\n",
       "      <td>0</td>\n",
       "      <td>0</td>\n",
       "    </tr>\n",
       "    <tr>\n",
       "      <th>1123783</th>\n",
       "      <td>130</td>\n",
       "      <td>PAYMENT</td>\n",
       "      <td>12279.84</td>\n",
       "      <td>C1067156612</td>\n",
       "      <td>0.00</td>\n",
       "      <td>0.00</td>\n",
       "      <td>M1900540586</td>\n",
       "      <td>0.00</td>\n",
       "      <td>0.00</td>\n",
       "      <td>0</td>\n",
       "      <td>0</td>\n",
       "    </tr>\n",
       "    <tr>\n",
       "      <th>2787478</th>\n",
       "      <td>215</td>\n",
       "      <td>CASH_IN</td>\n",
       "      <td>233926.77</td>\n",
       "      <td>C2003896896</td>\n",
       "      <td>23429022.22</td>\n",
       "      <td>23662948.99</td>\n",
       "      <td>C1690854648</td>\n",
       "      <td>3518650.14</td>\n",
       "      <td>3284723.37</td>\n",
       "      <td>0</td>\n",
       "      <td>0</td>\n",
       "    </tr>\n",
       "    <tr>\n",
       "      <th>2885058</th>\n",
       "      <td>228</td>\n",
       "      <td>PAYMENT</td>\n",
       "      <td>1815.73</td>\n",
       "      <td>C2052715617</td>\n",
       "      <td>10.64</td>\n",
       "      <td>0.00</td>\n",
       "      <td>M1159486157</td>\n",
       "      <td>0.00</td>\n",
       "      <td>0.00</td>\n",
       "      <td>0</td>\n",
       "      <td>0</td>\n",
       "    </tr>\n",
       "    <tr>\n",
       "      <th>3485254</th>\n",
       "      <td>258</td>\n",
       "      <td>CASH_IN</td>\n",
       "      <td>213277.82</td>\n",
       "      <td>C1092220025</td>\n",
       "      <td>14653082.80</td>\n",
       "      <td>14866360.62</td>\n",
       "      <td>C915798851</td>\n",
       "      <td>278131.83</td>\n",
       "      <td>64854.01</td>\n",
       "      <td>0</td>\n",
       "      <td>0</td>\n",
       "    </tr>\n",
       "  </tbody>\n",
       "</table>\n",
       "</div>"
      ],
      "text/plain": [
       "         step     type     amount     nameOrig  oldbalanceOrg  newbalanceOrig  \\\n",
       "5669568   397  CASH_IN  433408.37   C835348408     2419695.96      2853104.33   \n",
       "1123783   130  PAYMENT   12279.84  C1067156612           0.00            0.00   \n",
       "2787478   215  CASH_IN  233926.77  C2003896896    23429022.22     23662948.99   \n",
       "2885058   228  PAYMENT    1815.73  C2052715617          10.64            0.00   \n",
       "3485254   258  CASH_IN  213277.82  C1092220025    14653082.80     14866360.62   \n",
       "\n",
       "            nameDest  oldbalanceDest  newbalanceDest  isFraud  isFlaggedFraud  \n",
       "5669568  C1201502112       494056.13        60647.76        0               0  \n",
       "1123783  M1900540586            0.00            0.00        0               0  \n",
       "2787478  C1690854648      3518650.14      3284723.37        0               0  \n",
       "2885058  M1159486157            0.00            0.00        0               0  \n",
       "3485254   C915798851       278131.83        64854.01        0               0  "
      ]
     },
     "execution_count": 6,
     "metadata": {},
     "output_type": "execute_result"
    }
   ],
   "source": [
    "df.head()"
   ]
  },
  {
   "cell_type": "code",
   "execution_count": 7,
   "id": "ffa1c4e1",
   "metadata": {
    "ExecuteTime": {
     "end_time": "2022-03-16T11:39:31.403978Z",
     "start_time": "2022-03-16T11:39:31.386635Z"
    }
   },
   "outputs": [
    {
     "name": "stdout",
     "output_type": "stream",
     "text": [
      "step              0\n",
      "type              0\n",
      "amount            0\n",
      "nameOrig          0\n",
      "oldbalanceOrg     0\n",
      "newbalanceOrig    0\n",
      "nameDest          0\n",
      "oldbalanceDest    0\n",
      "newbalanceDest    0\n",
      "isFraud           0\n",
      "isFlaggedFraud    0\n",
      "dtype: int64\n"
     ]
    }
   ],
   "source": [
    "print(df.isnull().sum())"
   ]
  },
  {
   "cell_type": "code",
   "execution_count": 8,
   "id": "8ea6b318",
   "metadata": {
    "ExecuteTime": {
     "end_time": "2022-03-16T11:39:31.677229Z",
     "start_time": "2022-03-16T11:39:31.405872Z"
    }
   },
   "outputs": [
    {
     "data": {
      "image/png": "[encoded data removed]",
      "text/plain": [
       "<Figure size 432x432 with 1 Axes>"
      ]
     },
     "metadata": {},
     "output_type": "display_data"
    }
   ],
   "source": [
    "\n",
    "plt.figure(figsize=(6,6))\n",
    "df['type'].value_counts().plot(kind='pie');"
   ]
  },
  {
   "cell_type": "code",
   "execution_count": 9,
   "id": "b6823614",
   "metadata": {
    "ExecuteTime": {
     "end_time": "2022-03-16T11:39:31.742127Z",
     "start_time": "2022-03-16T11:39:31.678627Z"
    }
   },
   "outputs": [
    {
     "data": {
      "image/png": "[encoded data removed]",
      "text/plain": [
       "<Figure size 432x432 with 1 Axes>"
      ]
     },
     "metadata": {},
     "output_type": "display_data"
    }
   ],
   "source": [
    "plt.figure(figsize=(6,6))\n",
    "df['isFraud'].value_counts().plot(kind='pie');"
   ]
  },
  {
   "cell_type": "code",
   "execution_count": 10,
   "id": "e1ee9034",
   "metadata": {
    "ExecuteTime": {
     "end_time": "2022-03-16T11:39:31.770364Z",
     "start_time": "2022-03-16T11:39:31.746264Z"
    }
   },
   "outputs": [
    {
     "data": {
      "text/html": [
       "<div>\n",
       "<style scoped>\n",
       "    .dataframe tbody tr th:only-of-type {\n",
       "        vertical-align: middle;\n",
       "    }\n",
       "\n",
       "    .dataframe tbody tr th {\n",
       "        vertical-align: top;\n",
       "    }\n",
       "\n",
       "    .dataframe thead th {\n",
       "        text-align: right;\n",
       "    }\n",
       "</style>\n",
       "<table border=\"1\" class=\"dataframe\">\n",
       "  <thead>\n",
       "    <tr style=\"text-align: right;\">\n",
       "      <th></th>\n",
       "      <th>step</th>\n",
       "      <th>amount</th>\n",
       "      <th>oldbalanceOrg</th>\n",
       "      <th>newbalanceOrig</th>\n",
       "      <th>oldbalanceDest</th>\n",
       "      <th>newbalanceDest</th>\n",
       "      <th>isFlaggedFraud</th>\n",
       "    </tr>\n",
       "    <tr>\n",
       "      <th>isFraud</th>\n",
       "      <th></th>\n",
       "      <th></th>\n",
       "      <th></th>\n",
       "      <th></th>\n",
       "      <th></th>\n",
       "      <th></th>\n",
       "      <th></th>\n",
       "    </tr>\n",
       "  </thead>\n",
       "  <tbody>\n",
       "    <tr>\n",
       "      <th>0</th>\n",
       "      <td>244.994290</td>\n",
       "      <td>1.775314e+05</td>\n",
       "      <td>8.285171e+05</td>\n",
       "      <td>854570.854016</td>\n",
       "      <td>1.150025e+06</td>\n",
       "      <td>1.268324e+06</td>\n",
       "      <td>0.0</td>\n",
       "    </tr>\n",
       "    <tr>\n",
       "      <th>1</th>\n",
       "      <td>480.176471</td>\n",
       "      <td>2.174782e+06</td>\n",
       "      <td>2.298897e+06</td>\n",
       "      <td>124115.733529</td>\n",
       "      <td>4.944892e+05</td>\n",
       "      <td>1.444960e+06</td>\n",
       "      <td>0.0</td>\n",
       "    </tr>\n",
       "  </tbody>\n",
       "</table>\n",
       "</div>"
      ],
      "text/plain": [
       "               step        amount  oldbalanceOrg  newbalanceOrig  \\\n",
       "isFraud                                                            \n",
       "0        244.994290  1.775314e+05   8.285171e+05   854570.854016   \n",
       "1        480.176471  2.174782e+06   2.298897e+06   124115.733529   \n",
       "\n",
       "         oldbalanceDest  newbalanceDest  isFlaggedFraud  \n",
       "isFraud                                                  \n",
       "0          1.150025e+06    1.268324e+06             0.0  \n",
       "1          4.944892e+05    1.444960e+06             0.0  "
      ]
     },
     "execution_count": 10,
     "metadata": {},
     "output_type": "execute_result"
    }
   ],
   "source": [
    "df.groupby('isFraud').mean()"
   ]
  },
  {
   "cell_type": "code",
   "execution_count": 11,
   "id": "e2ba6e36",
   "metadata": {
    "ExecuteTime": {
     "end_time": "2022-03-16T11:39:31.780276Z",
     "start_time": "2022-03-16T11:39:31.772666Z"
    }
   },
   "outputs": [
    {
     "name": "stdout",
     "output_type": "stream",
     "text": [
      "isFraud           1.000000\n",
      "amount            0.124241\n",
      "step              0.067899\n",
      "oldbalanceOrg     0.021031\n",
      "newbalanceDest    0.001751\n",
      "oldbalanceDest   -0.007067\n",
      "newbalanceOrig   -0.010327\n",
      "isFlaggedFraud         NaN\n",
      "Name: isFraud, dtype: float64\n"
     ]
    }
   ],
   "source": [
    "correlation = df.corr()\n",
    "print(correlation[\"isFraud\"].sort_values(ascending=False))"
   ]
  },
  {
   "cell_type": "code",
   "execution_count": 12,
   "id": "2b17112c",
   "metadata": {
    "ExecuteTime": {
     "end_time": "2022-03-16T11:39:32.245178Z",
     "start_time": "2022-03-16T11:39:31.781700Z"
    }
   },
   "outputs": [
    {
     "data": {
      "image/png": "[encoded data removed]",
      "text/plain": [
       "<Figure size 432x432 with 2 Axes>"
      ]
     },
     "metadata": {
      "needs_background": "light"
     },
     "output_type": "display_data"
    }
   ],
   "source": [
    "plt.figure(figsize=(6,6))\n",
    "sns.heatmap(correlation, vmin=-1, vmax=1, annot=True,fmt='.1g', cmap='RdBu', robust=True #center=True)\n",
    "           );"
   ]
  },
  {
   "cell_type": "markdown",
   "id": "0538dd14",
   "metadata": {},
   "source": [
    "### Random forest model uz pomoc Grid Search"
   ]
  },
  {
   "cell_type": "code",
   "execution_count": 13,
   "id": "4227e72b",
   "metadata": {
    "ExecuteTime": {
     "end_time": "2022-03-16T11:39:32.257466Z",
     "start_time": "2022-03-16T11:39:32.247355Z"
    }
   },
   "outputs": [
    {
     "name": "stdout",
     "output_type": "stream",
     "text": [
      "         step  type     amount     nameOrig  oldbalanceOrg  newbalanceOrig  \\\n",
      "5669568   397     3  433408.37   C835348408     2419695.96      2853104.33   \n",
      "1123783   130     2   12279.84  C1067156612           0.00            0.00   \n",
      "2787478   215     3  233926.77  C2003896896    23429022.22     23662948.99   \n",
      "2885058   228     2    1815.73  C2052715617          10.64            0.00   \n",
      "3485254   258     3  213277.82  C1092220025    14653082.80     14866360.62   \n",
      "\n",
      "            nameDest  oldbalanceDest  newbalanceDest  isFraud  isFlaggedFraud  \n",
      "5669568  C1201502112       494056.13        60647.76        0               0  \n",
      "1123783  M1900540586            0.00            0.00        0               0  \n",
      "2787478  C1690854648      3518650.14      3284723.37        0               0  \n",
      "2885058  M1159486157            0.00            0.00        0               0  \n",
      "3485254   C915798851       278131.83        64854.01        0               0  \n"
     ]
    }
   ],
   "source": [
    "df[\"type\"] = df[\"type\"].map({\"CASH_OUT\": 1, \"PAYMENT\": 2, \n",
    "                                 \"CASH_IN\": 3, \"TRANSFER\": 4,\n",
    "                                 \"DEBIT\": 5})\n",
    "# df[\"isFraud\"] = df[\"isFraud\"].map({0: \"No Fraud\", 1: \"Fraud\"})\n",
    "print(df.head())"
   ]
  },
  {
   "cell_type": "code",
   "execution_count": 14,
   "id": "1d2ad817",
   "metadata": {
    "ExecuteTime": {
     "end_time": "2022-03-16T11:39:32.265311Z",
     "start_time": "2022-03-16T11:39:32.259650Z"
    }
   },
   "outputs": [
    {
     "data": {
      "text/plain": [
       "0    9983\n",
       "1      17\n",
       "Name: isFraud, dtype: int64"
      ]
     },
     "execution_count": 14,
     "metadata": {},
     "output_type": "execute_result"
    }
   ],
   "source": [
    "df[\"isFraud\"].value_counts()"
   ]
  },
  {
   "cell_type": "code",
   "execution_count": 15,
   "id": "3d67260e",
   "metadata": {
    "ExecuteTime": {
     "end_time": "2022-03-16T11:39:32.275578Z",
     "start_time": "2022-03-16T11:39:32.267025Z"
    }
   },
   "outputs": [],
   "source": [
    "\n",
    "df['diffORG'] = df['newbalanceOrig'] - df['oldbalanceOrg']\n",
    "df['diffDEST'] = df['newbalanceDest'] - df['oldbalanceDest']\n",
    "x = np.array(df[[\"type\", \"amount\", \"oldbalanceOrg\", \"newbalanceOrig\", 'diffDEST', 'diffORG', 'newbalanceDest', 'oldbalanceDest']])\n",
    "y = np.array(df[[\"isFraud\"]])\n",
    "x, y = shuffle(x, y)"
   ]
  },
  {
   "cell_type": "code",
   "execution_count": 16,
   "id": "1984a873",
   "metadata": {
    "ExecuteTime": {
     "end_time": "2022-03-16T11:39:32.281233Z",
     "start_time": "2022-03-16T11:39:32.276816Z"
    }
   },
   "outputs": [],
   "source": [
    "x_train, x_test, y_train, y_test = train_test_split(x, y, test_size=0.10, random_state=42)"
   ]
  },
  {
   "cell_type": "code",
   "execution_count": 17,
   "id": "848be3f1",
   "metadata": {
    "ExecuteTime": {
     "end_time": "2022-03-16T11:39:32.313718Z",
     "start_time": "2022-03-16T11:39:32.282645Z"
    }
   },
   "outputs": [
    {
     "name": "stdout",
     "output_type": "stream",
     "text": [
      "0.999\n"
     ]
    }
   ],
   "source": [
    "\n",
    "\n",
    "model = DecisionTreeClassifier()\n",
    "model.fit(x_train, y_train)\n",
    "print(model.score(x_test, y_test))"
   ]
  },
  {
   "cell_type": "code",
   "execution_count": 18,
   "id": "68b7944c",
   "metadata": {
    "ExecuteTime": {
     "end_time": "2022-03-16T11:39:32.317602Z",
     "start_time": "2022-03-16T11:39:32.315109Z"
    }
   },
   "outputs": [],
   "source": [
    "# parameters for GridSearch\n",
    "parameters = {'criterion':('gini', 'entropy'), 'n_estimators':[200, 300], 'max_depth':[2,7], 'max_leaf_nodes':[2,15]}"
   ]
  },
  {
   "cell_type": "code",
   "execution_count": 19,
   "id": "815b37b7",
   "metadata": {
    "ExecuteTime": {
     "end_time": "2022-03-16T11:39:32.321865Z",
     "start_time": "2022-03-16T11:39:32.319335Z"
    }
   },
   "outputs": [],
   "source": [
    "rf_model = RandomForestClassifier()\n",
    "best_rf_model = GridSearchCV(rf_model, parameters)"
   ]
  },
  {
   "cell_type": "code",
   "execution_count": 20,
   "id": "09020060",
   "metadata": {
    "ExecuteTime": {
     "end_time": "2022-03-16T11:39:32.325635Z",
     "start_time": "2022-03-16T11:39:32.323532Z"
    },
    "scrolled": true
   },
   "outputs": [],
   "source": [
    "#pokrecemo gridsearch\n",
    "y_train = y_train.reshape(-1)\n",
    "# best_rf_model.fit(x_train, y_train)"
   ]
  },
  {
   "cell_type": "code",
   "execution_count": 21,
   "id": "2bac06f7",
   "metadata": {
    "ExecuteTime": {
     "end_time": "2022-03-16T11:39:32.328974Z",
     "start_time": "2022-03-16T11:39:32.327062Z"
    }
   },
   "outputs": [],
   "source": [
    "# sorted(best_rf_model.cv_results_.keys())"
   ]
  },
  {
   "cell_type": "code",
   "execution_count": 22,
   "id": "b41cb762",
   "metadata": {
    "ExecuteTime": {
     "end_time": "2022-03-16T11:39:32.332501Z",
     "start_time": "2022-03-16T11:39:32.330415Z"
    }
   },
   "outputs": [],
   "source": [
    "# print(\" Results from Grid Search \" )\n",
    "# print(\"\\n The best estimator across ALL searched params:\\n\",best_rf_model.best_estimator_)\n",
    "# print(\"\\n The best score across ALL searched params:\\n\",best_rf_model.best_score_)\n",
    "# print(\"\\n The best parameters across ALL searched params:\\n\",best_rf_model.best_params_)"
   ]
  },
  {
   "cell_type": "markdown",
   "id": "fd757d50",
   "metadata": {},
   "source": [
    " Results from Grid Search \n",
    "\n",
    " The best estimator across ALL searched params:\n",
    " RandomForestClassifier(max_depth=7, max_leaf_nodes=15, n_estimators=200)\n",
    "\n",
    " The best score across ALL searched params:\n",
    " 0.9987777777777778\n",
    "\n",
    " The best parameters across ALL searched params:\n",
    " {'criterion': 'gini', 'max_depth': 7, 'max_leaf_nodes': 15, 'n_estimators': 200}"
   ]
  },
  {
   "cell_type": "markdown",
   "id": "6e126938",
   "metadata": {},
   "source": [
    "### Plotovanje greske u zavinosti od hiperparametara modela"
   ]
  },
  {
   "cell_type": "code",
   "execution_count": 23,
   "id": "f740bcbd",
   "metadata": {
    "ExecuteTime": {
     "end_time": "2022-03-16T11:39:33.140114Z",
     "start_time": "2022-03-16T11:39:32.333947Z"
    }
   },
   "outputs": [
    {
     "name": "stdout",
     "output_type": "stream",
     "text": [
      "precision:  1.0\n",
      "recall:  0.5\n",
      "f1:  0.6666666666666666\n"
     ]
    }
   ],
   "source": [
    "y_train = y_train.reshape(-1)\n",
    "rf_model = RandomForestClassifier(max_depth=7, max_leaf_nodes = 15, n_estimators=200)\n",
    "rf_model.fit(x_train, y_train)\n",
    "y_pred = rf_model.predict(x_test)\n",
    "\n",
    "print('precision: ', metrics.precision_score(y_test,y_pred))\n",
    "print('recall: ', metrics.recall_score(y_test,y_pred))\n",
    "print('f1: ', metrics.f1_score(y_test,y_pred))"
   ]
  },
  {
   "cell_type": "code",
   "execution_count": 24,
   "id": "4e51f99e",
   "metadata": {
    "ExecuteTime": {
     "end_time": "2022-03-16T11:39:33.144855Z",
     "start_time": "2022-03-16T11:39:33.142344Z"
    }
   },
   "outputs": [],
   "source": [
    "# y_pred"
   ]
  },
  {
   "cell_type": "markdown",
   "id": "cd26db09",
   "metadata": {
    "ExecuteTime": {
     "start_time": "2022-03-14T09:46:23.101Z"
    }
   },
   "source": []
  },
  {
   "cell_type": "markdown",
   "id": "d0ca98e2",
   "metadata": {},
   "source": [
    "### Pokusavamo oversampling"
   ]
  },
  {
   "cell_type": "code",
   "execution_count": 25,
   "id": "82237418",
   "metadata": {
    "ExecuteTime": {
     "end_time": "2022-03-16T11:39:33.155804Z",
     "start_time": "2022-03-16T11:39:33.146990Z"
    }
   },
   "outputs": [],
   "source": [
    "df['diffORG'] = df['newbalanceOrig'] - df['oldbalanceOrg']\n",
    "df['diffDEST'] = df['newbalanceDest'] - df['oldbalanceDest']\n",
    "x = np.array(df[[\"type\", \"amount\", \"oldbalanceOrg\", \"newbalanceOrig\", 'diffDEST', 'diffORG', 'newbalanceDest', 'oldbalanceDest']])\n",
    "y = np.array(df[[\"isFraud\"]])\n",
    "x, y = shuffle(x, y)"
   ]
  },
  {
   "cell_type": "code",
   "execution_count": 26,
   "id": "5eadbf8c",
   "metadata": {
    "ExecuteTime": {
     "end_time": "2022-03-16T11:39:33.174400Z",
     "start_time": "2022-03-16T11:39:33.157560Z"
    }
   },
   "outputs": [
    {
     "name": "stdout",
     "output_type": "stream",
     "text": [
      "Original dataset shape Counter({0: 9983, 1: 17})\n",
      "Resample dataset shape Counter({0: 9983, 1: 9983})\n"
     ]
    }
   ],
   "source": [
    "X_resampled, y_resampled = SMOTE().fit_resample(x, y)\n",
    "# fit predictor and target variable\n",
    "print('Original dataset shape', Counter(pd.Series(y.reshape(-1))))\n",
    "print('Resample dataset shape', Counter(pd.Series(y_resampled.reshape(-1))))"
   ]
  },
  {
   "cell_type": "code",
   "execution_count": 27,
   "id": "7f10852e",
   "metadata": {
    "ExecuteTime": {
     "end_time": "2022-03-16T11:39:33.179720Z",
     "start_time": "2022-03-16T11:39:33.175761Z"
    }
   },
   "outputs": [],
   "source": [
    "df_resampled = pd.DataFrame(X_resampled, columns = [\"type\", \"amount\", \"oldbalanceOrg\", \"newbalanceOrig\", 'diffDEST', 'diffORG', 'newbalanceDest', 'oldbalanceDest'])\n",
    "df_resampled['isFraud'] = pd.Series(y_resampled)"
   ]
  },
  {
   "cell_type": "code",
   "execution_count": 28,
   "id": "63e3f12d",
   "metadata": {
    "ExecuteTime": {
     "end_time": "2022-03-16T11:39:33.404045Z",
     "start_time": "2022-03-16T11:39:33.186479Z"
    }
   },
   "outputs": [
    {
     "data": {
      "image/png": "[encoded data removed]",
      "text/plain": [
       "<Figure size 432x288 with 1 Axes>"
      ]
     },
     "metadata": {
      "needs_background": "light"
     },
     "output_type": "display_data"
    }
   ],
   "source": [
    "plt.scatter(df[df['isFraud']==0]['diffORG'], df[df['isFraud']==0]['diffDEST'], label = 'Regular')\n",
    "plt.scatter(df[df['isFraud']==1]['diffORG'], df[df['isFraud']==1]['diffDEST'], label = 'Frauds')\n",
    "plt.xlabel('diffORF')\n",
    "plt.ylabel('diffDEST')\n",
    "plt.title('Regular data')\n",
    "plt.legend();"
   ]
  },
  {
   "cell_type": "code",
   "execution_count": 29,
   "id": "7d0b7b56",
   "metadata": {
    "ExecuteTime": {
     "end_time": "2022-03-16T11:39:33.684084Z",
     "start_time": "2022-03-16T11:39:33.405967Z"
    }
   },
   "outputs": [
    {
     "data": {
      "image/png": "[encoded data removed]",
      "text/plain": [
       "<Figure size 432x288 with 1 Axes>"
      ]
     },
     "metadata": {
      "needs_background": "light"
     },
     "output_type": "display_data"
    }
   ],
   "source": [
    "plt.scatter(df_resampled[df_resampled['isFraud']==0]['diffORG'], df_resampled[df_resampled['isFraud']==0]['diffDEST'], label = 'Regular')\n",
    "plt.scatter(df_resampled[df_resampled['isFraud']==1]['diffORG'], df_resampled[df_resampled['isFraud']==1]['diffDEST'], label = 'Frauds')\n",
    "plt.xlabel('diffORF')\n",
    "plt.ylabel('diffDEST')\n",
    "plt.title('SMOTE oversampled data')\n",
    "plt.legend();"
   ]
  },
  {
   "cell_type": "markdown",
   "id": "05d5a25b",
   "metadata": {},
   "source": [
    "Uzimamo parametere za najbolji model iz grid search-a"
   ]
  },
  {
   "cell_type": "code",
   "execution_count": 30,
   "id": "7a048a6c",
   "metadata": {
    "ExecuteTime": {
     "end_time": "2022-03-16T11:39:38.218505Z",
     "start_time": "2022-03-16T11:39:33.686299Z"
    }
   },
   "outputs": [
    {
     "data": {
      "text/plain": [
       "RandomForestClassifier(max_depth=7, max_leaf_nodes=20, n_estimators=500)"
      ]
     },
     "execution_count": 30,
     "metadata": {},
     "output_type": "execute_result"
    }
   ],
   "source": [
    "x_train, x_test, y_train, y_test = train_test_split(X_resampled, y_resampled, test_size=0.10, random_state=42)\n",
    "rf = RandomForestClassifier(max_depth=7, max_leaf_nodes=20, n_estimators=500)\n",
    "rf.fit(x_train,y_train)"
   ]
  },
  {
   "cell_type": "code",
   "execution_count": 31,
   "id": "2a537025",
   "metadata": {
    "ExecuteTime": {
     "end_time": "2022-03-16T11:39:38.322956Z",
     "start_time": "2022-03-16T11:39:38.220842Z"
    }
   },
   "outputs": [],
   "source": [
    "y_pred = rf.predict(x_test)"
   ]
  },
  {
   "cell_type": "code",
   "execution_count": 32,
   "id": "29d09186",
   "metadata": {
    "ExecuteTime": {
     "end_time": "2022-03-16T11:39:38.339818Z",
     "start_time": "2022-03-16T11:39:38.324753Z"
    }
   },
   "outputs": [
    {
     "name": "stdout",
     "output_type": "stream",
     "text": [
      "precision:  0.991\n",
      "recall:  1.0\n",
      "f1:  0.9955\n",
      "accuracy: 0.9955\n",
      "roc_auc_score: 0.9955\n"
     ]
    }
   ],
   "source": [
    "print('precision: ', round(metrics.precision_score(y_test,y_pred),4))\n",
    "print('recall: ', round(metrics.recall_score(y_test,y_pred),4))\n",
    "print('f1: ', round(metrics.f1_score(y_test,y_pred),4))\n",
    "print('accuracy:', round(metrics.accuracy_score(y_test,y_pred),4))\n",
    "print('roc_auc_score:', round(metrics.roc_auc_score(y_test,y_pred),4))"
   ]
  },
  {
   "cell_type": "markdown",
   "id": "e12e9df8",
   "metadata": {},
   "source": [
    "Malo se igramo sa vizualizacijom potraga..."
   ]
  },
  {
   "cell_type": "code",
   "execution_count": 33,
   "id": "5a9c71ff",
   "metadata": {
    "ExecuteTime": {
     "end_time": "2022-03-16T11:39:44.650189Z",
     "start_time": "2022-03-16T11:39:38.341229Z"
    }
   },
   "outputs": [
    {
     "data": {
      "text/plain": [
       "Text(0.5, 1.0, 'Precision i Recall vs Dubina drveta')"
      ]
     },
     "execution_count": 33,
     "metadata": {},
     "output_type": "execute_result"
    },
    {
     "data": {
      "image/png": "[encoded data removed]",
      "text/plain": [
       "<Figure size 432x288 with 1 Axes>"
      ]
     },
     "metadata": {
      "needs_background": "light"
     },
     "output_type": "display_data"
    }
   ],
   "source": [
    "\n",
    "\n",
    "recall=[]\n",
    "precision = []\n",
    "max_depth = [1,2,3,4,5,6,7,8]\n",
    "\n",
    "for depth in max_depth:\n",
    "    rf = RandomForestClassifier(max_depth=depth)\n",
    "    rf.fit(x_train,y_train)\n",
    "    y_pred = rf.predict(x_test)\n",
    "    recall.append(metrics.recall_score(y_test,y_pred))\n",
    "    precision.append(metrics.precision_score(y_test,y_pred))\n",
    "\n",
    "fig = plt.figure()\n",
    "axes = fig.add_axes([0.1, 0.1, 0.8, 0.8]) # velicina osa\n",
    "# plotujemo ose\n",
    "axes.plot(max_depth, recall, 'b', label='recall')\n",
    "axes.plot(max_depth, precision, 'r', label='precision')\n",
    "axes.legend()\n",
    "axes.set_xlabel('Dubina drveta') # Notice the use of set_ to begin methods\n",
    "axes.set_ylabel('Stopa tacno klasifikovanih slucajeva')\n",
    "axes.set_title('Precision i Recall vs Dubina drveta')"
   ]
  },
  {
   "cell_type": "code",
   "execution_count": 34,
   "id": "595e2e37",
   "metadata": {
    "ExecuteTime": {
     "end_time": "2022-03-16T11:39:54.474956Z",
     "start_time": "2022-03-16T11:39:44.651717Z"
    }
   },
   "outputs": [
    {
     "data": {
      "text/plain": [
       "Text(0.5, 1.0, 'Precision i Recall vs Broj listica')"
      ]
     },
     "execution_count": 34,
     "metadata": {},
     "output_type": "execute_result"
    },
    {
     "data": {
      "image/png": "[encoded data removed]",
      "text/plain": [
       "<Figure size 432x288 with 1 Axes>"
      ]
     },
     "metadata": {
      "needs_background": "light"
     },
     "output_type": "display_data"
    }
   ],
   "source": [
    "recall=[]\n",
    "precision = []\n",
    "max_leaf_nodes = [2,4,6,8,10,12,14,16,18,20,22,24]\n",
    "\n",
    "for node in max_leaf_nodes:\n",
    "    rf = RandomForestClassifier(max_leaf_nodes=node)\n",
    "    rf.fit(x_train,y_train)\n",
    "    y_pred = rf.predict(x_test)\n",
    "    recall.append(metrics.recall_score(y_test,y_pred))\n",
    "    precision.append(metrics.precision_score(y_test,y_pred))\n",
    "\n",
    "fig = plt.figure()\n",
    "axes = fig.add_axes([0.1, 0.1, 0.8, 0.8]) # velicina osa\n",
    "# plotujemo ose\n",
    "axes.plot(max_leaf_nodes, recall, 'b', label='recall')\n",
    "axes.plot(max_leaf_nodes, precision, 'r', label='precision')\n",
    "axes.legend()\n",
    "axes.set_xlabel('Broj listica') # Notice the use of set_ to begin methods\n",
    "axes.set_ylabel('Stopa tacno klasifikovanih slucajeva')\n",
    "axes.set_title('Precision i Recall vs Broj listica')"
   ]
  },
  {
   "cell_type": "code",
   "execution_count": 35,
   "id": "4625c49f",
   "metadata": {
    "ExecuteTime": {
     "end_time": "2022-03-16T11:40:12.627973Z",
     "start_time": "2022-03-16T11:39:54.477216Z"
    }
   },
   "outputs": [
    {
     "data": {
      "text/plain": [
       "Text(0.5, 1.0, 'Precision i Recall vs Broj drveta')"
      ]
     },
     "execution_count": 35,
     "metadata": {},
     "output_type": "execute_result"
    },
    {
     "data": {
      "image/png": "[encoded data removed]",
      "text/plain": [
       "<Figure size 432x288 with 1 Axes>"
      ]
     },
     "metadata": {
      "needs_background": "light"
     },
     "output_type": "display_data"
    }
   ],
   "source": [
    "recall=[]\n",
    "precision = []\n",
    "broj_drveca = [1, 5,10,50,70, 100, 200, 300, 400, 500]\n",
    "\n",
    "for drvo in broj_drveca:\n",
    "    rf = RandomForestClassifier(n_estimators=drvo)\n",
    "    rf.fit(x_train,y_train)\n",
    "    y_pred = rf.predict(x_test)\n",
    "    recall.append(metrics.recall_score(y_test,y_pred))\n",
    "    precision.append(metrics.precision_score(y_test,y_pred))\n",
    "\n",
    "fig = plt.figure()\n",
    "axes = fig.add_axes([0.1, 0.1, 0.8, 0.8]) # velicina osa\n",
    "# plotujemo ose\n",
    "axes.plot(broj_drveca, recall, 'b', label='recall')\n",
    "axes.plot(broj_drveca, precision, 'r', label='precision')\n",
    "axes.legend()\n",
    "axes.set_xlabel('Broj drveca') # Notice the use of set_ to begin methods\n",
    "axes.set_ylabel('Stopa tacno klasifikovanih slucajeva')\n",
    "axes.set_title('Precision i Recall vs Broj drveta')"
   ]
  },
  {
   "cell_type": "markdown",
   "id": "fa0b87c8",
   "metadata": {},
   "source": [
    "### Uzimamo drugu grupu podataka i isprobavamo model na njoj"
   ]
  },
  {
   "cell_type": "markdown",
   "id": "6ea26dfc",
   "metadata": {},
   "source": [
    "Uzimamo 6 frauds i proveravamo da li ce ih smote oversemplovani model prepoznati"
   ]
  },
  {
   "cell_type": "code",
   "execution_count": 36,
   "id": "d79513c4",
   "metadata": {
    "ExecuteTime": {
     "end_time": "2022-03-16T11:40:21.662587Z",
     "start_time": "2022-03-16T11:40:12.630175Z"
    }
   },
   "outputs": [
    {
     "name": "stdout",
     "output_type": "stream",
     "text": [
      "ukupno prevara: 6\n"
     ]
    }
   ],
   "source": [
    "df = pd.read_csv('online_payment.csv')\n",
    "df_2 = df[40000:50000].copy()\n",
    "\n",
    "df_2[\"type\"] = df_2[\"type\"].map({\"CASH_OUT\": 1, \"PAYMENT\": 2, \n",
    "                                 \"CASH_IN\": 3, \"TRANSFER\": 4,\n",
    "                                 \"DEBIT\": 5})\n",
    "df_2['diffORG'] = df_2['newbalanceOrig'] - df_2['oldbalanceOrg']\n",
    "df_2['diffDEST'] = df_2['newbalanceDest'] - df_2['oldbalanceDest']\n",
    "\n",
    "print('ukupno prevara:', len(df_2[df_2['isFraud']==1]))\n",
    "\n",
    "real_frauds = df_2[df_2['isFraud']==1]\n",
    "\n",
    "real_frauds = real_frauds[[\"type\", \"amount\", \"oldbalanceOrg\", \"newbalanceOrig\", 'diffDEST', 'diffORG', 'newbalanceDest', 'oldbalanceDest']]"
   ]
  },
  {
   "cell_type": "code",
   "execution_count": 37,
   "id": "6cbae15e",
   "metadata": {
    "ExecuteTime": {
     "end_time": "2022-03-16T11:40:21.720528Z",
     "start_time": "2022-03-16T11:40:21.664547Z"
    }
   },
   "outputs": [],
   "source": [
    "y_pred_real_frauds = rf.predict(np.array(real_frauds))"
   ]
  },
  {
   "cell_type": "markdown",
   "id": "5aa6536e",
   "metadata": {
    "ExecuteTime": {
     "end_time": "2022-03-15T10:33:14.134281Z",
     "start_time": "2022-03-15T10:33:14.131737Z"
    }
   },
   "source": [
    "# SMOTE model je uspeo da uhvati 4 od 6 prevara!!!"
   ]
  },
  {
   "cell_type": "code",
   "execution_count": 38,
   "id": "decd6525",
   "metadata": {
    "ExecuteTime": {
     "end_time": "2022-03-16T11:40:21.726443Z",
     "start_time": "2022-03-16T11:40:21.722135Z"
    }
   },
   "outputs": [
    {
     "data": {
      "text/plain": [
       "array([0, 0, 1, 1, 1, 1])"
      ]
     },
     "execution_count": 38,
     "metadata": {},
     "output_type": "execute_result"
    }
   ],
   "source": [
    "y_pred_real_frauds"
   ]
  },
  {
   "cell_type": "code",
   "execution_count": 39,
   "id": "64465d9f",
   "metadata": {
    "ExecuteTime": {
     "end_time": "2022-03-16T11:40:21.731517Z",
     "start_time": "2022-03-16T11:40:21.728182Z"
    }
   },
   "outputs": [
    {
     "data": {
      "text/plain": [
       "6"
      ]
     },
     "execution_count": 39,
     "metadata": {},
     "output_type": "execute_result"
    }
   ],
   "source": [
    "len(y_pred_real_frauds)"
   ]
  },
  {
   "cell_type": "code",
   "execution_count": 40,
   "id": "3b6073af",
   "metadata": {
    "ExecuteTime": {
     "end_time": "2022-03-16T11:40:21.781666Z",
     "start_time": "2022-03-16T11:40:21.733617Z"
    }
   },
   "outputs": [
    {
     "data": {
      "text/plain": [
       "array([0.142, 0.49 , 0.684, 0.936, 0.844, 0.61 ])"
      ]
     },
     "execution_count": 40,
     "metadata": {},
     "output_type": "execute_result"
    }
   ],
   "source": [
    "y_pred_real_frauds_proba = rf.predict_proba(np.array(real_frauds))\n",
    "y_pred_real_frauds_proba[:,1]"
   ]
  },
  {
   "cell_type": "markdown",
   "id": "577864ed",
   "metadata": {},
   "source": [
    "### Radimo to isto samo na drugom setu podataka. Provericemo da li model prepoznaje slucajave prevare (n=13)"
   ]
  },
  {
   "cell_type": "code",
   "execution_count": 41,
   "id": "59c83825",
   "metadata": {
    "ExecuteTime": {
     "end_time": "2022-03-16T11:40:31.361883Z",
     "start_time": "2022-03-16T11:40:21.783719Z"
    }
   },
   "outputs": [
    {
     "name": "stdout",
     "output_type": "stream",
     "text": [
      "ukupno prevara: 3\n"
     ]
    }
   ],
   "source": [
    "df = pd.read_csv('online_payment.csv')\n",
    "df_2 = df[20000:30000].copy()\n",
    "\n",
    "df_2[\"type\"] = df_2[\"type\"].map({\"CASH_OUT\": 1, \"PAYMENT\": 2, \n",
    "                                 \"CASH_IN\": 3, \"TRANSFER\": 4,\n",
    "                                 \"DEBIT\": 5})\n",
    "df_2['diffORG'] = df_2['newbalanceOrig'] - df_2['oldbalanceOrg']\n",
    "df_2['diffDEST'] = df_2['newbalanceDest'] - df_2['oldbalanceDest']\n",
    "\n",
    "print('ukupno prevara:', len(df_2[df_2['isFraud']==1]))\n",
    "\n",
    "real_frauds = df_2[df_2['isFraud']==1]\n",
    "\n",
    "real_frauds = real_frauds[[\"type\", \"amount\", \"oldbalanceOrg\", \"newbalanceOrig\", 'diffDEST', 'diffORG', 'newbalanceDest', 'oldbalanceDest']]"
   ]
  },
  {
   "cell_type": "code",
   "execution_count": 42,
   "id": "60539514",
   "metadata": {
    "ExecuteTime": {
     "end_time": "2022-03-16T11:40:31.409343Z",
     "start_time": "2022-03-16T11:40:31.363490Z"
    }
   },
   "outputs": [],
   "source": [
    "y_pred_real_frauds = rf.predict(np.array(real_frauds))"
   ]
  },
  {
   "cell_type": "code",
   "execution_count": 43,
   "id": "9cbf26ce",
   "metadata": {
    "ExecuteTime": {
     "end_time": "2022-03-16T11:40:31.415952Z",
     "start_time": "2022-03-16T11:40:31.411755Z"
    }
   },
   "outputs": [
    {
     "data": {
      "text/plain": [
       "array([0, 0, 0])"
      ]
     },
     "execution_count": 43,
     "metadata": {},
     "output_type": "execute_result"
    }
   ],
   "source": [
    "y_pred_real_frauds"
   ]
  },
  {
   "cell_type": "code",
   "execution_count": 44,
   "id": "0aaa771b",
   "metadata": {
    "ExecuteTime": {
     "end_time": "2022-03-16T11:40:31.466373Z",
     "start_time": "2022-03-16T11:40:31.417549Z"
    }
   },
   "outputs": [],
   "source": [
    "y_pred_real_frauds_proba = rf.predict_proba(np.array(real_frauds))"
   ]
  },
  {
   "cell_type": "code",
   "execution_count": 45,
   "id": "f76c6bbc",
   "metadata": {
    "ExecuteTime": {
     "end_time": "2022-03-16T11:40:31.472686Z",
     "start_time": "2022-03-16T11:40:31.468207Z"
    }
   },
   "outputs": [
    {
     "data": {
      "text/plain": [
       "array([0.032, 0.   , 0.   ])"
      ]
     },
     "execution_count": 45,
     "metadata": {},
     "output_type": "execute_result"
    }
   ],
   "source": [
    "y_pred_real_frauds_proba[:,1]"
   ]
  },
  {
   "cell_type": "code",
   "execution_count": 46,
   "id": "386fce88",
   "metadata": {
    "ExecuteTime": {
     "end_time": "2022-03-16T11:40:31.713663Z",
     "start_time": "2022-03-16T11:40:31.474640Z"
    }
   },
   "outputs": [
    {
     "data": {
      "image/png": "[encoded data removed]",
      "text/plain": [
       "<Figure size 432x288 with 1 Axes>"
      ]
     },
     "metadata": {
      "needs_background": "light"
     },
     "output_type": "display_data"
    }
   ],
   "source": [
    "y_pred_2_proba = rf.predict_proba(x_test)\n",
    "\n",
    "\n",
    "pos_probs = y_pred_2_proba[:, 1]\n",
    "\n",
    "roc_auc = metrics.roc_auc_score(y_test, pos_probs)\n",
    "# plot no skill roc curve\n",
    "plt.plot([0, 1], [0, 1], linestyle='--', label='No Skill')\n",
    "# calculate roc curve for model\n",
    "fpr, tpr, _ = metrics.roc_curve(y_test, pos_probs)\n",
    "# plot model roc curve\n",
    "plt.plot(fpr, tpr, marker='.', label='Random_forest_model')\n",
    "# axis labels\n",
    "plt.xlabel('False Positive Rate')\n",
    "plt.ylabel('True Positive Rate')\n",
    "# show the legend\n",
    "plt.legend()\n",
    "plt.title(f'AUC score: {round(roc_auc,3)}')\n",
    "# show the plot\n",
    "plt.show()"
   ]
  },
  {
   "cell_type": "code",
   "execution_count": 47,
   "id": "7002cbe3",
   "metadata": {
    "ExecuteTime": {
     "end_time": "2022-03-16T11:40:31.857996Z",
     "start_time": "2022-03-16T11:40:31.715862Z"
    }
   },
   "outputs": [
    {
     "data": {
      "image/png": "[encoded data removed]",
      "text/plain": [
       "<Figure size 432x288 with 1 Axes>"
      ]
     },
     "metadata": {
      "needs_background": "light"
     },
     "output_type": "display_data"
    }
   ],
   "source": [
    "pos_probs = y_pred_2_proba[:, 1]\n",
    "\n",
    "no_skill = len(y_test[y_test==1]) / len(y_test)\n",
    "# plot the no skill precision-recall curve\n",
    "plt.plot([0, 1], [no_skill, no_skill], linestyle='--', label='No Skill')\n",
    "# calculate model precision-recall curve\n",
    "precision, recall, _ = precision_recall_curve(y_test, pos_probs)\n",
    "\n",
    "auc_score = auc(recall, precision)\n",
    "# plot the model precision-recall curve\n",
    "plt.plot(recall, precision, marker='.', label='Random forest')\n",
    "# axis labels\n",
    "plt.xlabel('Recall')\n",
    "plt.ylabel('Precision')\n",
    "plt.legend()\n",
    "plt.title(f'Precision-Recall AUC Score {round(auc_score,3)}')\n",
    "# show the plot\n",
    "plt.show()"
   ]
  },
  {
   "cell_type": "markdown",
   "id": "4023e096",
   "metadata": {},
   "source": [
    "### Kreiramo novi model sa tresholdom 0.2 kako nam nijedna prevara ne bi promakla ali sa rizikom da povecamo fp"
   ]
  },
  {
   "cell_type": "code",
   "execution_count": 48,
   "id": "83cd6467",
   "metadata": {
    "ExecuteTime": {
     "end_time": "2022-03-16T11:40:32.031386Z",
     "start_time": "2022-03-16T11:40:31.859998Z"
    }
   },
   "outputs": [],
   "source": [
    "threshold = 0.2\n",
    "\n",
    "predicted_proba = rf.predict_proba(x_test)\n",
    "y_pred_3 = (predicted_proba [:,1] >= threshold).astype('int')\n"
   ]
  },
  {
   "cell_type": "code",
   "execution_count": 49,
   "id": "be550f25",
   "metadata": {
    "ExecuteTime": {
     "end_time": "2022-03-16T11:40:32.046462Z",
     "start_time": "2022-03-16T11:40:32.033401Z"
    }
   },
   "outputs": [
    {
     "name": "stdout",
     "output_type": "stream",
     "text": [
      "precision:  0.996\n",
      "recall:  1.0\n",
      "f1:  0.998\n",
      "accuracy: 0.998\n",
      "roc_auc_score: 0.998\n"
     ]
    }
   ],
   "source": [
    "print('precision: ', round(metrics.precision_score(y_test,y_pred_3),4))\n",
    "print('recall: ', round(metrics.recall_score(y_test,y_pred_3),4))\n",
    "print('f1: ', round(metrics.f1_score(y_test,y_pred_3),4))\n",
    "print('accuracy:', round(metrics.accuracy_score(y_test,y_pred_3),4))\n",
    "print('roc_auc_score:', round(metrics.roc_auc_score(y_test,y_pred_3),4))"
   ]
  },
  {
   "cell_type": "markdown",
   "id": "0b1d1154",
   "metadata": {},
   "source": [
    "### SVM model with penalty"
   ]
  },
  {
   "cell_type": "markdown",
   "id": "856901f6",
   "metadata": {},
   "source": [
    "The next tactic is to use penalized learning algorithms that increase the cost of classification\n",
    "mistakes on the minority class.\n",
    "A popular algorithm for this technique is Penalized-SVM.\n",
    "During training, we can use the argument class_weight=’balanced’ to penalize mistakes\n",
    "on the minority class by an amount proportional to how under-represented it is.\n",
    "We also want to include the argument probability=True if we want to enable probability\n",
    "estimates for SVM algorithms.\n",
    "\n",
    "penalized mistake:\n",
    "\n",
    "<img src=\"cost_sensitive.png\" width=560 height=560 />\n",
    "\n",
    "Let’s train a model using Penalized-SVM on the original imbalanced dataset where 0 is w0 and 1 is w1 (for errors):"
   ]
  },
  {
   "cell_type": "code",
   "execution_count": 55,
   "id": "c5e8955e",
   "metadata": {
    "ExecuteTime": {
     "end_time": "2022-03-16T11:49:01.436323Z",
     "start_time": "2022-03-16T11:48:13.337052Z"
    }
   },
   "outputs": [
    {
     "name": "stdout",
     "output_type": "stream",
     "text": [
      "ROCAUC score: 0.5717846460618146\n",
      "Accuracy score: 0.5698547821732599\n",
      "F1 score: 0.698278890059712\n",
      "precision:  0.54\n",
      "recall:  1.0\n"
     ]
    }
   ],
   "source": [
    "\n",
    "weights={0:0.01, 1:1.0}\n",
    "svc_model = SVC(class_weight=weights, probability=True)\n",
    "svc_model.fit(x_train, y_train)\n",
    "svc_predict = svc_model.predict(x_test)# check performance\n",
    "print('ROCAUC score:',metrics.roc_auc_score(y_test, svc_predict))\n",
    "print('Accuracy score:',metrics.accuracy_score(y_test, svc_predict))\n",
    "print('F1 score:',metrics.f1_score(y_test, svc_predict))\n",
    "print('precision: ', round(metrics.precision_score(y_test,svc_predict),2))\n",
    "print('recall: ', round(metrics.recall_score(y_test,svc_predict),2))"
   ]
  },
  {
   "cell_type": "markdown",
   "id": "d5596c06",
   "metadata": {},
   "source": [
    "Let's try this on new chunk of data:"
   ]
  },
  {
   "cell_type": "code",
   "execution_count": 51,
   "id": "8dfb817e",
   "metadata": {
    "ExecuteTime": {
     "end_time": "2022-03-16T11:41:36.660172Z",
     "start_time": "2022-03-16T11:41:19.953410Z"
    }
   },
   "outputs": [],
   "source": [
    "df_2 = pd.read_csv('online_payment.csv')\n",
    "df_2 = shuffle(df_2)\n",
    "df_2 = df_2[10000:20000].copy()\n",
    "\n",
    "df_2[\"type\"] = df_2[\"type\"].map({\"CASH_OUT\": 1, \"PAYMENT\": 2, \n",
    "                                 \"CASH_IN\": 3, \"TRANSFER\": 4,\n",
    "                                 \"DEBIT\": 5})\n",
    "\n",
    "df_2['diffORG'] = df_2['newbalanceOrig'] - df_2['oldbalanceOrg']\n",
    "df_2['diffDEST'] = df_2['newbalanceDest'] - df_2['oldbalanceDest']\n",
    "x = np.array(df_2[[\"type\", \"amount\", \"oldbalanceOrg\", \"newbalanceOrig\", 'diffDEST', 'diffORG', 'newbalanceDest', 'oldbalanceDest']])\n",
    "y = np.array(df_2[[\"isFraud\"]])\n",
    "x, y = shuffle(x, y)"
   ]
  },
  {
   "cell_type": "code",
   "execution_count": 52,
   "id": "d3539271",
   "metadata": {
    "ExecuteTime": {
     "end_time": "2022-03-16T11:41:45.260978Z",
     "start_time": "2022-03-16T11:41:36.662302Z"
    }
   },
   "outputs": [],
   "source": [
    "y_pred_2 = svc_model.predict(x)"
   ]
  },
  {
   "cell_type": "code",
   "execution_count": 53,
   "id": "69c145a8",
   "metadata": {
    "ExecuteTime": {
     "end_time": "2022-03-16T11:41:45.284357Z",
     "start_time": "2022-03-16T11:41:45.263252Z"
    }
   },
   "outputs": [
    {
     "name": "stdout",
     "output_type": "stream",
     "text": [
      "precision:  0.0\n",
      "recall:  0.77\n",
      "f1:  0.0\n",
      "accuracy: 0.14\n",
      "roc_auc_score: 0.46\n"
     ]
    }
   ],
   "source": [
    "print('precision: ', round(metrics.precision_score(y,y_pred_2),2))\n",
    "print('recall: ', round(metrics.recall_score(y,y_pred_2),2))\n",
    "print('f1: ', round(metrics.f1_score(y,y_pred_2),2))\n",
    "print('accuracy:', round(metrics.accuracy_score(y,y_pred_2),2))\n",
    "print('roc_auc_score:', round(metrics.roc_auc_score(y,y_pred_2),2))"
   ]
  },
  {
   "cell_type": "markdown",
   "id": "64c283b6",
   "metadata": {},
   "source": [
    "## Cost-sensitive learning "
   ]
  },
  {
   "cell_type": "code",
   "execution_count": 63,
   "id": "baaa135a",
   "metadata": {
    "ExecuteTime": {
     "end_time": "2022-03-16T11:54:22.474885Z",
     "start_time": "2022-03-16T11:54:12.775912Z"
    }
   },
   "outputs": [
    {
     "name": "stdout",
     "output_type": "stream",
     "text": [
      "ukupno prevara: 3\n"
     ]
    }
   ],
   "source": [
    "import pandas as pd\n",
    "df = pd.read_csv('online_payment.csv')\n",
    "df_2 = df[20000:30000].copy()\n",
    "\n",
    "df_2[\"type\"] = df_2[\"type\"].map({\"CASH_OUT\": 1, \"PAYMENT\": 2, \n",
    "                                 \"CASH_IN\": 3, \"TRANSFER\": 4,\n",
    "                                 \"DEBIT\": 5})\n",
    "df_2['diffORG'] = df_2['newbalanceOrig'] - df_2['oldbalanceOrg']\n",
    "df_2['diffDEST'] = df_2['newbalanceDest'] - df_2['oldbalanceDest']\n",
    "\n",
    "print('ukupno prevara:', len(df_2[df_2['isFraud']==1]))\n",
    "x = np.array(df_2[[\"type\", \"amount\", \"oldbalanceOrg\", \"newbalanceOrig\", 'diffDEST', 'diffORG', 'newbalanceDest', 'oldbalanceDest']])\n",
    "y = np.array(df_2[[\"isFraud\"]])\n",
    "x, y = shuffle(x, y)"
   ]
  },
  {
   "cell_type": "markdown",
   "id": "3da04cb5",
   "metadata": {},
   "source": [
    "zbog malog broja prevara probacemo ipak na smote podacima"
   ]
  },
  {
   "cell_type": "code",
   "execution_count": 64,
   "id": "49657b5d",
   "metadata": {
    "ExecuteTime": {
     "end_time": "2022-03-16T11:55:09.528300Z",
     "start_time": "2022-03-16T11:55:09.520236Z"
    }
   },
   "outputs": [],
   "source": [
    "x_train, x_test, y_train, y_test = train_test_split(X_resampled, y_resampled, test_size=0.10, random_state=42)"
   ]
  },
  {
   "cell_type": "code",
   "execution_count": 65,
   "id": "d69c142e",
   "metadata": {
    "ExecuteTime": {
     "end_time": "2022-03-16T11:55:11.163801Z",
     "start_time": "2022-03-16T11:55:11.160050Z"
    }
   },
   "outputs": [],
   "source": [
    "balance = [{0:0.01,1:.9}, {0:5,1:0.8}, {0:0.001,1:1}, {0:0.05,1:0.7}, {0:0.0001,1:1}]\n",
    "param_grid = dict(class_weight=balance)"
   ]
  },
  {
   "cell_type": "code",
   "execution_count": 68,
   "id": "b30f7854",
   "metadata": {
    "ExecuteTime": {
     "end_time": "2022-03-16T12:00:50.089862Z",
     "start_time": "2022-03-16T11:59:07.206563Z"
    }
   },
   "outputs": [
    {
     "data": {
      "text/plain": [
       "GridSearchCV(estimator=RandomForestClassifier(max_depth=7, max_leaf_nodes=20,\n",
       "                                              n_estimators=500),\n",
       "             param_grid={'class_weight': [{0: 0.01, 1: 0.9}, {0: 5, 1: 0.8},\n",
       "                                          {0: 0.001, 1: 1}, {0: 0.05, 1: 0.7},\n",
       "                                          {0: 0.0001, 1: 1}]})"
      ]
     },
     "execution_count": 68,
     "metadata": {},
     "output_type": "execute_result"
    }
   ],
   "source": [
    "# now we want to try several weights for class weights\n",
    "\n",
    "rf_cs = RandomForestClassifier(max_depth=7, max_leaf_nodes=20, n_estimators=500)\n",
    "best_rf_cs = GridSearchCV(rf_cs, param_grid)\n",
    "y_train = y_train.reshape(-1)\n",
    "best_rf_cs.fit(x_train,y_train)\n"
   ]
  },
  {
   "cell_type": "code",
   "execution_count": 69,
   "id": "ee511f5e",
   "metadata": {
    "ExecuteTime": {
     "end_time": "2022-03-16T12:00:50.097259Z",
     "start_time": "2022-03-16T12:00:50.092880Z"
    }
   },
   "outputs": [
    {
     "name": "stdout",
     "output_type": "stream",
     "text": [
      " Results from Grid Search \n",
      "\n",
      " The best estimator across ALL searched params:\n",
      " RandomForestClassifier(class_weight={0: 0.05, 1: 0.7}, max_depth=7,\n",
      "                       max_leaf_nodes=20, n_estimators=500)\n",
      "\n",
      " The best score across ALL searched params:\n",
      " 0.985141159749039\n",
      "\n",
      " The best parameters across ALL searched params:\n",
      " {'class_weight': {0: 0.05, 1: 0.7}}\n"
     ]
    }
   ],
   "source": [
    "print(\" Results from Grid Search \" )\n",
    "print(\"\\n The best estimator across ALL searched params:\\n\",best_rf_cs.best_estimator_)\n",
    "print(\"\\n The best score across ALL searched params:\\n\",best_rf_cs.best_score_)\n",
    "print(\"\\n The best parameters across ALL searched params:\\n\",best_rf_cs.best_params_)"
   ]
  },
  {
   "cell_type": "code",
   "execution_count": 70,
   "id": "a4448e90",
   "metadata": {
    "ExecuteTime": {
     "end_time": "2022-03-16T12:15:29.881870Z",
     "start_time": "2022-03-16T12:15:24.329583Z"
    }
   },
   "outputs": [
    {
     "data": {
      "text/plain": [
       "RandomForestClassifier(class_weight={0: 0.05, 1: 0.7}, max_depth=7,\n",
       "                       max_leaf_nodes=20, n_estimators=500)"
      ]
     },
     "execution_count": 70,
     "metadata": {},
     "output_type": "execute_result"
    }
   ],
   "source": [
    "weights = {0: 0.05, 1: 0.7}\n",
    "rf_cs_best = RandomForestClassifier(max_depth=7, max_leaf_nodes=20, n_estimators=500, class_weight=weights)\n",
    "rf_cs_best.fit(x_train,y_train)"
   ]
  },
  {
   "cell_type": "code",
   "execution_count": 71,
   "id": "6eb5a816",
   "metadata": {
    "ExecuteTime": {
     "end_time": "2022-03-16T12:16:28.949638Z",
     "start_time": "2022-03-16T12:16:28.842401Z"
    }
   },
   "outputs": [],
   "source": [
    "rf_pred = rf_cs_best.predict(x_test)"
   ]
  },
  {
   "cell_type": "markdown",
   "id": "df380c36",
   "metadata": {},
   "source": [
    "### This is absolutely best - both SMOTE and cost sensitive learning!!!"
   ]
  },
  {
   "cell_type": "code",
   "execution_count": 73,
   "id": "85ac839c",
   "metadata": {
    "ExecuteTime": {
     "end_time": "2022-03-16T12:17:04.314721Z",
     "start_time": "2022-03-16T12:17:04.300588Z"
    },
    "scrolled": true
   },
   "outputs": [
    {
     "name": "stdout",
     "output_type": "stream",
     "text": [
      "ROCAUC score: 0.9845463609172482\n",
      "Accuracy score: 0.9844767150726089\n",
      "F1 score: 0.984645864289252\n",
      "precision:  0.97\n",
      "recall:  1.0\n"
     ]
    }
   ],
   "source": [
    "print('ROCAUC score:',metrics.roc_auc_score(y_test, rf_pred))\n",
    "print('Accuracy score:',metrics.accuracy_score(y_test, rf_pred))\n",
    "print('F1 score:',metrics.f1_score(y_test, rf_pred))\n",
    "print('precision: ', round(metrics.precision_score(y_test,rf_pred),2))\n",
    "print('recall: ', round(metrics.recall_score(y_test,rf_pred),2))"
   ]
  },
  {
   "cell_type": "code",
   "execution_count": 76,
   "id": "bd01890d",
   "metadata": {
    "ExecuteTime": {
     "end_time": "2022-03-16T12:19:22.885086Z",
     "start_time": "2022-03-16T12:19:22.643364Z"
    }
   },
   "outputs": [
    {
     "data": {
      "image/png": "[encoded data removed]",
      "text/plain": [
       "<Figure size 432x288 with 1 Axes>"
      ]
     },
     "metadata": {
      "needs_background": "light"
     },
     "output_type": "display_data"
    }
   ],
   "source": [
    "y_pred_2_proba = rf_cs_best.predict_proba(x_test)\n",
    "\n",
    "\n",
    "pos_probs = y_pred_2_proba[:, 1]\n",
    "\n",
    "roc_auc = metrics.roc_auc_score(y_test, pos_probs)\n",
    "# plot no skill roc curve\n",
    "plt.plot([0, 1], [0, 1], linestyle='--', label='No Skill')\n",
    "# calculate roc curve for model\n",
    "fpr, tpr, _ = metrics.roc_curve(y_test, pos_probs)\n",
    "# plot model roc curve\n",
    "plt.plot(fpr, tpr, marker='.', label='Random forest with SMOTE and Cost - sensitive learning')\n",
    "# axis labels\n",
    "plt.xlabel('False Positive Rate')\n",
    "plt.ylabel('True Positive Rate')\n",
    "# show the legend\n",
    "plt.legend()\n",
    "plt.title(f'AUC score: {round(roc_auc,3)}')\n",
    "# show the plot\n",
    "plt.show()"
   ]
  },
  {
   "cell_type": "code",
   "execution_count": 77,
   "id": "9e8029e7",
   "metadata": {
    "ExecuteTime": {
     "end_time": "2022-03-16T12:19:25.645956Z",
     "start_time": "2022-03-16T12:19:25.501958Z"
    }
   },
   "outputs": [
    {
     "data": {
      "image/png": "[encoded data removed]",
      "text/plain": [
       "<Figure size 432x288 with 1 Axes>"
      ]
     },
     "metadata": {
      "needs_background": "light"
     },
     "output_type": "display_data"
    }
   ],
   "source": [
    "pos_probs = y_pred_2_proba[:, 1]\n",
    "\n",
    "no_skill = len(y_test[y_test==1]) / len(y_test)\n",
    "# plot the no skill precision-recall curve\n",
    "plt.plot([0, 1], [no_skill, no_skill], linestyle='--', label='No Skill')\n",
    "# calculate model precision-recall curve\n",
    "precision, recall, _ = precision_recall_curve(y_test, pos_probs)\n",
    "\n",
    "auc_score = auc(recall, precision)\n",
    "# plot the model precision-recall curve\n",
    "plt.plot(recall, precision, marker='.', label='Random forest with SMOTE and Cost - sensitive learning')\n",
    "# axis labels\n",
    "plt.xlabel('Recall')\n",
    "plt.ylabel('Precision')\n",
    "plt.legend()\n",
    "plt.title(f'Precision-Recall AUC Score {round(auc_score,3)}')\n",
    "# show the plot\n",
    "plt.show()"
   ]
  },
  {
   "cell_type": "code",
   "execution_count": null,
   "id": "103111c8",
   "metadata": {},
   "outputs": [],
   "source": []
  }
 ],
 "metadata": {
  "kernelspec": {
   "display_name": "Python 3 (ipykernel)",
   "language": "python",
   "name": "python3"
  },
  "language_info": {
   "codemirror_mode": {
    "name": "ipython",
    "version": 3
   },
   "file_extension": ".py",
   "mimetype": "text/x-python",
   "name": "python",
   "nbconvert_exporter": "python",
   "pygments_lexer": "ipython3",
   "version": "3.8.5"
  }
 },
 "nbformat": 4,
 "nbformat_minor": 5
}
