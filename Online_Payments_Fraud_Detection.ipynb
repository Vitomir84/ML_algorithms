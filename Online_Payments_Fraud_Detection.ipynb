{
 "cells": [
  {
   "cell_type": "markdown",
   "id": "bcd0d0a7",
   "metadata": {},
   "source": [
    "# Fraud Detection - imbalanced data set"
   ]
  },
  {
   "cell_type": "markdown",
   "id": "9b0fa7dd",
   "metadata": {},
   "source": [
    "Accuracy is not the best metric to use when evaluating imbalanced datasets as it can be\n",
    "misleading.\n",
    "Metrics that can provide better insight are:\n",
    "\n",
    "Confusion Matrix: a table showing correct predictions and types of incorrect\n",
    "predictions.\n",
    "\n",
    "Precision: the number of true positives divided by all positive predictions. Precision is\n",
    "also called Positive Predictive Value. It is a measure of a classifier’s exactness. Low\n",
    "precision indicates a high number of false positives.\n",
    "\n",
    "\n",
    "Recall: the number of true positives divided by the number of positive values in the\n",
    "test data. The recall is also called Sensitivity or the True Positive Rate. It is a measure of\n",
    "a classifier’s completeness. Low recall indicates a high number of false negatives.\n",
    "\n",
    "F1: Score: the weighted average of precision and recall.\n",
    "\n",
    "Area Under ROC Curve (AUROC): AUROC represents the likelihood of your model\n",
    "distinguishing observations from two classes.\n",
    "\n",
    "In other words, if you randomly select one observation from each class, what’s the\n",
    "probability that your model will be able to “rank” them correctly?"
   ]
  },
  {
   "cell_type": "markdown",
   "id": "7998c295",
   "metadata": {},
   "source": [
    "recall = TP/(TP+FN)\n",
    "\n",
    "precision = TP/(TP+FP)\n",
    "\n",
    "F1 = 2TP/(2TP + FP + FN)"
   ]
  },
  {
   "cell_type": "markdown",
   "id": "afb4b41b",
   "metadata": {},
   "source": [
    "Data download: https://www.kaggle.com/ealaxi/paysim1"
   ]
  },
  {
   "cell_type": "markdown",
   "id": "d6eb363e",
   "metadata": {},
   "source": [
    "step: represents a unit of time where 1 step equals 1 hour\n",
    "\n",
    "type: type of online transaction\n",
    "\n",
    "amount: the amount of the transaction\n",
    "\n",
    "nameOrig: customer starting the transaction\n",
    "\n",
    "oldbalanceOrg: balance before the transaction\n",
    "\n",
    "newbalanceOrig: balance after the transaction\n",
    "\n",
    "nameDest: recipient of the transaction\n",
    "\n",
    "oldbalanceDest: initial balance of recipient before the transaction\n",
    "\n",
    "newbalanceDest: the new balance of recipient after the transaction\n",
    "\n",
    "isFraud: fraud transaction"
   ]
  },
  {
   "cell_type": "code",
   "execution_count": 1,
   "id": "88f1965a",
   "metadata": {
    "ExecuteTime": {
     "end_time": "2022-03-15T09:49:44.267400Z",
     "start_time": "2022-03-15T09:49:34.084914Z"
    }
   },
   "outputs": [],
   "source": [
    "import pandas as pd\n",
    "df = pd.read_csv('online_payment.csv')"
   ]
  },
  {
   "cell_type": "code",
   "execution_count": 2,
   "id": "68fc50f3",
   "metadata": {
    "ExecuteTime": {
     "end_time": "2022-03-15T09:49:44.280995Z",
     "start_time": "2022-03-15T09:49:44.270176Z"
    }
   },
   "outputs": [
    {
     "data": {
      "text/plain": [
       "6362620"
      ]
     },
     "execution_count": 2,
     "metadata": {},
     "output_type": "execute_result"
    }
   ],
   "source": [
    "len(df)"
   ]
  },
  {
   "cell_type": "code",
   "execution_count": 3,
   "id": "9a6c4c35",
   "metadata": {
    "ExecuteTime": {
     "end_time": "2022-03-15T09:49:49.943295Z",
     "start_time": "2022-03-15T09:49:44.283244Z"
    }
   },
   "outputs": [],
   "source": [
    "from sklearn.utils import shuffle\n",
    "df = shuffle(df)"
   ]
  },
  {
   "cell_type": "code",
   "execution_count": 4,
   "id": "0d7d3887",
   "metadata": {
    "ExecuteTime": {
     "end_time": "2022-03-15T09:49:50.879807Z",
     "start_time": "2022-03-15T09:49:49.947300Z"
    }
   },
   "outputs": [],
   "source": [
    "#skracujemo df zbog brzine kompjutacije\n",
    "df = df[:10000].copy()"
   ]
  },
  {
   "cell_type": "code",
   "execution_count": 5,
   "id": "1a180c76",
   "metadata": {
    "ExecuteTime": {
     "end_time": "2022-03-15T09:49:50.900578Z",
     "start_time": "2022-03-15T09:49:50.881718Z"
    }
   },
   "outputs": [
    {
     "data": {
      "text/html": [
       "<div>\n",
       "<style scoped>\n",
       "    .dataframe tbody tr th:only-of-type {\n",
       "        vertical-align: middle;\n",
       "    }\n",
       "\n",
       "    .dataframe tbody tr th {\n",
       "        vertical-align: top;\n",
       "    }\n",
       "\n",
       "    .dataframe thead th {\n",
       "        text-align: right;\n",
       "    }\n",
       "</style>\n",
       "<table border=\"1\" class=\"dataframe\">\n",
       "  <thead>\n",
       "    <tr style=\"text-align: right;\">\n",
       "      <th></th>\n",
       "      <th>step</th>\n",
       "      <th>type</th>\n",
       "      <th>amount</th>\n",
       "      <th>nameOrig</th>\n",
       "      <th>oldbalanceOrg</th>\n",
       "      <th>newbalanceOrig</th>\n",
       "      <th>nameDest</th>\n",
       "      <th>oldbalanceDest</th>\n",
       "      <th>newbalanceDest</th>\n",
       "      <th>isFraud</th>\n",
       "      <th>isFlaggedFraud</th>\n",
       "    </tr>\n",
       "  </thead>\n",
       "  <tbody>\n",
       "    <tr>\n",
       "      <th>359565</th>\n",
       "      <td>17</td>\n",
       "      <td>CASH_IN</td>\n",
       "      <td>412517.62</td>\n",
       "      <td>C1721152088</td>\n",
       "      <td>25.00</td>\n",
       "      <td>412542.62</td>\n",
       "      <td>C1244292009</td>\n",
       "      <td>49675.00</td>\n",
       "      <td>0.00</td>\n",
       "      <td>0</td>\n",
       "      <td>0</td>\n",
       "    </tr>\n",
       "    <tr>\n",
       "      <th>779997</th>\n",
       "      <td>39</td>\n",
       "      <td>CASH_OUT</td>\n",
       "      <td>192150.54</td>\n",
       "      <td>C294291851</td>\n",
       "      <td>82193.00</td>\n",
       "      <td>0.00</td>\n",
       "      <td>C596156911</td>\n",
       "      <td>258601.69</td>\n",
       "      <td>621976.40</td>\n",
       "      <td>0</td>\n",
       "      <td>0</td>\n",
       "    </tr>\n",
       "    <tr>\n",
       "      <th>608215</th>\n",
       "      <td>34</td>\n",
       "      <td>PAYMENT</td>\n",
       "      <td>12711.53</td>\n",
       "      <td>C1644448426</td>\n",
       "      <td>245749.84</td>\n",
       "      <td>233038.31</td>\n",
       "      <td>M1726695580</td>\n",
       "      <td>0.00</td>\n",
       "      <td>0.00</td>\n",
       "      <td>0</td>\n",
       "      <td>0</td>\n",
       "    </tr>\n",
       "    <tr>\n",
       "      <th>5286531</th>\n",
       "      <td>373</td>\n",
       "      <td>CASH_IN</td>\n",
       "      <td>26087.53</td>\n",
       "      <td>C304560764</td>\n",
       "      <td>23257908.84</td>\n",
       "      <td>23283996.37</td>\n",
       "      <td>C643681155</td>\n",
       "      <td>539471.25</td>\n",
       "      <td>513383.72</td>\n",
       "      <td>0</td>\n",
       "      <td>0</td>\n",
       "    </tr>\n",
       "    <tr>\n",
       "      <th>3822228</th>\n",
       "      <td>282</td>\n",
       "      <td>TRANSFER</td>\n",
       "      <td>1852451.39</td>\n",
       "      <td>C69947528</td>\n",
       "      <td>0.00</td>\n",
       "      <td>0.00</td>\n",
       "      <td>C99275333</td>\n",
       "      <td>6385805.08</td>\n",
       "      <td>8238256.47</td>\n",
       "      <td>0</td>\n",
       "      <td>0</td>\n",
       "    </tr>\n",
       "  </tbody>\n",
       "</table>\n",
       "</div>"
      ],
      "text/plain": [
       "         step      type      amount     nameOrig  oldbalanceOrg  \\\n",
       "359565     17   CASH_IN   412517.62  C1721152088          25.00   \n",
       "779997     39  CASH_OUT   192150.54   C294291851       82193.00   \n",
       "608215     34   PAYMENT    12711.53  C1644448426      245749.84   \n",
       "5286531   373   CASH_IN    26087.53   C304560764    23257908.84   \n",
       "3822228   282  TRANSFER  1852451.39    C69947528           0.00   \n",
       "\n",
       "         newbalanceOrig     nameDest  oldbalanceDest  newbalanceDest  isFraud  \\\n",
       "359565        412542.62  C1244292009        49675.00            0.00        0   \n",
       "779997             0.00   C596156911       258601.69       621976.40        0   \n",
       "608215        233038.31  M1726695580            0.00            0.00        0   \n",
       "5286531     23283996.37   C643681155       539471.25       513383.72        0   \n",
       "3822228            0.00    C99275333      6385805.08      8238256.47        0   \n",
       "\n",
       "         isFlaggedFraud  \n",
       "359565                0  \n",
       "779997                0  \n",
       "608215                0  \n",
       "5286531               0  \n",
       "3822228               0  "
      ]
     },
     "execution_count": 5,
     "metadata": {},
     "output_type": "execute_result"
    }
   ],
   "source": [
    "df.head()"
   ]
  },
  {
   "cell_type": "code",
   "execution_count": 6,
   "id": "ffa1c4e1",
   "metadata": {
    "ExecuteTime": {
     "end_time": "2022-03-15T09:49:50.915546Z",
     "start_time": "2022-03-15T09:49:50.902675Z"
    }
   },
   "outputs": [
    {
     "name": "stdout",
     "output_type": "stream",
     "text": [
      "step              0\n",
      "type              0\n",
      "amount            0\n",
      "nameOrig          0\n",
      "oldbalanceOrg     0\n",
      "newbalanceOrig    0\n",
      "nameDest          0\n",
      "oldbalanceDest    0\n",
      "newbalanceDest    0\n",
      "isFraud           0\n",
      "isFlaggedFraud    0\n",
      "dtype: int64\n"
     ]
    }
   ],
   "source": [
    "print(df.isnull().sum())"
   ]
  },
  {
   "cell_type": "code",
   "execution_count": 7,
   "id": "8ea6b318",
   "metadata": {
    "ExecuteTime": {
     "end_time": "2022-03-15T09:49:51.409434Z",
     "start_time": "2022-03-15T09:49:50.917273Z"
    }
   },
   "outputs": [
    {
     "data": {
      "image/png": "[encoded data removed]",
      "text/plain": [
       "<Figure size 432x432 with 1 Axes>"
      ]
     },
     "metadata": {},
     "output_type": "display_data"
    }
   ],
   "source": [
    "import matplotlib.pyplot as plt\n",
    "plt.figure(figsize=(6,6))\n",
    "df['type'].value_counts().plot(kind='pie');"
   ]
  },
  {
   "cell_type": "code",
   "execution_count": 8,
   "id": "b6823614",
   "metadata": {
    "ExecuteTime": {
     "end_time": "2022-03-15T09:49:51.477386Z",
     "start_time": "2022-03-15T09:49:51.411106Z"
    }
   },
   "outputs": [
    {
     "data": {
      "image/png": "[encoded data removed]",
      "text/plain": [
       "<Figure size 432x432 with 1 Axes>"
      ]
     },
     "metadata": {},
     "output_type": "display_data"
    }
   ],
   "source": [
    "import matplotlib.pyplot as plt\n",
    "plt.figure(figsize=(6,6))\n",
    "df['isFraud'].value_counts().plot(kind='pie');"
   ]
  },
  {
   "cell_type": "code",
   "execution_count": 9,
   "id": "e1ee9034",
   "metadata": {
    "ExecuteTime": {
     "end_time": "2022-03-15T09:49:51.497100Z",
     "start_time": "2022-03-15T09:49:51.479772Z"
    }
   },
   "outputs": [
    {
     "data": {
      "text/html": [
       "<div>\n",
       "<style scoped>\n",
       "    .dataframe tbody tr th:only-of-type {\n",
       "        vertical-align: middle;\n",
       "    }\n",
       "\n",
       "    .dataframe tbody tr th {\n",
       "        vertical-align: top;\n",
       "    }\n",
       "\n",
       "    .dataframe thead th {\n",
       "        text-align: right;\n",
       "    }\n",
       "</style>\n",
       "<table border=\"1\" class=\"dataframe\">\n",
       "  <thead>\n",
       "    <tr style=\"text-align: right;\">\n",
       "      <th></th>\n",
       "      <th>step</th>\n",
       "      <th>amount</th>\n",
       "      <th>oldbalanceOrg</th>\n",
       "      <th>newbalanceOrig</th>\n",
       "      <th>oldbalanceDest</th>\n",
       "      <th>newbalanceDest</th>\n",
       "      <th>isFlaggedFraud</th>\n",
       "    </tr>\n",
       "    <tr>\n",
       "      <th>isFraud</th>\n",
       "      <th></th>\n",
       "      <th></th>\n",
       "      <th></th>\n",
       "      <th></th>\n",
       "      <th></th>\n",
       "      <th></th>\n",
       "      <th></th>\n",
       "    </tr>\n",
       "  </thead>\n",
       "  <tbody>\n",
       "    <tr>\n",
       "      <th>0</th>\n",
       "      <td>244.361662</td>\n",
       "      <td>1.748270e+05</td>\n",
       "      <td>8.543984e+05</td>\n",
       "      <td>879941.298869</td>\n",
       "      <td>1.111530e+06</td>\n",
       "      <td>1.229469e+06</td>\n",
       "      <td>0.0</td>\n",
       "    </tr>\n",
       "    <tr>\n",
       "      <th>1</th>\n",
       "      <td>222.800000</td>\n",
       "      <td>3.218608e+06</td>\n",
       "      <td>3.218608e+06</td>\n",
       "      <td>0.000000</td>\n",
       "      <td>3.487025e+04</td>\n",
       "      <td>1.103712e+06</td>\n",
       "      <td>0.0</td>\n",
       "    </tr>\n",
       "  </tbody>\n",
       "</table>\n",
       "</div>"
      ],
      "text/plain": [
       "               step        amount  oldbalanceOrg  newbalanceOrig  \\\n",
       "isFraud                                                            \n",
       "0        244.361662  1.748270e+05   8.543984e+05   879941.298869   \n",
       "1        222.800000  3.218608e+06   3.218608e+06        0.000000   \n",
       "\n",
       "         oldbalanceDest  newbalanceDest  isFlaggedFraud  \n",
       "isFraud                                                  \n",
       "0          1.111530e+06    1.229469e+06             0.0  \n",
       "1          3.487025e+04    1.103712e+06             0.0  "
      ]
     },
     "execution_count": 9,
     "metadata": {},
     "output_type": "execute_result"
    }
   ],
   "source": [
    "df.groupby('isFraud').mean()"
   ]
  },
  {
   "cell_type": "code",
   "execution_count": 10,
   "id": "e2ba6e36",
   "metadata": {
    "ExecuteTime": {
     "end_time": "2022-03-15T09:49:51.508963Z",
     "start_time": "2022-03-15T09:49:51.502027Z"
    }
   },
   "outputs": [
    {
     "name": "stdout",
     "output_type": "stream",
     "text": [
      "isFraud           1.000000\n",
      "amount            0.211754\n",
      "oldbalanceOrg     0.025216\n",
      "newbalanceDest   -0.000973\n",
      "step             -0.004753\n",
      "oldbalanceDest   -0.008647\n",
      "newbalanceOrig   -0.009275\n",
      "isFlaggedFraud         NaN\n",
      "Name: isFraud, dtype: float64\n"
     ]
    }
   ],
   "source": [
    "correlation = df.corr()\n",
    "print(correlation[\"isFraud\"].sort_values(ascending=False))"
   ]
  },
  {
   "cell_type": "code",
   "execution_count": 11,
   "id": "2b17112c",
   "metadata": {
    "ExecuteTime": {
     "end_time": "2022-03-15T09:49:52.126832Z",
     "start_time": "2022-03-15T09:49:51.510771Z"
    }
   },
   "outputs": [
    {
     "data": {
      "image/png": "[encoded data removed]",
      "text/plain": [
       "<Figure size 432x432 with 2 Axes>"
      ]
     },
     "metadata": {
      "needs_background": "light"
     },
     "output_type": "display_data"
    }
   ],
   "source": [
    "import seaborn as sns\n",
    "import matplotlib.pyplot as plt\n",
    "plt.figure(figsize=(6,6))\n",
    "sns.heatmap(correlation, vmin=-1, vmax=1, annot=True,fmt='.1g', cmap='RdBu', robust=True #center=True)\n",
    "           );"
   ]
  },
  {
   "cell_type": "markdown",
   "id": "0538dd14",
   "metadata": {},
   "source": [
    "### Random forest model uz pomoc Grid Search"
   ]
  },
  {
   "cell_type": "code",
   "execution_count": 12,
   "id": "4227e72b",
   "metadata": {
    "ExecuteTime": {
     "end_time": "2022-03-15T09:49:52.139751Z",
     "start_time": "2022-03-15T09:49:52.129053Z"
    }
   },
   "outputs": [
    {
     "name": "stdout",
     "output_type": "stream",
     "text": [
      "         step  type      amount     nameOrig  oldbalanceOrg  newbalanceOrig  \\\n",
      "359565     17     3   412517.62  C1721152088          25.00       412542.62   \n",
      "779997     39     1   192150.54   C294291851       82193.00            0.00   \n",
      "608215     34     2    12711.53  C1644448426      245749.84       233038.31   \n",
      "5286531   373     3    26087.53   C304560764    23257908.84     23283996.37   \n",
      "3822228   282     4  1852451.39    C69947528           0.00            0.00   \n",
      "\n",
      "            nameDest  oldbalanceDest  newbalanceDest  isFraud  isFlaggedFraud  \n",
      "359565   C1244292009        49675.00            0.00        0               0  \n",
      "779997    C596156911       258601.69       621976.40        0               0  \n",
      "608215   M1726695580            0.00            0.00        0               0  \n",
      "5286531   C643681155       539471.25       513383.72        0               0  \n",
      "3822228    C99275333      6385805.08      8238256.47        0               0  \n"
     ]
    }
   ],
   "source": [
    "df[\"type\"] = df[\"type\"].map({\"CASH_OUT\": 1, \"PAYMENT\": 2, \n",
    "                                 \"CASH_IN\": 3, \"TRANSFER\": 4,\n",
    "                                 \"DEBIT\": 5})\n",
    "# df[\"isFraud\"] = df[\"isFraud\"].map({0: \"No Fraud\", 1: \"Fraud\"})\n",
    "print(df.head())"
   ]
  },
  {
   "cell_type": "code",
   "execution_count": 13,
   "id": "1d2ad817",
   "metadata": {
    "ExecuteTime": {
     "end_time": "2022-03-15T09:49:52.147834Z",
     "start_time": "2022-03-15T09:49:52.142159Z"
    }
   },
   "outputs": [
    {
     "data": {
      "text/plain": [
       "0    9990\n",
       "1      10\n",
       "Name: isFraud, dtype: int64"
      ]
     },
     "execution_count": 13,
     "metadata": {},
     "output_type": "execute_result"
    }
   ],
   "source": [
    "df[\"isFraud\"].value_counts()"
   ]
  },
  {
   "cell_type": "code",
   "execution_count": 14,
   "id": "3d67260e",
   "metadata": {
    "ExecuteTime": {
     "end_time": "2022-03-15T09:49:52.205882Z",
     "start_time": "2022-03-15T09:49:52.149952Z"
    }
   },
   "outputs": [],
   "source": [
    "import numpy as np\n",
    "from sklearn.model_selection import train_test_split\n",
    "from sklearn.utils import shuffle\n",
    "df['diffORG'] = df['newbalanceOrig'] - df['oldbalanceOrg']\n",
    "df['diffDEST'] = df['newbalanceDest'] - df['oldbalanceDest']\n",
    "x = np.array(df[[\"type\", \"amount\", \"oldbalanceOrg\", \"newbalanceOrig\", 'diffDEST', 'diffORG', 'newbalanceDest', 'oldbalanceDest']])\n",
    "y = np.array(df[[\"isFraud\"]])\n",
    "x, y = shuffle(x, y)"
   ]
  },
  {
   "cell_type": "code",
   "execution_count": 15,
   "id": "1984a873",
   "metadata": {
    "ExecuteTime": {
     "end_time": "2022-03-15T09:49:52.211076Z",
     "start_time": "2022-03-15T09:49:52.207651Z"
    }
   },
   "outputs": [],
   "source": [
    "x_train, x_test, y_train, y_test = train_test_split(x, y, test_size=0.10, random_state=42)"
   ]
  },
  {
   "cell_type": "code",
   "execution_count": 16,
   "id": "848be3f1",
   "metadata": {
    "ExecuteTime": {
     "end_time": "2022-03-15T09:49:52.303993Z",
     "start_time": "2022-03-15T09:49:52.212495Z"
    }
   },
   "outputs": [
    {
     "name": "stdout",
     "output_type": "stream",
     "text": [
      "0.999\n"
     ]
    }
   ],
   "source": [
    "from sklearn.tree import DecisionTreeClassifier\n",
    "\n",
    "model = DecisionTreeClassifier()\n",
    "model.fit(x_train, y_train)\n",
    "print(model.score(x_test, y_test))"
   ]
  },
  {
   "cell_type": "code",
   "execution_count": 17,
   "id": "68b7944c",
   "metadata": {
    "ExecuteTime": {
     "end_time": "2022-03-15T09:49:52.308531Z",
     "start_time": "2022-03-15T09:49:52.305488Z"
    }
   },
   "outputs": [],
   "source": [
    "# parameters for GridSearch\n",
    "parameters = {'criterion':('gini', 'entropy'), 'n_estimators':[200, 300], 'max_depth':[2,7], 'max_leaf_nodes':[2,15]}"
   ]
  },
  {
   "cell_type": "code",
   "execution_count": 18,
   "id": "815b37b7",
   "metadata": {
    "ExecuteTime": {
     "end_time": "2022-03-15T09:49:52.340893Z",
     "start_time": "2022-03-15T09:49:52.310178Z"
    }
   },
   "outputs": [],
   "source": [
    "from sklearn.ensemble import RandomForestClassifier\n",
    "from sklearn.model_selection import GridSearchCV\n",
    "\n",
    "rf_model = RandomForestClassifier()\n",
    "best_rf_model = GridSearchCV(rf_model, parameters)"
   ]
  },
  {
   "cell_type": "code",
   "execution_count": 19,
   "id": "09020060",
   "metadata": {
    "ExecuteTime": {
     "end_time": "2022-03-15T09:49:52.344434Z",
     "start_time": "2022-03-15T09:49:52.342063Z"
    },
    "scrolled": true
   },
   "outputs": [],
   "source": [
    "#pokrecemo gridsearch\n",
    "y_train = y_train.reshape(-1)\n",
    "# best_rf_model.fit(x_train, y_train)"
   ]
  },
  {
   "cell_type": "code",
   "execution_count": 20,
   "id": "2bac06f7",
   "metadata": {
    "ExecuteTime": {
     "end_time": "2022-03-15T09:49:52.348478Z",
     "start_time": "2022-03-15T09:49:52.346150Z"
    }
   },
   "outputs": [],
   "source": [
    "# sorted(best_rf_model.cv_results_.keys())"
   ]
  },
  {
   "cell_type": "code",
   "execution_count": 21,
   "id": "b41cb762",
   "metadata": {
    "ExecuteTime": {
     "end_time": "2022-03-15T09:49:52.352037Z",
     "start_time": "2022-03-15T09:49:52.350105Z"
    }
   },
   "outputs": [],
   "source": [
    "# print(\" Results from Grid Search \" )\n",
    "# print(\"\\n The best estimator across ALL searched params:\\n\",best_rf_model.best_estimator_)\n",
    "# print(\"\\n The best score across ALL searched params:\\n\",best_rf_model.best_score_)\n",
    "# print(\"\\n The best parameters across ALL searched params:\\n\",best_rf_model.best_params_)"
   ]
  },
  {
   "cell_type": "markdown",
   "id": "fd757d50",
   "metadata": {},
   "source": [
    " Results from Grid Search \n",
    "\n",
    " The best estimator across ALL searched params:\n",
    " RandomForestClassifier(max_depth=7, max_leaf_nodes=15, n_estimators=200)\n",
    "\n",
    " The best score across ALL searched params:\n",
    " 0.9987777777777778\n",
    "\n",
    " The best parameters across ALL searched params:\n",
    " {'criterion': 'gini', 'max_depth': 7, 'max_leaf_nodes': 15, 'n_estimators': 200}"
   ]
  },
  {
   "cell_type": "markdown",
   "id": "6e126938",
   "metadata": {},
   "source": [
    "### Plotovanje greske u zavinosti od hiperparametara modela"
   ]
  },
  {
   "cell_type": "code",
   "execution_count": 22,
   "id": "f740bcbd",
   "metadata": {
    "ExecuteTime": {
     "end_time": "2022-03-15T09:49:53.010906Z",
     "start_time": "2022-03-15T09:49:52.353450Z"
    }
   },
   "outputs": [
    {
     "name": "stdout",
     "output_type": "stream",
     "text": [
      "precision:  0.0\n",
      "recall:  0.0\n",
      "f1:  0.0\n"
     ]
    },
    {
     "name": "stderr",
     "output_type": "stream",
     "text": [
      "/opt/anaconda3/lib/python3.8/site-packages/sklearn/metrics/_classification.py:1318: UndefinedMetricWarning: Precision is ill-defined and being set to 0.0 due to no predicted samples. Use `zero_division` parameter to control this behavior.\n",
      "  _warn_prf(average, modifier, msg_start, len(result))\n"
     ]
    }
   ],
   "source": [
    "from sklearn import metrics\n",
    "\n",
    "y_train = y_train.reshape(-1)\n",
    "rf_model = RandomForestClassifier(max_depth=7, max_leaf_nodes = 15, n_estimators=200)\n",
    "rf_model.fit(x_train, y_train)\n",
    "y_pred = rf_model.predict(x_test)\n",
    "\n",
    "print('precision: ', metrics.precision_score(y_test,y_pred))\n",
    "print('recall: ', metrics.recall_score(y_test,y_pred))\n",
    "print('f1: ', metrics.f1_score(y_test,y_pred))"
   ]
  },
  {
   "cell_type": "code",
   "execution_count": 23,
   "id": "4e51f99e",
   "metadata": {
    "ExecuteTime": {
     "end_time": "2022-03-15T09:49:53.015477Z",
     "start_time": "2022-03-15T09:49:53.013086Z"
    }
   },
   "outputs": [],
   "source": [
    "# y_pred"
   ]
  },
  {
   "cell_type": "markdown",
   "id": "cd26db09",
   "metadata": {
    "ExecuteTime": {
     "start_time": "2022-03-14T09:46:23.101Z"
    }
   },
   "source": []
  },
  {
   "cell_type": "markdown",
   "id": "d0ca98e2",
   "metadata": {},
   "source": [
    "### Pokusavamo oversampling"
   ]
  },
  {
   "cell_type": "code",
   "execution_count": 30,
   "id": "82237418",
   "metadata": {
    "ExecuteTime": {
     "end_time": "2022-03-15T09:54:36.442352Z",
     "start_time": "2022-03-15T09:54:36.434856Z"
    }
   },
   "outputs": [],
   "source": [
    "df['diffORG'] = df['newbalanceOrig'] - df['oldbalanceOrg']\n",
    "df['diffDEST'] = df['newbalanceDest'] - df['oldbalanceDest']\n",
    "x = np.array(df[[\"type\", \"amount\", \"oldbalanceOrg\", \"newbalanceOrig\", 'diffDEST', 'diffORG', 'newbalanceDest', 'oldbalanceDest']])\n",
    "y = np.array(df[[\"isFraud\"]])\n",
    "x, y = shuffle(x, y)"
   ]
  },
  {
   "cell_type": "code",
   "execution_count": 31,
   "id": "5eadbf8c",
   "metadata": {
    "ExecuteTime": {
     "end_time": "2022-03-15T09:54:39.778517Z",
     "start_time": "2022-03-15T09:54:39.765643Z"
    }
   },
   "outputs": [
    {
     "name": "stdout",
     "output_type": "stream",
     "text": [
      "Original dataset shape Counter({0: 9990, 1: 10})\n",
      "Resample dataset shape Counter({0: 9990, 1: 9990})\n"
     ]
    }
   ],
   "source": [
    "# import library\n",
    "from imblearn.over_sampling import SMOTE, ADASYN\n",
    "from collections import Counter\n",
    "\n",
    "X_resampled, y_resampled = SMOTE().fit_resample(x, y)\n",
    "# fit predictor and target variable\n",
    "print('Original dataset shape', Counter(pd.Series(y.reshape(-1))))\n",
    "print('Resample dataset shape', Counter(pd.Series(y_resampled.reshape(-1))))"
   ]
  },
  {
   "cell_type": "code",
   "execution_count": 49,
   "id": "7f10852e",
   "metadata": {
    "ExecuteTime": {
     "end_time": "2022-03-15T10:07:25.979764Z",
     "start_time": "2022-03-15T10:07:25.974793Z"
    }
   },
   "outputs": [],
   "source": [
    "df_resampled = pd.DataFrame(X_resampled, columns = [\"type\", \"amount\", \"oldbalanceOrg\", \"newbalanceOrig\", 'diffDEST', 'diffORG', 'newbalanceDest', 'oldbalanceDest'])\n",
    "df_resampled['isFraud'] = pd.Series(y_resampled)"
   ]
  },
  {
   "cell_type": "code",
   "execution_count": 55,
   "id": "63e3f12d",
   "metadata": {
    "ExecuteTime": {
     "end_time": "2022-03-15T10:15:07.586391Z",
     "start_time": "2022-03-15T10:15:07.348338Z"
    }
   },
   "outputs": [
    {
     "data": {
      "image/png": "[encoded data removed]",
      "text/plain": [
       "<Figure size 432x288 with 1 Axes>"
      ]
     },
     "metadata": {
      "needs_background": "light"
     },
     "output_type": "display_data"
    }
   ],
   "source": [
    "plt.scatter(df[df['isFraud']==0]['diffORG'], df[df['isFraud']==0]['diffDEST'], label = 'Regular')\n",
    "plt.scatter(df[df['isFraud']==1]['diffORG'], df[df['isFraud']==1]['diffDEST'], label = 'Frauds')\n",
    "plt.xlabel('diffORF')\n",
    "plt.ylabel('diffDEST')\n",
    "plt.title('Regular data')\n",
    "plt.legend();"
   ]
  },
  {
   "cell_type": "code",
   "execution_count": 54,
   "id": "7d0b7b56",
   "metadata": {
    "ExecuteTime": {
     "end_time": "2022-03-15T10:14:49.619382Z",
     "start_time": "2022-03-15T10:14:49.312738Z"
    }
   },
   "outputs": [
    {
     "data": {
      "image/png": "[encoded data removed]",
      "text/plain": [
       "<Figure size 432x288 with 1 Axes>"
      ]
     },
     "metadata": {
      "needs_background": "light"
     },
     "output_type": "display_data"
    }
   ],
   "source": [
    "plt.scatter(df_resampled[df_resampled['isFraud']==0]['diffORG'], df_resampled[df_resampled['isFraud']==0]['diffDEST'], label = 'Regular')\n",
    "plt.scatter(df_resampled[df_resampled['isFraud']==1]['diffORG'], df_resampled[df_resampled['isFraud']==1]['diffDEST'], label = 'Frauds')\n",
    "plt.xlabel('diffORF')\n",
    "plt.ylabel('diffDEST')\n",
    "plt.title('SMOTE oversampled data')\n",
    "plt.legend();"
   ]
  },
  {
   "cell_type": "markdown",
   "id": "05d5a25b",
   "metadata": {},
   "source": [
    "Uzimamo parametere za najbolji model iz grid search-a"
   ]
  },
  {
   "cell_type": "code",
   "execution_count": 71,
   "id": "7a048a6c",
   "metadata": {
    "ExecuteTime": {
     "end_time": "2022-03-15T10:21:01.402925Z",
     "start_time": "2022-03-15T10:20:57.813753Z"
    }
   },
   "outputs": [
    {
     "data": {
      "text/plain": [
       "RandomForestClassifier(max_depth=7, max_leaf_nodes=20, n_estimators=500)"
      ]
     },
     "execution_count": 71,
     "metadata": {},
     "output_type": "execute_result"
    }
   ],
   "source": [
    "x_train, x_test, y_train, y_test = train_test_split(X_resampled, y_resampled, test_size=0.10, random_state=42)\n",
    "rf = RandomForestClassifier(max_depth=7, max_leaf_nodes=20, n_estimators=500)\n",
    "rf.fit(x_train,y_train)"
   ]
  },
  {
   "cell_type": "code",
   "execution_count": 72,
   "id": "2a537025",
   "metadata": {
    "ExecuteTime": {
     "end_time": "2022-03-15T10:21:54.247540Z",
     "start_time": "2022-03-15T10:21:54.146234Z"
    }
   },
   "outputs": [],
   "source": [
    "y_pred = rf.predict(x_test)"
   ]
  },
  {
   "cell_type": "code",
   "execution_count": 74,
   "id": "29d09186",
   "metadata": {
    "ExecuteTime": {
     "end_time": "2022-03-15T10:22:03.922718Z",
     "start_time": "2022-03-15T10:22:03.910062Z"
    }
   },
   "outputs": [
    {
     "name": "stdout",
     "output_type": "stream",
     "text": [
      "precision:  1.0\n",
      "recall:  1.0\n",
      "f1:  1.0\n",
      "accuracy: 1.0\n",
      "roc_auc_score: 1.0\n"
     ]
    }
   ],
   "source": [
    "print('precision: ', round(metrics.precision_score(y_test,y_pred),4))\n",
    "print('recall: ', round(metrics.recall_score(y_test,y_pred),4))\n",
    "print('f1: ', round(metrics.f1_score(y_test,y_pred),4))\n",
    "print('accuracy:', round(metrics.accuracy_score(y_test,y_pred),4))\n",
    "print('roc_auc_score:', round(metrics.roc_auc_score(y_test,y_pred),4))"
   ]
  },
  {
   "cell_type": "markdown",
   "id": "e12e9df8",
   "metadata": {},
   "source": [
    "Malo se igramo sa vizualizacijom potraga..."
   ]
  },
  {
   "cell_type": "code",
   "execution_count": 58,
   "id": "5a9c71ff",
   "metadata": {
    "ExecuteTime": {
     "end_time": "2022-03-15T10:16:24.062350Z",
     "start_time": "2022-03-15T10:16:18.839294Z"
    }
   },
   "outputs": [
    {
     "data": {
      "text/plain": [
       "Text(0.5, 1.0, 'Precision i Recall vs Dubina drveta')"
      ]
     },
     "execution_count": 58,
     "metadata": {},
     "output_type": "execute_result"
    },
    {
     "data": {
      "image/png": "[encoded data removed]",
      "text/plain": [
       "<Figure size 432x288 with 1 Axes>"
      ]
     },
     "metadata": {
      "needs_background": "light"
     },
     "output_type": "display_data"
    }
   ],
   "source": [
    "from sklearn import metrics\n",
    "from sklearn.ensemble import RandomForestClassifier\n",
    "\n",
    "recall=[]\n",
    "precision = []\n",
    "max_depth = [1,2,3,4,5,6,7,8]\n",
    "\n",
    "for depth in max_depth:\n",
    "    rf = RandomForestClassifier(max_depth=depth)\n",
    "    rf.fit(x_train,y_train)\n",
    "    y_pred = rf.predict(x_test)\n",
    "    recall.append(metrics.recall_score(y_test,y_pred))\n",
    "    precision.append(metrics.precision_score(y_test,y_pred))\n",
    "\n",
    "fig = plt.figure()\n",
    "axes = fig.add_axes([0.1, 0.1, 0.8, 0.8]) # velicina osa\n",
    "# plotujemo ose\n",
    "axes.plot(max_depth, recall, 'b', label='recall')\n",
    "axes.plot(max_depth, precision, 'r', label='precision')\n",
    "axes.legend()\n",
    "axes.set_xlabel('Dubina drveta') # Notice the use of set_ to begin methods\n",
    "axes.set_ylabel('Stopa tacno klasifikovanih slucajeva')\n",
    "axes.set_title('Precision i Recall vs Dubina drveta')"
   ]
  },
  {
   "cell_type": "code",
   "execution_count": 59,
   "id": "595e2e37",
   "metadata": {
    "ExecuteTime": {
     "end_time": "2022-03-15T10:16:36.100357Z",
     "start_time": "2022-03-15T10:16:27.468101Z"
    }
   },
   "outputs": [
    {
     "data": {
      "text/plain": [
       "Text(0.5, 1.0, 'Precision i Recall vs Broj listica')"
      ]
     },
     "execution_count": 59,
     "metadata": {},
     "output_type": "execute_result"
    },
    {
     "data": {
      "image/png": "[encoded data removed]",
      "text/plain": [
       "<Figure size 432x288 with 1 Axes>"
      ]
     },
     "metadata": {
      "needs_background": "light"
     },
     "output_type": "display_data"
    }
   ],
   "source": [
    "recall=[]\n",
    "precision = []\n",
    "max_leaf_nodes = [2,4,6,8,10,12,14,16,18,20,22,24]\n",
    "\n",
    "for node in max_leaf_nodes:\n",
    "    rf = RandomForestClassifier(max_leaf_nodes=node)\n",
    "    rf.fit(x_train,y_train)\n",
    "    y_pred = rf.predict(x_test)\n",
    "    recall.append(metrics.recall_score(y_test,y_pred))\n",
    "    precision.append(metrics.precision_score(y_test,y_pred))\n",
    "\n",
    "fig = plt.figure()\n",
    "axes = fig.add_axes([0.1, 0.1, 0.8, 0.8]) # velicina osa\n",
    "# plotujemo ose\n",
    "axes.plot(max_leaf_nodes, recall, 'b', label='recall')\n",
    "axes.plot(max_leaf_nodes, precision, 'r', label='precision')\n",
    "axes.legend()\n",
    "axes.set_xlabel('Broj listica') # Notice the use of set_ to begin methods\n",
    "axes.set_ylabel('Stopa tacno klasifikovanih slucajeva')\n",
    "axes.set_title('Precision i Recall vs Broj listica')"
   ]
  },
  {
   "cell_type": "code",
   "execution_count": 60,
   "id": "4625c49f",
   "metadata": {
    "ExecuteTime": {
     "end_time": "2022-03-15T10:16:52.466698Z",
     "start_time": "2022-03-15T10:16:40.079286Z"
    }
   },
   "outputs": [
    {
     "data": {
      "text/plain": [
       "Text(0.5, 1.0, 'Precision i Recall vs Broj drveta')"
      ]
     },
     "execution_count": 60,
     "metadata": {},
     "output_type": "execute_result"
    },
    {
     "data": {
      "image/png": "[encoded data removed]",
      "text/plain": [
       "<Figure size 432x288 with 1 Axes>"
      ]
     },
     "metadata": {
      "needs_background": "light"
     },
     "output_type": "display_data"
    }
   ],
   "source": [
    "recall=[]\n",
    "precision = []\n",
    "broj_drveca = [1, 5,10,50,70, 100, 200, 300, 400, 500]\n",
    "\n",
    "for drvo in broj_drveca:\n",
    "    rf = RandomForestClassifier(n_estimators=drvo)\n",
    "    rf.fit(x_train,y_train)\n",
    "    y_pred = rf.predict(x_test)\n",
    "    recall.append(metrics.recall_score(y_test,y_pred))\n",
    "    precision.append(metrics.precision_score(y_test,y_pred))\n",
    "\n",
    "fig = plt.figure()\n",
    "axes = fig.add_axes([0.1, 0.1, 0.8, 0.8]) # velicina osa\n",
    "# plotujemo ose\n",
    "axes.plot(broj_drveca, recall, 'b', label='recall')\n",
    "axes.plot(broj_drveca, precision, 'r', label='precision')\n",
    "axes.legend()\n",
    "axes.set_xlabel('Broj drveca') # Notice the use of set_ to begin methods\n",
    "axes.set_ylabel('Stopa tacno klasifikovanih slucajeva')\n",
    "axes.set_title('Precision i Recall vs Broj drveta')"
   ]
  },
  {
   "cell_type": "markdown",
   "id": "fa0b87c8",
   "metadata": {},
   "source": [
    "### Uzimamo drugu grupu podataka i isprobavamo model na njoj"
   ]
  },
  {
   "cell_type": "markdown",
   "id": "6ea26dfc",
   "metadata": {},
   "source": [
    "Uzimamo 6 frauds i proveravamo da li ce ih smote oversemplovani model prepoznati"
   ]
  },
  {
   "cell_type": "code",
   "execution_count": 113,
   "id": "d79513c4",
   "metadata": {
    "ExecuteTime": {
     "end_time": "2022-03-15T10:43:51.770830Z",
     "start_time": "2022-03-15T10:43:41.992782Z"
    }
   },
   "outputs": [
    {
     "name": "stdout",
     "output_type": "stream",
     "text": [
      "ukupno prevara: 6\n"
     ]
    }
   ],
   "source": [
    "df = pd.read_csv('online_payment.csv')\n",
    "df_2 = df[40000:50000].copy()\n",
    "\n",
    "df_2[\"type\"] = df_2[\"type\"].map({\"CASH_OUT\": 1, \"PAYMENT\": 2, \n",
    "                                 \"CASH_IN\": 3, \"TRANSFER\": 4,\n",
    "                                 \"DEBIT\": 5})\n",
    "df_2['diffORG'] = df_2['newbalanceOrig'] - df_2['oldbalanceOrg']\n",
    "df_2['diffDEST'] = df_2['newbalanceDest'] - df_2['oldbalanceDest']\n",
    "\n",
    "print('ukupno prevara:', len(df_2[df_2['isFraud']==1]))\n",
    "\n",
    "real_frauds = df_2[df_2['isFraud']==1]\n",
    "\n",
    "real_frauds = real_frauds[[\"type\", \"amount\", \"oldbalanceOrg\", \"newbalanceOrig\", 'diffDEST', 'diffORG', 'newbalanceDest', 'oldbalanceDest']]"
   ]
  },
  {
   "cell_type": "code",
   "execution_count": 114,
   "id": "6cbae15e",
   "metadata": {
    "ExecuteTime": {
     "end_time": "2022-03-15T10:43:53.862885Z",
     "start_time": "2022-03-15T10:43:53.806380Z"
    }
   },
   "outputs": [],
   "source": [
    "y_pred_real_frauds = rf.predict(np.array(real_frauds))"
   ]
  },
  {
   "cell_type": "markdown",
   "id": "5aa6536e",
   "metadata": {
    "ExecuteTime": {
     "end_time": "2022-03-15T10:33:14.134281Z",
     "start_time": "2022-03-15T10:33:14.131737Z"
    }
   },
   "source": [
    "# SMOTE model je uspeo da uhvati 4 od 6 prevara!!!"
   ]
  },
  {
   "cell_type": "code",
   "execution_count": 115,
   "id": "decd6525",
   "metadata": {
    "ExecuteTime": {
     "end_time": "2022-03-15T10:43:55.352408Z",
     "start_time": "2022-03-15T10:43:55.347579Z"
    }
   },
   "outputs": [
    {
     "data": {
      "text/plain": [
       "array([1, 0, 1, 1, 1, 0])"
      ]
     },
     "execution_count": 115,
     "metadata": {},
     "output_type": "execute_result"
    }
   ],
   "source": [
    "y_pred_real_frauds"
   ]
  },
  {
   "cell_type": "code",
   "execution_count": 116,
   "id": "64465d9f",
   "metadata": {
    "ExecuteTime": {
     "end_time": "2022-03-15T10:43:57.024834Z",
     "start_time": "2022-03-15T10:43:57.020936Z"
    }
   },
   "outputs": [
    {
     "data": {
      "text/plain": [
       "6"
      ]
     },
     "execution_count": 116,
     "metadata": {},
     "output_type": "execute_result"
    }
   ],
   "source": [
    "len(y_pred_real_frauds)"
   ]
  },
  {
   "cell_type": "code",
   "execution_count": 118,
   "id": "3b6073af",
   "metadata": {
    "ExecuteTime": {
     "end_time": "2022-03-15T10:44:08.106947Z",
     "start_time": "2022-03-15T10:44:08.049467Z"
    }
   },
   "outputs": [
    {
     "data": {
      "text/plain": [
       "array([0.52361054, 0.05814763, 0.98193414, 0.79662561, 0.97058152,\n",
       "       0.16147441])"
      ]
     },
     "execution_count": 118,
     "metadata": {},
     "output_type": "execute_result"
    }
   ],
   "source": [
    "y_pred_real_frauds_proba = rf.predict_proba(np.array(real_frauds))\n",
    "y_pred_real_frauds_proba[:,1]"
   ]
  },
  {
   "cell_type": "markdown",
   "id": "577864ed",
   "metadata": {},
   "source": [
    "### Radimo to isto samo na drugom setu podataka. Provericemo da li model prepoznaje slucajave prevare (n=13)"
   ]
  },
  {
   "cell_type": "code",
   "execution_count": 119,
   "id": "59c83825",
   "metadata": {
    "ExecuteTime": {
     "end_time": "2022-03-15T10:44:35.511729Z",
     "start_time": "2022-03-15T10:44:25.541451Z"
    }
   },
   "outputs": [
    {
     "name": "stdout",
     "output_type": "stream",
     "text": [
      "ukupno prevara: 3\n"
     ]
    }
   ],
   "source": [
    "df = pd.read_csv('online_payment.csv')\n",
    "df_2 = df[20000:30000].copy()\n",
    "\n",
    "df_2[\"type\"] = df_2[\"type\"].map({\"CASH_OUT\": 1, \"PAYMENT\": 2, \n",
    "                                 \"CASH_IN\": 3, \"TRANSFER\": 4,\n",
    "                                 \"DEBIT\": 5})\n",
    "df_2['diffORG'] = df_2['newbalanceOrig'] - df_2['oldbalanceOrg']\n",
    "df_2['diffDEST'] = df_2['newbalanceDest'] - df_2['oldbalanceDest']\n",
    "\n",
    "print('ukupno prevara:', len(df_2[df_2['isFraud']==1]))\n",
    "\n",
    "real_frauds = df_2[df_2['isFraud']==1]\n",
    "\n",
    "real_frauds = real_frauds[[\"type\", \"amount\", \"oldbalanceOrg\", \"newbalanceOrig\", 'diffDEST', 'diffORG', 'newbalanceDest', 'oldbalanceDest']]"
   ]
  },
  {
   "cell_type": "code",
   "execution_count": 120,
   "id": "60539514",
   "metadata": {
    "ExecuteTime": {
     "end_time": "2022-03-15T10:44:44.193502Z",
     "start_time": "2022-03-15T10:44:44.138141Z"
    }
   },
   "outputs": [],
   "source": [
    "y_pred_real_frauds = rf.predict(np.array(real_frauds))"
   ]
  },
  {
   "cell_type": "code",
   "execution_count": 122,
   "id": "9cbf26ce",
   "metadata": {
    "ExecuteTime": {
     "end_time": "2022-03-15T10:44:56.450935Z",
     "start_time": "2022-03-15T10:44:56.446494Z"
    }
   },
   "outputs": [
    {
     "data": {
      "text/plain": [
       "array([0, 0, 0])"
      ]
     },
     "execution_count": 122,
     "metadata": {},
     "output_type": "execute_result"
    }
   ],
   "source": [
    "y_pred_real_frauds"
   ]
  },
  {
   "cell_type": "code",
   "execution_count": 123,
   "id": "0aaa771b",
   "metadata": {
    "ExecuteTime": {
     "end_time": "2022-03-15T10:45:36.598220Z",
     "start_time": "2022-03-15T10:45:36.550677Z"
    }
   },
   "outputs": [],
   "source": [
    "y_pred_real_frauds_proba = rf.predict_proba(np.array(real_frauds))"
   ]
  },
  {
   "cell_type": "code",
   "execution_count": 125,
   "id": "f76c6bbc",
   "metadata": {
    "ExecuteTime": {
     "end_time": "2022-03-15T10:45:55.118873Z",
     "start_time": "2022-03-15T10:45:55.113846Z"
    }
   },
   "outputs": [
    {
     "data": {
      "text/plain": [
       "array([0.02, 0.  , 0.  ])"
      ]
     },
     "execution_count": 125,
     "metadata": {},
     "output_type": "execute_result"
    }
   ],
   "source": [
    "y_pred_real_frauds_proba[:,1]"
   ]
  },
  {
   "cell_type": "code",
   "execution_count": 128,
   "id": "386fce88",
   "metadata": {
    "ExecuteTime": {
     "end_time": "2022-03-15T10:46:48.380773Z",
     "start_time": "2022-03-15T10:46:48.140250Z"
    }
   },
   "outputs": [
    {
     "data": {
      "image/png": "[encoded data removed]",
      "text/plain": [
       "<Figure size 432x288 with 1 Axes>"
      ]
     },
     "metadata": {
      "needs_background": "light"
     },
     "output_type": "display_data"
    }
   ],
   "source": [
    "import matplotlib.pyplot as plt\n",
    "\n",
    "y_pred_2_proba = rf.predict_proba(x_test)\n",
    "\n",
    "\n",
    "pos_probs = y_pred_2_proba[:, 1]\n",
    "\n",
    "roc_auc = metrics.roc_auc_score(y_test, pos_probs)\n",
    "# plot no skill roc curve\n",
    "plt.plot([0, 1], [0, 1], linestyle='--', label='No Skill')\n",
    "# calculate roc curve for model\n",
    "fpr, tpr, _ = metrics.roc_curve(y_test, pos_probs)\n",
    "# plot model roc curve\n",
    "plt.plot(fpr, tpr, marker='.', label='Random_forest_model')\n",
    "# axis labels\n",
    "plt.xlabel('False Positive Rate')\n",
    "plt.ylabel('True Positive Rate')\n",
    "# show the legend\n",
    "plt.legend()\n",
    "plt.title(f'AUC score: {round(roc_auc,3)}')\n",
    "# show the plot\n",
    "plt.show()"
   ]
  },
  {
   "cell_type": "code",
   "execution_count": 140,
   "id": "7002cbe3",
   "metadata": {
    "ExecuteTime": {
     "end_time": "2022-03-15T10:51:28.262283Z",
     "start_time": "2022-03-15T10:51:28.120823Z"
    }
   },
   "outputs": [
    {
     "data": {
      "image/png": "[encoded data removed]",
      "text/plain": [
       "<Figure size 432x288 with 1 Axes>"
      ]
     },
     "metadata": {
      "needs_background": "light"
     },
     "output_type": "display_data"
    }
   ],
   "source": [
    "from sklearn.metrics import precision_recall_curve\n",
    "from sklearn.metrics import auc\n",
    "\n",
    "\n",
    "pos_probs = y_pred_2_proba[:, 1]\n",
    "\n",
    "no_skill = len(y_test[y_test==1]) / len(y_test)\n",
    "# plot the no skill precision-recall curve\n",
    "plt.plot([0, 1], [no_skill, no_skill], linestyle='--', label='No Skill')\n",
    "# calculate model precision-recall curve\n",
    "precision, recall, _ = precision_recall_curve(y_test, pos_probs)\n",
    "\n",
    "auc_score = auc(recall, precision)\n",
    "# plot the model precision-recall curve\n",
    "plt.plot(recall, precision, marker='.', label='Random forest')\n",
    "# axis labels\n",
    "plt.xlabel('Recall')\n",
    "plt.ylabel('Precision')\n",
    "plt.legend()\n",
    "plt.title(f'Precision-Recall AUC Score {round(auc_score,3)}')\n",
    "# show the plot\n",
    "plt.show()"
   ]
  },
  {
   "cell_type": "markdown",
   "id": "4023e096",
   "metadata": {},
   "source": [
    "### Kreiramo novi model sa tresholdom 0.2 kako nam nijedna prevara ne bi promakla ali sa rizikom da povecamo fp"
   ]
  },
  {
   "cell_type": "code",
   "execution_count": 134,
   "id": "83cd6467",
   "metadata": {
    "ExecuteTime": {
     "end_time": "2022-03-15T10:47:48.226913Z",
     "start_time": "2022-03-15T10:47:48.129100Z"
    }
   },
   "outputs": [],
   "source": [
    "threshold = 0.2\n",
    "\n",
    "predicted_proba = rf.predict_proba(x_test)\n",
    "y_pred_3 = (predicted_proba [:,1] >= threshold).astype('int')\n"
   ]
  },
  {
   "cell_type": "code",
   "execution_count": 135,
   "id": "be550f25",
   "metadata": {
    "ExecuteTime": {
     "end_time": "2022-03-15T10:47:49.617533Z",
     "start_time": "2022-03-15T10:47:49.603503Z"
    }
   },
   "outputs": [
    {
     "name": "stdout",
     "output_type": "stream",
     "text": [
      "precision:  0.999\n",
      "recall:  1.0\n",
      "f1:  0.9995\n",
      "accuracy: 0.9995\n",
      "roc_auc_score: 0.9995\n"
     ]
    }
   ],
   "source": [
    "print('precision: ', round(metrics.precision_score(y_test,y_pred_3),4))\n",
    "print('recall: ', round(metrics.recall_score(y_test,y_pred_3),4))\n",
    "print('f1: ', round(metrics.f1_score(y_test,y_pred_3),4))\n",
    "print('accuracy:', round(metrics.accuracy_score(y_test,y_pred_3),4))\n",
    "print('roc_auc_score:', round(metrics.roc_auc_score(y_test,y_pred_3),4))"
   ]
  },
  {
   "cell_type": "markdown",
   "id": "0b1d1154",
   "metadata": {},
   "source": [
    "### SVM model with penalty"
   ]
  },
  {
   "cell_type": "markdown",
   "id": "856901f6",
   "metadata": {},
   "source": [
    "The next tactic is to use penalized learning algorithms that increase the cost of classification\n",
    "mistakes on the minority class.\n",
    "A popular algorithm for this technique is Penalized-SVM.\n",
    "During training, we can use the argument class_weight=’balanced’ to penalize mistakes\n",
    "on the minority class by an amount proportional to how under-represented it is.\n",
    "We also want to include the argument probability=True if we want to enable probability\n",
    "estimates for SVM algorithms.\n",
    "Let’s train a model using Penalized-SVM on the original imbalanced dataset:"
   ]
  },
  {
   "cell_type": "code",
   "execution_count": 136,
   "id": "c5e8955e",
   "metadata": {
    "ExecuteTime": {
     "end_time": "2022-03-15T10:49:11.677959Z",
     "start_time": "2022-03-15T10:49:06.732455Z"
    }
   },
   "outputs": [
    {
     "name": "stdout",
     "output_type": "stream",
     "text": [
      "ROCAUC score: 0.99853515625\n",
      "Accuracy score: 0.9984984984984985\n",
      "F1 score: 0.9984623270117888\n"
     ]
    }
   ],
   "source": [
    "# load library\n",
    "from sklearn.svm import SVC\n",
    "# we can add class_weight='balanced' to add panalize mistake\n",
    "svc_model = SVC(class_weight='balanced', probability=True)\n",
    "svc_model.fit(x_train, y_train)\n",
    "svc_predict = svc_model.predict(x_test)# check performance\n",
    "print('ROCAUC score:',metrics.roc_auc_score(y_test, svc_predict))\n",
    "print('Accuracy score:',metrics.accuracy_score(y_test, svc_predict))\n",
    "print('F1 score:',metrics.f1_score(y_test, svc_predict))"
   ]
  },
  {
   "cell_type": "markdown",
   "id": "d5596c06",
   "metadata": {},
   "source": [
    "Let's try this on new chunk of data:"
   ]
  },
  {
   "cell_type": "code",
   "execution_count": 137,
   "id": "8dfb817e",
   "metadata": {
    "ExecuteTime": {
     "end_time": "2022-03-15T10:49:27.767073Z",
     "start_time": "2022-03-15T10:49:11.680017Z"
    }
   },
   "outputs": [],
   "source": [
    "df_2 = pd.read_csv('online_payment.csv')\n",
    "df_2 = shuffle(df_2)\n",
    "df_2 = df_2[10000:20000].copy()\n",
    "\n",
    "df_2[\"type\"] = df_2[\"type\"].map({\"CASH_OUT\": 1, \"PAYMENT\": 2, \n",
    "                                 \"CASH_IN\": 3, \"TRANSFER\": 4,\n",
    "                                 \"DEBIT\": 5})\n",
    "\n",
    "df_2['diffORG'] = df_2['newbalanceOrig'] - df_2['oldbalanceOrg']\n",
    "df_2['diffDEST'] = df_2['newbalanceDest'] - df_2['oldbalanceDest']\n",
    "x = np.array(df_2[[\"type\", \"amount\", \"oldbalanceOrg\", \"newbalanceOrig\", 'diffDEST', 'diffORG', 'newbalanceDest', 'oldbalanceDest']])\n",
    "y = np.array(df_2[[\"isFraud\"]])\n",
    "x, y = shuffle(x, y)"
   ]
  },
  {
   "cell_type": "code",
   "execution_count": 138,
   "id": "d3539271",
   "metadata": {
    "ExecuteTime": {
     "end_time": "2022-03-15T10:49:35.645242Z",
     "start_time": "2022-03-15T10:49:34.957666Z"
    }
   },
   "outputs": [],
   "source": [
    "y_pred_2 = svc_model.predict(x)"
   ]
  },
  {
   "cell_type": "code",
   "execution_count": 139,
   "id": "69c145a8",
   "metadata": {
    "ExecuteTime": {
     "end_time": "2022-03-15T10:49:37.250836Z",
     "start_time": "2022-03-15T10:49:37.232125Z"
    }
   },
   "outputs": [
    {
     "name": "stdout",
     "output_type": "stream",
     "text": [
      "precision:  0.28\n",
      "recall:  0.64\n",
      "f1:  0.39\n",
      "accuracy: 1.0\n",
      "roc_auc_score: 0.82\n"
     ]
    }
   ],
   "source": [
    "print('precision: ', round(metrics.precision_score(y,y_pred_2),2))\n",
    "print('recall: ', round(metrics.recall_score(y,y_pred_2),2))\n",
    "print('f1: ', round(metrics.f1_score(y,y_pred_2),2))\n",
    "print('accuracy:', round(metrics.accuracy_score(y,y_pred_2),2))\n",
    "print('roc_auc_score:', round(metrics.roc_auc_score(y,y_pred_2),2))"
   ]
  }
 ],
 "metadata": {
  "kernelspec": {
   "display_name": "Python 3 (ipykernel)",
   "language": "python",
   "name": "python3"
  },
  "language_info": {
   "codemirror_mode": {
    "name": "ipython",
    "version": 3
   },
   "file_extension": ".py",
   "mimetype": "text/x-python",
   "name": "python",
   "nbconvert_exporter": "python",
   "pygments_lexer": "ipython3",
   "version": "3.8.5"
  }
 },
 "nbformat": 4,
 "nbformat_minor": 5
}
