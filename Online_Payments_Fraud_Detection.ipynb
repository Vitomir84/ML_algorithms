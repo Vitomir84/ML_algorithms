{
 "cells": [
  {
   "cell_type": "markdown",
   "id": "bcd0d0a7",
   "metadata": {},
   "source": [
    "# Fraud Detection - imbalanced data set"
   ]
  },
  {
   "cell_type": "markdown",
   "id": "9b0fa7dd",
   "metadata": {},
   "source": [
    "Accuracy is not the best metric to use when evaluating imbalanced datasets as it can be\n",
    "misleading.\n",
    "Metrics that can provide better insight are:\n",
    "\n",
    "Confusion Matrix: a table showing correct predictions and types of incorrect\n",
    "predictions.\n",
    "\n",
    "Precision: the number of true positives divided by all positive predictions. Precision is\n",
    "also called Positive Predictive Value. It is a measure of a classifier’s exactness. Low\n",
    "precision indicates a high number of false positives.\n",
    "\n",
    "\n",
    "Recall: the number of true positives divided by the number of positive values in the\n",
    "test data. The recall is also called Sensitivity or the True Positive Rate. It is a measure of\n",
    "a classifier’s completeness. Low recall indicates a high number of false negatives.\n",
    "\n",
    "F1: Score: the weighted average of precision and recall.\n",
    "\n",
    "Area Under ROC Curve (AUROC): AUROC represents the likelihood of your model\n",
    "distinguishing observations from two classes.\n",
    "\n",
    "In other words, if you randomly select one observation from each class, what’s the\n",
    "probability that your model will be able to “rank” them correctly?"
   ]
  },
  {
   "cell_type": "markdown",
   "id": "7998c295",
   "metadata": {},
   "source": [
    "recall = TP/(TP+FN)\n",
    "\n",
    "precision = TP/(TP+FP)\n",
    "\n",
    "F1 = 2TP/(2TP + FP + FN)"
   ]
  },
  {
   "cell_type": "markdown",
   "id": "afb4b41b",
   "metadata": {},
   "source": [
    "Data download: https://www.kaggle.com/ealaxi/paysim1"
   ]
  },
  {
   "cell_type": "markdown",
   "id": "d6eb363e",
   "metadata": {},
   "source": [
    "step: represents a unit of time where 1 step equals 1 hour\n",
    "\n",
    "type: type of online transaction\n",
    "\n",
    "amount: the amount of the transaction\n",
    "\n",
    "nameOrig: customer starting the transaction\n",
    "\n",
    "oldbalanceOrg: balance before the transaction\n",
    "\n",
    "newbalanceOrig: balance after the transaction\n",
    "\n",
    "nameDest: recipient of the transaction\n",
    "\n",
    "oldbalanceDest: initial balance of recipient before the transaction\n",
    "\n",
    "newbalanceDest: the new balance of recipient after the transaction\n",
    "\n",
    "isFraud: fraud transaction"
   ]
  },
  {
   "cell_type": "code",
   "execution_count": 1,
   "id": "98601537",
   "metadata": {
    "ExecuteTime": {
     "end_time": "2022-03-17T07:12:56.485723Z",
     "start_time": "2022-03-17T07:12:54.974281Z"
    }
   },
   "outputs": [],
   "source": [
    "import pandas as pd\n",
    "from sklearn.utils import shuffle\n",
    "import matplotlib.pyplot as plt\n",
    "import seaborn as sns\n",
    "import numpy as np\n",
    "from sklearn.model_selection import train_test_split\n",
    "from sklearn.tree import DecisionTreeClassifier\n",
    "from sklearn.ensemble import RandomForestClassifier\n",
    "from sklearn.model_selection import GridSearchCV\n",
    "from sklearn import metrics\n",
    "# import library\n",
    "from imblearn.over_sampling import SMOTE, ADASYN\n",
    "from collections import Counter\n",
    "from sklearn.metrics import precision_recall_curve\n",
    "from sklearn.metrics import auc\n",
    "from sklearn.svm import SVC"
   ]
  },
  {
   "cell_type": "code",
   "execution_count": 2,
   "id": "88f1965a",
   "metadata": {
    "ExecuteTime": {
     "end_time": "2022-03-17T07:13:08.650698Z",
     "start_time": "2022-03-17T07:12:56.487412Z"
    }
   },
   "outputs": [],
   "source": [
    "\n",
    "df = pd.read_csv('online_payment.csv')"
   ]
  },
  {
   "cell_type": "code",
   "execution_count": 3,
   "id": "68fc50f3",
   "metadata": {
    "ExecuteTime": {
     "end_time": "2022-03-17T07:13:08.658907Z",
     "start_time": "2022-03-17T07:13:08.652615Z"
    }
   },
   "outputs": [
    {
     "data": {
      "text/plain": [
       "6362620"
      ]
     },
     "execution_count": 3,
     "metadata": {},
     "output_type": "execute_result"
    }
   ],
   "source": [
    "len(df)"
   ]
  },
  {
   "cell_type": "code",
   "execution_count": 4,
   "id": "9a6c4c35",
   "metadata": {
    "ExecuteTime": {
     "end_time": "2022-03-17T07:13:13.792637Z",
     "start_time": "2022-03-17T07:13:08.662677Z"
    }
   },
   "outputs": [],
   "source": [
    "\n",
    "df = shuffle(df)"
   ]
  },
  {
   "cell_type": "code",
   "execution_count": 5,
   "id": "0d7d3887",
   "metadata": {
    "ExecuteTime": {
     "end_time": "2022-03-17T07:13:14.850683Z",
     "start_time": "2022-03-17T07:13:13.794015Z"
    }
   },
   "outputs": [],
   "source": [
    "#skracujemo df zbog brzine kompjutacije\n",
    "df = df[:10000].copy()"
   ]
  },
  {
   "cell_type": "code",
   "execution_count": 6,
   "id": "1a180c76",
   "metadata": {
    "ExecuteTime": {
     "end_time": "2022-03-17T07:13:14.871882Z",
     "start_time": "2022-03-17T07:13:14.852866Z"
    }
   },
   "outputs": [
    {
     "data": {
      "text/html": [
       "<div>\n",
       "<style scoped>\n",
       "    .dataframe tbody tr th:only-of-type {\n",
       "        vertical-align: middle;\n",
       "    }\n",
       "\n",
       "    .dataframe tbody tr th {\n",
       "        vertical-align: top;\n",
       "    }\n",
       "\n",
       "    .dataframe thead th {\n",
       "        text-align: right;\n",
       "    }\n",
       "</style>\n",
       "<table border=\"1\" class=\"dataframe\">\n",
       "  <thead>\n",
       "    <tr style=\"text-align: right;\">\n",
       "      <th></th>\n",
       "      <th>step</th>\n",
       "      <th>type</th>\n",
       "      <th>amount</th>\n",
       "      <th>nameOrig</th>\n",
       "      <th>oldbalanceOrg</th>\n",
       "      <th>newbalanceOrig</th>\n",
       "      <th>nameDest</th>\n",
       "      <th>oldbalanceDest</th>\n",
       "      <th>newbalanceDest</th>\n",
       "      <th>isFraud</th>\n",
       "      <th>isFlaggedFraud</th>\n",
       "    </tr>\n",
       "  </thead>\n",
       "  <tbody>\n",
       "    <tr>\n",
       "      <th>2923486</th>\n",
       "      <td>229</td>\n",
       "      <td>CASH_IN</td>\n",
       "      <td>76879.78</td>\n",
       "      <td>C1473669890</td>\n",
       "      <td>1085006.37</td>\n",
       "      <td>1161886.15</td>\n",
       "      <td>C660065181</td>\n",
       "      <td>239205.52</td>\n",
       "      <td>162325.74</td>\n",
       "      <td>0</td>\n",
       "      <td>0</td>\n",
       "    </tr>\n",
       "    <tr>\n",
       "      <th>5354067</th>\n",
       "      <td>375</td>\n",
       "      <td>PAYMENT</td>\n",
       "      <td>3368.23</td>\n",
       "      <td>C304899827</td>\n",
       "      <td>0.00</td>\n",
       "      <td>0.00</td>\n",
       "      <td>M1367818362</td>\n",
       "      <td>0.00</td>\n",
       "      <td>0.00</td>\n",
       "      <td>0</td>\n",
       "      <td>0</td>\n",
       "    </tr>\n",
       "    <tr>\n",
       "      <th>3985875</th>\n",
       "      <td>298</td>\n",
       "      <td>CASH_OUT</td>\n",
       "      <td>242256.31</td>\n",
       "      <td>C1420212173</td>\n",
       "      <td>0.00</td>\n",
       "      <td>0.00</td>\n",
       "      <td>C771399996</td>\n",
       "      <td>1846972.15</td>\n",
       "      <td>2089228.46</td>\n",
       "      <td>0</td>\n",
       "      <td>0</td>\n",
       "    </tr>\n",
       "    <tr>\n",
       "      <th>4679801</th>\n",
       "      <td>331</td>\n",
       "      <td>CASH_OUT</td>\n",
       "      <td>117642.04</td>\n",
       "      <td>C1056084749</td>\n",
       "      <td>0.00</td>\n",
       "      <td>0.00</td>\n",
       "      <td>C2007033317</td>\n",
       "      <td>1325361.31</td>\n",
       "      <td>1576363.22</td>\n",
       "      <td>0</td>\n",
       "      <td>0</td>\n",
       "    </tr>\n",
       "    <tr>\n",
       "      <th>5019232</th>\n",
       "      <td>353</td>\n",
       "      <td>TRANSFER</td>\n",
       "      <td>1743539.65</td>\n",
       "      <td>C2100150056</td>\n",
       "      <td>31857.00</td>\n",
       "      <td>0.00</td>\n",
       "      <td>C210277880</td>\n",
       "      <td>61816.50</td>\n",
       "      <td>1805356.15</td>\n",
       "      <td>0</td>\n",
       "      <td>0</td>\n",
       "    </tr>\n",
       "  </tbody>\n",
       "</table>\n",
       "</div>"
      ],
      "text/plain": [
       "         step      type      amount     nameOrig  oldbalanceOrg  \\\n",
       "2923486   229   CASH_IN    76879.78  C1473669890     1085006.37   \n",
       "5354067   375   PAYMENT     3368.23   C304899827           0.00   \n",
       "3985875   298  CASH_OUT   242256.31  C1420212173           0.00   \n",
       "4679801   331  CASH_OUT   117642.04  C1056084749           0.00   \n",
       "5019232   353  TRANSFER  1743539.65  C2100150056       31857.00   \n",
       "\n",
       "         newbalanceOrig     nameDest  oldbalanceDest  newbalanceDest  isFraud  \\\n",
       "2923486      1161886.15   C660065181       239205.52       162325.74        0   \n",
       "5354067            0.00  M1367818362            0.00            0.00        0   \n",
       "3985875            0.00   C771399996      1846972.15      2089228.46        0   \n",
       "4679801            0.00  C2007033317      1325361.31      1576363.22        0   \n",
       "5019232            0.00   C210277880        61816.50      1805356.15        0   \n",
       "\n",
       "         isFlaggedFraud  \n",
       "2923486               0  \n",
       "5354067               0  \n",
       "3985875               0  \n",
       "4679801               0  \n",
       "5019232               0  "
      ]
     },
     "execution_count": 6,
     "metadata": {},
     "output_type": "execute_result"
    }
   ],
   "source": [
    "df.head()"
   ]
  },
  {
   "cell_type": "code",
   "execution_count": 7,
   "id": "ffa1c4e1",
   "metadata": {
    "ExecuteTime": {
     "end_time": "2022-03-17T07:13:14.890315Z",
     "start_time": "2022-03-17T07:13:14.873805Z"
    }
   },
   "outputs": [
    {
     "name": "stdout",
     "output_type": "stream",
     "text": [
      "step              0\n",
      "type              0\n",
      "amount            0\n",
      "nameOrig          0\n",
      "oldbalanceOrg     0\n",
      "newbalanceOrig    0\n",
      "nameDest          0\n",
      "oldbalanceDest    0\n",
      "newbalanceDest    0\n",
      "isFraud           0\n",
      "isFlaggedFraud    0\n",
      "dtype: int64\n"
     ]
    }
   ],
   "source": [
    "print(df.isnull().sum())"
   ]
  },
  {
   "cell_type": "code",
   "execution_count": 8,
   "id": "8ea6b318",
   "metadata": {
    "ExecuteTime": {
     "end_time": "2022-03-17T07:13:15.155845Z",
     "start_time": "2022-03-17T07:13:14.892469Z"
    }
   },
   "outputs": [
    {
     "data": {
      "image/png": "[encoded data removed]",
      "text/plain": [
       "<Figure size 432x432 with 1 Axes>"
      ]
     },
     "metadata": {},
     "output_type": "display_data"
    }
   ],
   "source": [
    "\n",
    "plt.figure(figsize=(6,6))\n",
    "df['type'].value_counts().plot(kind='pie');"
   ]
  },
  {
   "cell_type": "code",
   "execution_count": 9,
   "id": "b6823614",
   "metadata": {
    "ExecuteTime": {
     "end_time": "2022-03-17T07:13:15.231426Z",
     "start_time": "2022-03-17T07:13:15.158831Z"
    }
   },
   "outputs": [
    {
     "data": {
      "image/png": "[encoded data removed]",
      "text/plain": [
       "<Figure size 432x432 with 1 Axes>"
      ]
     },
     "metadata": {},
     "output_type": "display_data"
    }
   ],
   "source": [
    "plt.figure(figsize=(6,6))\n",
    "df['isFraud'].value_counts().plot(kind='pie');"
   ]
  },
  {
   "cell_type": "code",
   "execution_count": 10,
   "id": "e1ee9034",
   "metadata": {
    "ExecuteTime": {
     "end_time": "2022-03-17T07:13:15.252448Z",
     "start_time": "2022-03-17T07:13:15.235449Z"
    }
   },
   "outputs": [
    {
     "data": {
      "text/html": [
       "<div>\n",
       "<style scoped>\n",
       "    .dataframe tbody tr th:only-of-type {\n",
       "        vertical-align: middle;\n",
       "    }\n",
       "\n",
       "    .dataframe tbody tr th {\n",
       "        vertical-align: top;\n",
       "    }\n",
       "\n",
       "    .dataframe thead th {\n",
       "        text-align: right;\n",
       "    }\n",
       "</style>\n",
       "<table border=\"1\" class=\"dataframe\">\n",
       "  <thead>\n",
       "    <tr style=\"text-align: right;\">\n",
       "      <th></th>\n",
       "      <th>step</th>\n",
       "      <th>amount</th>\n",
       "      <th>oldbalanceOrg</th>\n",
       "      <th>newbalanceOrig</th>\n",
       "      <th>oldbalanceDest</th>\n",
       "      <th>newbalanceDest</th>\n",
       "      <th>isFlaggedFraud</th>\n",
       "    </tr>\n",
       "    <tr>\n",
       "      <th>isFraud</th>\n",
       "      <th></th>\n",
       "      <th></th>\n",
       "      <th></th>\n",
       "      <th></th>\n",
       "      <th></th>\n",
       "      <th></th>\n",
       "      <th></th>\n",
       "    </tr>\n",
       "  </thead>\n",
       "  <tbody>\n",
       "    <tr>\n",
       "      <th>0</th>\n",
       "      <td>244.246222</td>\n",
       "      <td>1.821671e+05</td>\n",
       "      <td>8.789302e+05</td>\n",
       "      <td>903236.041865</td>\n",
       "      <td>1.125781e+06</td>\n",
       "      <td>1.262919e+06</td>\n",
       "      <td>0.0</td>\n",
       "    </tr>\n",
       "    <tr>\n",
       "      <th>1</th>\n",
       "      <td>417.111111</td>\n",
       "      <td>1.702501e+06</td>\n",
       "      <td>1.702501e+06</td>\n",
       "      <td>0.000000</td>\n",
       "      <td>1.847770e+06</td>\n",
       "      <td>3.173688e+06</td>\n",
       "      <td>0.0</td>\n",
       "    </tr>\n",
       "  </tbody>\n",
       "</table>\n",
       "</div>"
      ],
      "text/plain": [
       "               step        amount  oldbalanceOrg  newbalanceOrig  \\\n",
       "isFraud                                                            \n",
       "0        244.246222  1.821671e+05   8.789302e+05   903236.041865   \n",
       "1        417.111111  1.702501e+06   1.702501e+06        0.000000   \n",
       "\n",
       "         oldbalanceDest  newbalanceDest  isFlaggedFraud  \n",
       "isFraud                                                  \n",
       "0          1.125781e+06    1.262919e+06             0.0  \n",
       "1          1.847770e+06    3.173688e+06             0.0  "
      ]
     },
     "execution_count": 10,
     "metadata": {},
     "output_type": "execute_result"
    }
   ],
   "source": [
    "df.groupby('isFraud').mean()"
   ]
  },
  {
   "cell_type": "code",
   "execution_count": 11,
   "id": "e2ba6e36",
   "metadata": {
    "ExecuteTime": {
     "end_time": "2022-03-17T07:13:15.262466Z",
     "start_time": "2022-03-17T07:13:15.253985Z"
    }
   },
   "outputs": [
    {
     "name": "stdout",
     "output_type": "stream",
     "text": [
      "isFraud           1.000000\n",
      "amount            0.072946\n",
      "step              0.036301\n",
      "newbalanceDest    0.015963\n",
      "oldbalanceOrg     0.008303\n",
      "oldbalanceDest    0.006672\n",
      "newbalanceOrig   -0.008995\n",
      "isFlaggedFraud         NaN\n",
      "Name: isFraud, dtype: float64\n"
     ]
    }
   ],
   "source": [
    "correlation = df.corr()\n",
    "print(correlation[\"isFraud\"].sort_values(ascending=False))"
   ]
  },
  {
   "cell_type": "code",
   "execution_count": 12,
   "id": "2b17112c",
   "metadata": {
    "ExecuteTime": {
     "end_time": "2022-03-17T07:13:15.788477Z",
     "start_time": "2022-03-17T07:13:15.264342Z"
    }
   },
   "outputs": [
    {
     "data": {
      "image/png": "[encoded data removed]",
      "text/plain": [
       "<Figure size 432x432 with 2 Axes>"
      ]
     },
     "metadata": {
      "needs_background": "light"
     },
     "output_type": "display_data"
    }
   ],
   "source": [
    "plt.figure(figsize=(6,6))\n",
    "sns.heatmap(correlation, vmin=-1, vmax=1, annot=True,fmt='.1g', cmap='RdBu', robust=True #center=True)\n",
    "           );"
   ]
  },
  {
   "cell_type": "markdown",
   "id": "0538dd14",
   "metadata": {},
   "source": [
    "### Random forest model uz pomoc Grid Search"
   ]
  },
  {
   "cell_type": "code",
   "execution_count": 13,
   "id": "4227e72b",
   "metadata": {
    "ExecuteTime": {
     "end_time": "2022-03-17T07:13:15.801759Z",
     "start_time": "2022-03-17T07:13:15.790698Z"
    }
   },
   "outputs": [
    {
     "name": "stdout",
     "output_type": "stream",
     "text": [
      "         step  type      amount     nameOrig  oldbalanceOrg  newbalanceOrig  \\\n",
      "2923486   229     3    76879.78  C1473669890     1085006.37      1161886.15   \n",
      "5354067   375     2     3368.23   C304899827           0.00            0.00   \n",
      "3985875   298     1   242256.31  C1420212173           0.00            0.00   \n",
      "4679801   331     1   117642.04  C1056084749           0.00            0.00   \n",
      "5019232   353     4  1743539.65  C2100150056       31857.00            0.00   \n",
      "\n",
      "            nameDest  oldbalanceDest  newbalanceDest  isFraud  isFlaggedFraud  \n",
      "2923486   C660065181       239205.52       162325.74        0               0  \n",
      "5354067  M1367818362            0.00            0.00        0               0  \n",
      "3985875   C771399996      1846972.15      2089228.46        0               0  \n",
      "4679801  C2007033317      1325361.31      1576363.22        0               0  \n",
      "5019232   C210277880        61816.50      1805356.15        0               0  \n"
     ]
    }
   ],
   "source": [
    "df[\"type\"] = df[\"type\"].map({\"CASH_OUT\": 1, \"PAYMENT\": 2, \n",
    "                                 \"CASH_IN\": 3, \"TRANSFER\": 4,\n",
    "                                 \"DEBIT\": 5})\n",
    "# df[\"isFraud\"] = df[\"isFraud\"].map({0: \"No Fraud\", 1: \"Fraud\"})\n",
    "print(df.head())"
   ]
  },
  {
   "cell_type": "code",
   "execution_count": 14,
   "id": "1d2ad817",
   "metadata": {
    "ExecuteTime": {
     "end_time": "2022-03-17T07:13:15.809755Z",
     "start_time": "2022-03-17T07:13:15.804056Z"
    }
   },
   "outputs": [
    {
     "data": {
      "text/plain": [
       "0    9991\n",
       "1       9\n",
       "Name: isFraud, dtype: int64"
      ]
     },
     "execution_count": 14,
     "metadata": {},
     "output_type": "execute_result"
    }
   ],
   "source": [
    "df[\"isFraud\"].value_counts()"
   ]
  },
  {
   "cell_type": "code",
   "execution_count": 15,
   "id": "3d67260e",
   "metadata": {
    "ExecuteTime": {
     "end_time": "2022-03-17T07:13:15.822468Z",
     "start_time": "2022-03-17T07:13:15.811909Z"
    }
   },
   "outputs": [],
   "source": [
    "\n",
    "df['diffORG'] = df['newbalanceOrig'] - df['oldbalanceOrg']\n",
    "df['diffDEST'] = df['newbalanceDest'] - df['oldbalanceDest']\n",
    "x = np.array(df[[\"type\", \"amount\", \"oldbalanceOrg\", \"newbalanceOrig\", 'diffDEST', 'diffORG', 'newbalanceDest', 'oldbalanceDest']])\n",
    "y = np.array(df[[\"isFraud\"]])\n",
    "x, y = shuffle(x, y)"
   ]
  },
  {
   "cell_type": "code",
   "execution_count": 16,
   "id": "1984a873",
   "metadata": {
    "ExecuteTime": {
     "end_time": "2022-03-17T07:13:15.829004Z",
     "start_time": "2022-03-17T07:13:15.824482Z"
    }
   },
   "outputs": [],
   "source": [
    "x_train, x_test, y_train, y_test = train_test_split(x, y, test_size=0.10, random_state=42)"
   ]
  },
  {
   "cell_type": "code",
   "execution_count": 17,
   "id": "848be3f1",
   "metadata": {
    "ExecuteTime": {
     "end_time": "2022-03-17T07:13:15.868397Z",
     "start_time": "2022-03-17T07:13:15.830921Z"
    }
   },
   "outputs": [
    {
     "name": "stdout",
     "output_type": "stream",
     "text": [
      "0.998\n"
     ]
    }
   ],
   "source": [
    "\n",
    "\n",
    "model = DecisionTreeClassifier()\n",
    "model.fit(x_train, y_train)\n",
    "print(model.score(x_test, y_test))"
   ]
  },
  {
   "cell_type": "code",
   "execution_count": 18,
   "id": "68b7944c",
   "metadata": {
    "ExecuteTime": {
     "end_time": "2022-03-17T07:13:15.873535Z",
     "start_time": "2022-03-17T07:13:15.870817Z"
    }
   },
   "outputs": [],
   "source": [
    "# parameters for GridSearch\n",
    "parameters = {'criterion':('gini', 'entropy'), 'n_estimators':[200, 300], 'max_depth':[2,7], 'max_leaf_nodes':[2,15]}"
   ]
  },
  {
   "cell_type": "code",
   "execution_count": 19,
   "id": "815b37b7",
   "metadata": {
    "ExecuteTime": {
     "end_time": "2022-03-17T07:13:15.878385Z",
     "start_time": "2022-03-17T07:13:15.875726Z"
    }
   },
   "outputs": [],
   "source": [
    "rf_model = RandomForestClassifier()\n",
    "best_rf_model = GridSearchCV(rf_model, parameters)"
   ]
  },
  {
   "cell_type": "code",
   "execution_count": 20,
   "id": "09020060",
   "metadata": {
    "ExecuteTime": {
     "end_time": "2022-03-17T07:13:15.882845Z",
     "start_time": "2022-03-17T07:13:15.880254Z"
    },
    "scrolled": true
   },
   "outputs": [],
   "source": [
    "#pokrecemo gridsearch\n",
    "y_train = y_train.reshape(-1)\n",
    "# best_rf_model.fit(x_train, y_train)"
   ]
  },
  {
   "cell_type": "code",
   "execution_count": 21,
   "id": "2bac06f7",
   "metadata": {
    "ExecuteTime": {
     "end_time": "2022-03-17T07:13:15.887364Z",
     "start_time": "2022-03-17T07:13:15.885298Z"
    }
   },
   "outputs": [],
   "source": [
    "# sorted(best_rf_model.cv_results_.keys())"
   ]
  },
  {
   "cell_type": "code",
   "execution_count": 22,
   "id": "b41cb762",
   "metadata": {
    "ExecuteTime": {
     "end_time": "2022-03-17T07:13:15.892997Z",
     "start_time": "2022-03-17T07:13:15.889297Z"
    }
   },
   "outputs": [],
   "source": [
    "# print(\" Results from Grid Search \" )\n",
    "# print(\"\\n The best estimator across ALL searched params:\\n\",best_rf_model.best_estimator_)\n",
    "# print(\"\\n The best score across ALL searched params:\\n\",best_rf_model.best_score_)\n",
    "# print(\"\\n The best parameters across ALL searched params:\\n\",best_rf_model.best_params_)"
   ]
  },
  {
   "cell_type": "markdown",
   "id": "fd757d50",
   "metadata": {},
   "source": [
    " Results from Grid Search \n",
    "\n",
    " The best estimator across ALL searched params:\n",
    " RandomForestClassifier(max_depth=7, max_leaf_nodes=15, n_estimators=200)\n",
    "\n",
    " The best score across ALL searched params:\n",
    " 0.9987777777777778\n",
    "\n",
    " The best parameters across ALL searched params:\n",
    " {'criterion': 'gini', 'max_depth': 7, 'max_leaf_nodes': 15, 'n_estimators': 200}"
   ]
  },
  {
   "cell_type": "markdown",
   "id": "6e126938",
   "metadata": {},
   "source": [
    "### Plotovanje greske u zavinosti od hiperparametara modela"
   ]
  },
  {
   "cell_type": "code",
   "execution_count": 23,
   "id": "f740bcbd",
   "metadata": {
    "ExecuteTime": {
     "end_time": "2022-03-17T07:13:16.824191Z",
     "start_time": "2022-03-17T07:13:15.894955Z"
    }
   },
   "outputs": [
    {
     "name": "stdout",
     "output_type": "stream",
     "text": [
      "precision:  0.0\n",
      "recall:  0.0\n",
      "f1:  0.0\n"
     ]
    },
    {
     "name": "stderr",
     "output_type": "stream",
     "text": [
      "/opt/anaconda3/lib/python3.8/site-packages/sklearn/metrics/_classification.py:1318: UndefinedMetricWarning: Precision is ill-defined and being set to 0.0 due to no predicted samples. Use `zero_division` parameter to control this behavior.\n",
      "  _warn_prf(average, modifier, msg_start, len(result))\n",
      "/opt/anaconda3/lib/python3.8/site-packages/sklearn/metrics/_classification.py:1318: UndefinedMetricWarning: Recall is ill-defined and being set to 0.0 due to no true samples. Use `zero_division` parameter to control this behavior.\n",
      "  _warn_prf(average, modifier, msg_start, len(result))\n",
      "/opt/anaconda3/lib/python3.8/site-packages/sklearn/metrics/_classification.py:1580: UndefinedMetricWarning: F-score is ill-defined and being set to 0.0 due to no true nor predicted samples. Use `zero_division` parameter to control this behavior.\n",
      "  _warn_prf(average, \"true nor predicted\", \"F-score is\", len(true_sum))\n"
     ]
    }
   ],
   "source": [
    "y_train = y_train.reshape(-1)\n",
    "rf_model = RandomForestClassifier(max_depth=7, max_leaf_nodes = 15, n_estimators=200)\n",
    "rf_model.fit(x_train, y_train)\n",
    "y_pred = rf_model.predict(x_test)\n",
    "\n",
    "print('precision: ', metrics.precision_score(y_test,y_pred))\n",
    "print('recall: ', metrics.recall_score(y_test,y_pred))\n",
    "print('f1: ', metrics.f1_score(y_test,y_pred))"
   ]
  },
  {
   "cell_type": "code",
   "execution_count": 24,
   "id": "4e51f99e",
   "metadata": {
    "ExecuteTime": {
     "end_time": "2022-03-17T07:13:16.830126Z",
     "start_time": "2022-03-17T07:13:16.827885Z"
    }
   },
   "outputs": [],
   "source": [
    "# y_pred"
   ]
  },
  {
   "cell_type": "markdown",
   "id": "cd26db09",
   "metadata": {
    "ExecuteTime": {
     "start_time": "2022-03-14T09:46:23.101Z"
    }
   },
   "source": []
  },
  {
   "cell_type": "markdown",
   "id": "d0ca98e2",
   "metadata": {},
   "source": [
    "### Pokusavamo oversampling"
   ]
  },
  {
   "cell_type": "code",
   "execution_count": 25,
   "id": "82237418",
   "metadata": {
    "ExecuteTime": {
     "end_time": "2022-03-17T07:13:16.841110Z",
     "start_time": "2022-03-17T07:13:16.832210Z"
    }
   },
   "outputs": [],
   "source": [
    "df['diffORG'] = df['newbalanceOrig'] - df['oldbalanceOrg']\n",
    "df['diffDEST'] = df['newbalanceDest'] - df['oldbalanceDest']\n",
    "x = np.array(df[[\"type\", \"amount\", \"oldbalanceOrg\", \"newbalanceOrig\", 'diffDEST', 'diffORG', 'newbalanceDest', 'oldbalanceDest']])\n",
    "y = np.array(df[[\"isFraud\"]])\n",
    "x, y = shuffle(x, y)"
   ]
  },
  {
   "cell_type": "code",
   "execution_count": 26,
   "id": "5eadbf8c",
   "metadata": {
    "ExecuteTime": {
     "end_time": "2022-03-17T07:13:16.860414Z",
     "start_time": "2022-03-17T07:13:16.843436Z"
    }
   },
   "outputs": [
    {
     "name": "stdout",
     "output_type": "stream",
     "text": [
      "Original dataset shape Counter({0: 9991, 1: 9})\n",
      "Resample dataset shape Counter({0: 9991, 1: 9991})\n"
     ]
    }
   ],
   "source": [
    "X_resampled, y_resampled = SMOTE().fit_resample(x, y)\n",
    "# fit predictor and target variable\n",
    "print('Original dataset shape', Counter(pd.Series(y.reshape(-1))))\n",
    "print('Resample dataset shape', Counter(pd.Series(y_resampled.reshape(-1))))"
   ]
  },
  {
   "cell_type": "code",
   "execution_count": 27,
   "id": "7f10852e",
   "metadata": {
    "ExecuteTime": {
     "end_time": "2022-03-17T07:13:16.866857Z",
     "start_time": "2022-03-17T07:13:16.862520Z"
    }
   },
   "outputs": [],
   "source": [
    "df_resampled = pd.DataFrame(X_resampled, columns = [\"type\", \"amount\", \"oldbalanceOrg\", \"newbalanceOrig\", 'diffDEST', 'diffORG', 'newbalanceDest', 'oldbalanceDest'])\n",
    "df_resampled['isFraud'] = pd.Series(y_resampled)"
   ]
  },
  {
   "cell_type": "code",
   "execution_count": 28,
   "id": "63e3f12d",
   "metadata": {
    "ExecuteTime": {
     "end_time": "2022-03-17T07:13:17.125105Z",
     "start_time": "2022-03-17T07:13:16.875418Z"
    }
   },
   "outputs": [
    {
     "data": {
      "image/png": "[encoded data removed]",
      "text/plain": [
       "<Figure size 432x288 with 1 Axes>"
      ]
     },
     "metadata": {
      "needs_background": "light"
     },
     "output_type": "display_data"
    }
   ],
   "source": [
    "plt.scatter(df[df['isFraud']==0]['diffORG'], df[df['isFraud']==0]['diffDEST'], label = 'Regular')\n",
    "plt.scatter(df[df['isFraud']==1]['diffORG'], df[df['isFraud']==1]['diffDEST'], label = 'Frauds')\n",
    "plt.xlabel('diffORF')\n",
    "plt.ylabel('diffDEST')\n",
    "plt.title('Regular data')\n",
    "plt.legend();"
   ]
  },
  {
   "cell_type": "code",
   "execution_count": 29,
   "id": "7d0b7b56",
   "metadata": {
    "ExecuteTime": {
     "end_time": "2022-03-17T07:13:17.442864Z",
     "start_time": "2022-03-17T07:13:17.127414Z"
    }
   },
   "outputs": [
    {
     "data": {
      "image/png": "[encoded data removed]",
      "text/plain": [
       "<Figure size 432x288 with 1 Axes>"
      ]
     },
     "metadata": {
      "needs_background": "light"
     },
     "output_type": "display_data"
    }
   ],
   "source": [
    "plt.scatter(df_resampled[df_resampled['isFraud']==0]['diffORG'], df_resampled[df_resampled['isFraud']==0]['diffDEST'], label = 'Regular')\n",
    "plt.scatter(df_resampled[df_resampled['isFraud']==1]['diffORG'], df_resampled[df_resampled['isFraud']==1]['diffDEST'], label = 'Frauds')\n",
    "plt.xlabel('diffORF')\n",
    "plt.ylabel('diffDEST')\n",
    "plt.title('SMOTE oversampled data')\n",
    "plt.legend();"
   ]
  },
  {
   "cell_type": "markdown",
   "id": "05d5a25b",
   "metadata": {},
   "source": [
    "Uzimamo parametere za najbolji model iz grid search-a"
   ]
  },
  {
   "cell_type": "code",
   "execution_count": 30,
   "id": "7a048a6c",
   "metadata": {
    "ExecuteTime": {
     "end_time": "2022-03-17T07:13:22.887164Z",
     "start_time": "2022-03-17T07:13:17.444775Z"
    }
   },
   "outputs": [
    {
     "data": {
      "text/plain": [
       "RandomForestClassifier(max_depth=7, max_leaf_nodes=20, n_estimators=500)"
      ]
     },
     "execution_count": 30,
     "metadata": {},
     "output_type": "execute_result"
    }
   ],
   "source": [
    "x_train, x_test, y_train, y_test = train_test_split(X_resampled, y_resampled, test_size=0.10, random_state=42)\n",
    "rf = RandomForestClassifier(max_depth=7, max_leaf_nodes=20, n_estimators=500)\n",
    "rf.fit(x_train,y_train)"
   ]
  },
  {
   "cell_type": "code",
   "execution_count": 31,
   "id": "2a537025",
   "metadata": {
    "ExecuteTime": {
     "end_time": "2022-03-17T07:13:22.988369Z",
     "start_time": "2022-03-17T07:13:22.889210Z"
    }
   },
   "outputs": [],
   "source": [
    "y_pred = rf.predict(x_test)"
   ]
  },
  {
   "cell_type": "code",
   "execution_count": 32,
   "id": "29d09186",
   "metadata": {
    "ExecuteTime": {
     "end_time": "2022-03-17T07:13:23.006064Z",
     "start_time": "2022-03-17T07:13:22.990831Z"
    }
   },
   "outputs": [
    {
     "name": "stdout",
     "output_type": "stream",
     "text": [
      "precision:  0.99\n",
      "recall:  1.0\n",
      "f1:  0.995\n",
      "accuracy: 0.995\n",
      "roc_auc_score: 0.995\n"
     ]
    }
   ],
   "source": [
    "print('precision: ', round(metrics.precision_score(y_test,y_pred),4))\n",
    "print('recall: ', round(metrics.recall_score(y_test,y_pred),4))\n",
    "print('f1: ', round(metrics.f1_score(y_test,y_pred),4))\n",
    "print('accuracy:', round(metrics.accuracy_score(y_test,y_pred),4))\n",
    "print('roc_auc_score:', round(metrics.roc_auc_score(y_test,y_pred),4))"
   ]
  },
  {
   "cell_type": "markdown",
   "id": "e12e9df8",
   "metadata": {},
   "source": [
    "Malo se igramo sa vizualizacijom potraga..."
   ]
  },
  {
   "cell_type": "code",
   "execution_count": 33,
   "id": "5a9c71ff",
   "metadata": {
    "ExecuteTime": {
     "end_time": "2022-03-17T07:13:30.009062Z",
     "start_time": "2022-03-17T07:13:23.007661Z"
    }
   },
   "outputs": [
    {
     "data": {
      "text/plain": [
       "Text(0.5, 1.0, 'Precision i Recall vs Dubina drveta')"
      ]
     },
     "execution_count": 33,
     "metadata": {},
     "output_type": "execute_result"
    },
    {
     "data": {
      "image/png": "[encoded data removed]",
      "text/plain": [
       "<Figure size 432x288 with 1 Axes>"
      ]
     },
     "metadata": {
      "needs_background": "light"
     },
     "output_type": "display_data"
    }
   ],
   "source": [
    "\n",
    "\n",
    "recall=[]\n",
    "precision = []\n",
    "max_depth = [1,2,3,4,5,6,7,8]\n",
    "\n",
    "for depth in max_depth:\n",
    "    rf = RandomForestClassifier(max_depth=depth)\n",
    "    rf.fit(x_train,y_train)\n",
    "    y_pred = rf.predict(x_test)\n",
    "    recall.append(metrics.recall_score(y_test,y_pred))\n",
    "    precision.append(metrics.precision_score(y_test,y_pred))\n",
    "\n",
    "fig = plt.figure()\n",
    "axes = fig.add_axes([0.1, 0.1, 0.8, 0.8]) # velicina osa\n",
    "# plotujemo ose\n",
    "axes.plot(max_depth, recall, 'b', label='recall')\n",
    "axes.plot(max_depth, precision, 'r', label='precision')\n",
    "axes.legend()\n",
    "axes.set_xlabel('Dubina drveta') # Notice the use of set_ to begin methods\n",
    "axes.set_ylabel('Stopa tacno klasifikovanih slucajeva')\n",
    "axes.set_title('Precision i Recall vs Dubina drveta')"
   ]
  },
  {
   "cell_type": "code",
   "execution_count": 34,
   "id": "595e2e37",
   "metadata": {
    "ExecuteTime": {
     "end_time": "2022-03-17T07:13:41.278439Z",
     "start_time": "2022-03-17T07:13:30.010969Z"
    }
   },
   "outputs": [
    {
     "data": {
      "text/plain": [
       "Text(0.5, 1.0, 'Precision i Recall vs Broj listica')"
      ]
     },
     "execution_count": 34,
     "metadata": {},
     "output_type": "execute_result"
    },
    {
     "data": {
      "image/png": "[encoded data removed]",
      "text/plain": [
       "<Figure size 432x288 with 1 Axes>"
      ]
     },
     "metadata": {
      "needs_background": "light"
     },
     "output_type": "display_data"
    }
   ],
   "source": [
    "recall=[]\n",
    "precision = []\n",
    "max_leaf_nodes = [2,4,6,8,10,12,14,16,18,20,22,24]\n",
    "\n",
    "for node in max_leaf_nodes:\n",
    "    rf = RandomForestClassifier(max_leaf_nodes=node)\n",
    "    rf.fit(x_train,y_train)\n",
    "    y_pred = rf.predict(x_test)\n",
    "    recall.append(metrics.recall_score(y_test,y_pred))\n",
    "    precision.append(metrics.precision_score(y_test,y_pred))\n",
    "\n",
    "fig = plt.figure()\n",
    "axes = fig.add_axes([0.1, 0.1, 0.8, 0.8]) # velicina osa\n",
    "# plotujemo ose\n",
    "axes.plot(max_leaf_nodes, recall, 'b', label='recall')\n",
    "axes.plot(max_leaf_nodes, precision, 'r', label='precision')\n",
    "axes.legend()\n",
    "axes.set_xlabel('Broj listica') # Notice the use of set_ to begin methods\n",
    "axes.set_ylabel('Stopa tacno klasifikovanih slucajeva')\n",
    "axes.set_title('Precision i Recall vs Broj listica')"
   ]
  },
  {
   "cell_type": "code",
   "execution_count": 35,
   "id": "4625c49f",
   "metadata": {
    "ExecuteTime": {
     "end_time": "2022-03-17T07:14:02.111325Z",
     "start_time": "2022-03-17T07:13:41.280193Z"
    }
   },
   "outputs": [
    {
     "data": {
      "text/plain": [
       "Text(0.5, 1.0, 'Precision i Recall vs Broj drveta')"
      ]
     },
     "execution_count": 35,
     "metadata": {},
     "output_type": "execute_result"
    },
    {
     "data": {
      "image/png": "[encoded data removed]",
      "text/plain": [
       "<Figure size 432x288 with 1 Axes>"
      ]
     },
     "metadata": {
      "needs_background": "light"
     },
     "output_type": "display_data"
    }
   ],
   "source": [
    "recall=[]\n",
    "precision = []\n",
    "broj_drveca = [1, 5,10,50,70, 100, 200, 300, 400, 500]\n",
    "\n",
    "for drvo in broj_drveca:\n",
    "    rf = RandomForestClassifier(n_estimators=drvo)\n",
    "    rf.fit(x_train,y_train)\n",
    "    y_pred = rf.predict(x_test)\n",
    "    recall.append(metrics.recall_score(y_test,y_pred))\n",
    "    precision.append(metrics.precision_score(y_test,y_pred))\n",
    "\n",
    "fig = plt.figure()\n",
    "axes = fig.add_axes([0.1, 0.1, 0.8, 0.8]) # velicina osa\n",
    "# plotujemo ose\n",
    "axes.plot(broj_drveca, recall, 'b', label='recall')\n",
    "axes.plot(broj_drveca, precision, 'r', label='precision')\n",
    "axes.legend()\n",
    "axes.set_xlabel('Broj drveca') # Notice the use of set_ to begin methods\n",
    "axes.set_ylabel('Stopa tacno klasifikovanih slucajeva')\n",
    "axes.set_title('Precision i Recall vs Broj drveta')"
   ]
  },
  {
   "cell_type": "markdown",
   "id": "fa0b87c8",
   "metadata": {},
   "source": [
    "### Uzimamo drugu grupu podataka i isprobavamo model na njoj"
   ]
  },
  {
   "cell_type": "markdown",
   "id": "6ea26dfc",
   "metadata": {},
   "source": [
    "Uzimamo 6 frauds i proveravamo da li ce ih smote oversemplovani model prepoznati"
   ]
  },
  {
   "cell_type": "code",
   "execution_count": 36,
   "id": "d79513c4",
   "metadata": {
    "ExecuteTime": {
     "end_time": "2022-03-17T07:14:11.699785Z",
     "start_time": "2022-03-17T07:14:02.112768Z"
    }
   },
   "outputs": [
    {
     "name": "stdout",
     "output_type": "stream",
     "text": [
      "ukupno prevara: 6\n"
     ]
    }
   ],
   "source": [
    "df = pd.read_csv('online_payment.csv')\n",
    "df_2 = df[40000:50000].copy()\n",
    "\n",
    "df_2[\"type\"] = df_2[\"type\"].map({\"CASH_OUT\": 1, \"PAYMENT\": 2, \n",
    "                                 \"CASH_IN\": 3, \"TRANSFER\": 4,\n",
    "                                 \"DEBIT\": 5})\n",
    "df_2['diffORG'] = df_2['newbalanceOrig'] - df_2['oldbalanceOrg']\n",
    "df_2['diffDEST'] = df_2['newbalanceDest'] - df_2['oldbalanceDest']\n",
    "\n",
    "print('ukupno prevara:', len(df_2[df_2['isFraud']==1]))\n",
    "\n",
    "real_frauds = df_2[df_2['isFraud']==1]\n",
    "\n",
    "real_frauds = real_frauds[[\"type\", \"amount\", \"oldbalanceOrg\", \"newbalanceOrig\", 'diffDEST', 'diffORG', 'newbalanceDest', 'oldbalanceDest']]"
   ]
  },
  {
   "cell_type": "code",
   "execution_count": 37,
   "id": "6cbae15e",
   "metadata": {
    "ExecuteTime": {
     "end_time": "2022-03-17T07:14:11.751583Z",
     "start_time": "2022-03-17T07:14:11.701354Z"
    }
   },
   "outputs": [],
   "source": [
    "y_pred_real_frauds = rf.predict(np.array(real_frauds))"
   ]
  },
  {
   "cell_type": "markdown",
   "id": "5aa6536e",
   "metadata": {
    "ExecuteTime": {
     "end_time": "2022-03-15T10:33:14.134281Z",
     "start_time": "2022-03-15T10:33:14.131737Z"
    }
   },
   "source": [
    "# SMOTE model je uspeo da uhvati 4 od 6 prevara!!!"
   ]
  },
  {
   "cell_type": "code",
   "execution_count": 38,
   "id": "decd6525",
   "metadata": {
    "ExecuteTime": {
     "end_time": "2022-03-17T07:14:11.757558Z",
     "start_time": "2022-03-17T07:14:11.753691Z"
    }
   },
   "outputs": [
    {
     "data": {
      "text/plain": [
       "array([0, 1, 1, 1, 0, 0])"
      ]
     },
     "execution_count": 38,
     "metadata": {},
     "output_type": "execute_result"
    }
   ],
   "source": [
    "y_pred_real_frauds"
   ]
  },
  {
   "cell_type": "code",
   "execution_count": 39,
   "id": "64465d9f",
   "metadata": {
    "ExecuteTime": {
     "end_time": "2022-03-17T07:14:11.763086Z",
     "start_time": "2022-03-17T07:14:11.759853Z"
    }
   },
   "outputs": [
    {
     "data": {
      "text/plain": [
       "6"
      ]
     },
     "execution_count": 39,
     "metadata": {},
     "output_type": "execute_result"
    }
   ],
   "source": [
    "len(y_pred_real_frauds)"
   ]
  },
  {
   "cell_type": "code",
   "execution_count": 40,
   "id": "3b6073af",
   "metadata": {
    "ExecuteTime": {
     "end_time": "2022-03-17T07:14:11.818247Z",
     "start_time": "2022-03-17T07:14:11.765605Z"
    }
   },
   "outputs": [
    {
     "data": {
      "text/plain": [
       "array([0.088, 0.606, 0.684, 1.   , 0.352, 0.452])"
      ]
     },
     "execution_count": 40,
     "metadata": {},
     "output_type": "execute_result"
    }
   ],
   "source": [
    "y_pred_real_frauds_proba = rf.predict_proba(np.array(real_frauds))\n",
    "y_pred_real_frauds_proba[:,1]"
   ]
  },
  {
   "cell_type": "markdown",
   "id": "577864ed",
   "metadata": {},
   "source": [
    "### Radimo to isto samo na drugom setu podataka. Provericemo da li model prepoznaje slucajave prevare (n=13)"
   ]
  },
  {
   "cell_type": "code",
   "execution_count": 41,
   "id": "59c83825",
   "metadata": {
    "ExecuteTime": {
     "end_time": "2022-03-17T07:14:22.045348Z",
     "start_time": "2022-03-17T07:14:11.819873Z"
    }
   },
   "outputs": [
    {
     "name": "stdout",
     "output_type": "stream",
     "text": [
      "ukupno prevara: 3\n"
     ]
    }
   ],
   "source": [
    "df = pd.read_csv('online_payment.csv')\n",
    "df_2 = df[20000:30000].copy()\n",
    "\n",
    "df_2[\"type\"] = df_2[\"type\"].map({\"CASH_OUT\": 1, \"PAYMENT\": 2, \n",
    "                                 \"CASH_IN\": 3, \"TRANSFER\": 4,\n",
    "                                 \"DEBIT\": 5})\n",
    "df_2['diffORG'] = df_2['newbalanceOrig'] - df_2['oldbalanceOrg']\n",
    "df_2['diffDEST'] = df_2['newbalanceDest'] - df_2['oldbalanceDest']\n",
    "\n",
    "print('ukupno prevara:', len(df_2[df_2['isFraud']==1]))\n",
    "\n",
    "real_frauds = df_2[df_2['isFraud']==1]\n",
    "\n",
    "real_frauds = real_frauds[[\"type\", \"amount\", \"oldbalanceOrg\", \"newbalanceOrig\", 'diffDEST', 'diffORG', 'newbalanceDest', 'oldbalanceDest']]"
   ]
  },
  {
   "cell_type": "code",
   "execution_count": 42,
   "id": "60539514",
   "metadata": {
    "ExecuteTime": {
     "end_time": "2022-03-17T07:14:22.096096Z",
     "start_time": "2022-03-17T07:14:22.047433Z"
    }
   },
   "outputs": [],
   "source": [
    "y_pred_real_frauds = rf.predict(np.array(real_frauds))"
   ]
  },
  {
   "cell_type": "code",
   "execution_count": 43,
   "id": "9cbf26ce",
   "metadata": {
    "ExecuteTime": {
     "end_time": "2022-03-17T07:14:22.102515Z",
     "start_time": "2022-03-17T07:14:22.097896Z"
    }
   },
   "outputs": [
    {
     "data": {
      "text/plain": [
       "array([0, 0, 0])"
      ]
     },
     "execution_count": 43,
     "metadata": {},
     "output_type": "execute_result"
    }
   ],
   "source": [
    "y_pred_real_frauds"
   ]
  },
  {
   "cell_type": "code",
   "execution_count": 44,
   "id": "0aaa771b",
   "metadata": {
    "ExecuteTime": {
     "end_time": "2022-03-17T07:14:22.149498Z",
     "start_time": "2022-03-17T07:14:22.104504Z"
    }
   },
   "outputs": [],
   "source": [
    "y_pred_real_frauds_proba = rf.predict_proba(np.array(real_frauds))"
   ]
  },
  {
   "cell_type": "code",
   "execution_count": 45,
   "id": "f76c6bbc",
   "metadata": {
    "ExecuteTime": {
     "end_time": "2022-03-17T07:14:22.156545Z",
     "start_time": "2022-03-17T07:14:22.151806Z"
    }
   },
   "outputs": [
    {
     "data": {
      "text/plain": [
       "array([0.03, 0.  , 0.  ])"
      ]
     },
     "execution_count": 45,
     "metadata": {},
     "output_type": "execute_result"
    }
   ],
   "source": [
    "y_pred_real_frauds_proba[:,1]"
   ]
  },
  {
   "cell_type": "code",
   "execution_count": 46,
   "id": "386fce88",
   "metadata": {
    "ExecuteTime": {
     "end_time": "2022-03-17T07:14:22.397519Z",
     "start_time": "2022-03-17T07:14:22.158541Z"
    }
   },
   "outputs": [
    {
     "data": {
      "image/png": "[encoded data removed]",
      "text/plain": [
       "<Figure size 432x288 with 1 Axes>"
      ]
     },
     "metadata": {
      "needs_background": "light"
     },
     "output_type": "display_data"
    }
   ],
   "source": [
    "y_pred_2_proba = rf.predict_proba(x_test)\n",
    "\n",
    "\n",
    "pos_probs = y_pred_2_proba[:, 1]\n",
    "\n",
    "roc_auc = metrics.roc_auc_score(y_test, pos_probs)\n",
    "# plot no skill roc curve\n",
    "plt.plot([0, 1], [0, 1], linestyle='--', label='No Skill')\n",
    "# calculate roc curve for model\n",
    "fpr, tpr, _ = metrics.roc_curve(y_test, pos_probs)\n",
    "# plot model roc curve\n",
    "plt.plot(fpr, tpr, marker='.', label='Random_forest_model')\n",
    "# axis labels\n",
    "plt.xlabel('False Positive Rate')\n",
    "plt.ylabel('True Positive Rate')\n",
    "# show the legend\n",
    "plt.legend()\n",
    "plt.title(f'AUC score: {round(roc_auc,3)}')\n",
    "# show the plot\n",
    "plt.show()"
   ]
  },
  {
   "cell_type": "code",
   "execution_count": 47,
   "id": "7002cbe3",
   "metadata": {
    "ExecuteTime": {
     "end_time": "2022-03-17T07:14:22.528100Z",
     "start_time": "2022-03-17T07:14:22.399675Z"
    }
   },
   "outputs": [
    {
     "data": {
      "image/png": "[encoded data removed]",
      "text/plain": [
       "<Figure size 432x288 with 1 Axes>"
      ]
     },
     "metadata": {
      "needs_background": "light"
     },
     "output_type": "display_data"
    }
   ],
   "source": [
    "pos_probs = y_pred_2_proba[:, 1]\n",
    "\n",
    "no_skill = len(y_test[y_test==1]) / len(y_test)\n",
    "# plot the no skill precision-recall curve\n",
    "plt.plot([0, 1], [no_skill, no_skill], linestyle='--', label='No Skill')\n",
    "# calculate model precision-recall curve\n",
    "precision, recall, _ = precision_recall_curve(y_test, pos_probs)\n",
    "\n",
    "auc_score = auc(recall, precision)\n",
    "# plot the model precision-recall curve\n",
    "plt.plot(recall, precision, marker='.', label='Random forest')\n",
    "# axis labels\n",
    "plt.xlabel('Recall')\n",
    "plt.ylabel('Precision')\n",
    "plt.legend()\n",
    "plt.title(f'Precision-Recall AUC Score {round(auc_score,3)}')\n",
    "# show the plot\n",
    "plt.show()"
   ]
  },
  {
   "cell_type": "markdown",
   "id": "4023e096",
   "metadata": {},
   "source": [
    "### Kreiramo novi model sa tresholdom 0.2 kako nam nijedna prevara ne bi promakla ali sa rizikom da povecamo fp"
   ]
  },
  {
   "cell_type": "code",
   "execution_count": 48,
   "id": "83cd6467",
   "metadata": {
    "ExecuteTime": {
     "end_time": "2022-03-17T07:14:22.700250Z",
     "start_time": "2022-03-17T07:14:22.530082Z"
    }
   },
   "outputs": [],
   "source": [
    "threshold = 0.2\n",
    "\n",
    "predicted_proba = rf.predict_proba(x_test)\n",
    "y_pred_3 = (predicted_proba [:,1] >= threshold).astype('int')\n"
   ]
  },
  {
   "cell_type": "code",
   "execution_count": 49,
   "id": "be550f25",
   "metadata": {
    "ExecuteTime": {
     "end_time": "2022-03-17T07:14:22.715446Z",
     "start_time": "2022-03-17T07:14:22.702289Z"
    }
   },
   "outputs": [
    {
     "name": "stdout",
     "output_type": "stream",
     "text": [
      "precision:  0.993\n",
      "recall:  1.0\n",
      "f1:  0.9965\n",
      "accuracy: 0.9965\n",
      "roc_auc_score: 0.9965\n"
     ]
    }
   ],
   "source": [
    "print('precision: ', round(metrics.precision_score(y_test,y_pred_3),4))\n",
    "print('recall: ', round(metrics.recall_score(y_test,y_pred_3),4))\n",
    "print('f1: ', round(metrics.f1_score(y_test,y_pred_3),4))\n",
    "print('accuracy:', round(metrics.accuracy_score(y_test,y_pred_3),4))\n",
    "print('roc_auc_score:', round(metrics.roc_auc_score(y_test,y_pred_3),4))"
   ]
  },
  {
   "cell_type": "markdown",
   "id": "0b1d1154",
   "metadata": {},
   "source": [
    "### SVM model with penalty"
   ]
  },
  {
   "cell_type": "markdown",
   "id": "856901f6",
   "metadata": {},
   "source": [
    "The next tactic is to use penalized learning algorithms that increase the cost of classification\n",
    "mistakes on the minority class.\n",
    "A popular algorithm for this technique is Penalized-SVM.\n",
    "During training, we can use the argument class_weight=’balanced’ to penalize mistakes\n",
    "on the minority class by an amount proportional to how under-represented it is.\n",
    "We also want to include the argument probability=True if we want to enable probability\n",
    "estimates for SVM algorithms.\n",
    "\n",
    "penalized mistake:\n",
    "\n",
    "<img src=\"cost_sensitive1.png\" width=560 height=560 />\n",
    "\n",
    "Let’s train a model using Penalized-SVM on the original imbalanced dataset where 0 is w0 and 1 is w1 (for errors):"
   ]
  },
  {
   "cell_type": "code",
   "execution_count": 50,
   "id": "c5e8955e",
   "metadata": {
    "ExecuteTime": {
     "end_time": "2022-03-17T07:15:14.235459Z",
     "start_time": "2022-03-17T07:14:22.717662Z"
    }
   },
   "outputs": [
    {
     "name": "stdout",
     "output_type": "stream",
     "text": [
      "ROCAUC score: 0.5661691542288557\n",
      "Accuracy score: 0.5637818909454727\n",
      "F1 score: 0.6951048951048951\n",
      "precision:  0.53\n",
      "recall:  1.0\n"
     ]
    }
   ],
   "source": [
    "\n",
    "weights={0:0.01, 1:1.0}\n",
    "svc_model = SVC(class_weight=weights, probability=True)\n",
    "svc_model.fit(x_train, y_train)\n",
    "svc_predict = svc_model.predict(x_test)# check performance\n",
    "print('ROCAUC score:',metrics.roc_auc_score(y_test, svc_predict))\n",
    "print('Accuracy score:',metrics.accuracy_score(y_test, svc_predict))\n",
    "print('F1 score:',metrics.f1_score(y_test, svc_predict))\n",
    "print('precision: ', round(metrics.precision_score(y_test,svc_predict),2))\n",
    "print('recall: ', round(metrics.recall_score(y_test,svc_predict),2))"
   ]
  },
  {
   "cell_type": "markdown",
   "id": "d5596c06",
   "metadata": {},
   "source": [
    "Let's try this on new chunk of data:"
   ]
  },
  {
   "cell_type": "code",
   "execution_count": 51,
   "id": "8dfb817e",
   "metadata": {
    "ExecuteTime": {
     "end_time": "2022-03-17T07:15:30.667770Z",
     "start_time": "2022-03-17T07:15:14.236959Z"
    }
   },
   "outputs": [],
   "source": [
    "df_2 = pd.read_csv('online_payment.csv')\n",
    "df_2 = shuffle(df_2)\n",
    "df_2 = df_2[10000:20000].copy()\n",
    "\n",
    "df_2[\"type\"] = df_2[\"type\"].map({\"CASH_OUT\": 1, \"PAYMENT\": 2, \n",
    "                                 \"CASH_IN\": 3, \"TRANSFER\": 4,\n",
    "                                 \"DEBIT\": 5})\n",
    "\n",
    "df_2['diffORG'] = df_2['newbalanceOrig'] - df_2['oldbalanceOrg']\n",
    "df_2['diffDEST'] = df_2['newbalanceDest'] - df_2['oldbalanceDest']\n",
    "x = np.array(df_2[[\"type\", \"amount\", \"oldbalanceOrg\", \"newbalanceOrig\", 'diffDEST', 'diffORG', 'newbalanceDest', 'oldbalanceDest']])\n",
    "y = np.array(df_2[[\"isFraud\"]])\n",
    "x, y = shuffle(x, y)"
   ]
  },
  {
   "cell_type": "code",
   "execution_count": 52,
   "id": "d3539271",
   "metadata": {
    "ExecuteTime": {
     "end_time": "2022-03-17T07:15:39.357258Z",
     "start_time": "2022-03-17T07:15:30.669379Z"
    }
   },
   "outputs": [],
   "source": [
    "y_pred_2 = svc_model.predict(x)"
   ]
  },
  {
   "cell_type": "code",
   "execution_count": 53,
   "id": "69c145a8",
   "metadata": {
    "ExecuteTime": {
     "end_time": "2022-03-17T07:15:39.382828Z",
     "start_time": "2022-03-17T07:15:39.359921Z"
    }
   },
   "outputs": [
    {
     "name": "stdout",
     "output_type": "stream",
     "text": [
      "precision:  0.0\n",
      "recall:  1.0\n",
      "f1:  0.0\n",
      "accuracy: 0.12\n",
      "roc_auc_score: 0.56\n"
     ]
    }
   ],
   "source": [
    "print('precision: ', round(metrics.precision_score(y,y_pred_2),2))\n",
    "print('recall: ', round(metrics.recall_score(y,y_pred_2),2))\n",
    "print('f1: ', round(metrics.f1_score(y,y_pred_2),2))\n",
    "print('accuracy:', round(metrics.accuracy_score(y,y_pred_2),2))\n",
    "print('roc_auc_score:', round(metrics.roc_auc_score(y,y_pred_2),2))"
   ]
  },
  {
   "cell_type": "markdown",
   "id": "64c283b6",
   "metadata": {},
   "source": [
    "## Cost-sensitive learning "
   ]
  },
  {
   "cell_type": "code",
   "execution_count": 54,
   "id": "baaa135a",
   "metadata": {
    "ExecuteTime": {
     "end_time": "2022-03-17T07:15:49.670376Z",
     "start_time": "2022-03-17T07:15:39.384754Z"
    }
   },
   "outputs": [
    {
     "name": "stdout",
     "output_type": "stream",
     "text": [
      "ukupno prevara: 3\n"
     ]
    }
   ],
   "source": [
    "import pandas as pd\n",
    "df = pd.read_csv('online_payment.csv')\n",
    "df_2 = df[20000:30000].copy()\n",
    "\n",
    "df_2[\"type\"] = df_2[\"type\"].map({\"CASH_OUT\": 1, \"PAYMENT\": 2, \n",
    "                                 \"CASH_IN\": 3, \"TRANSFER\": 4,\n",
    "                                 \"DEBIT\": 5})\n",
    "df_2['diffORG'] = df_2['newbalanceOrig'] - df_2['oldbalanceOrg']\n",
    "df_2['diffDEST'] = df_2['newbalanceDest'] - df_2['oldbalanceDest']\n",
    "\n",
    "print('ukupno prevara:', len(df_2[df_2['isFraud']==1]))\n",
    "x = np.array(df_2[[\"type\", \"amount\", \"oldbalanceOrg\", \"newbalanceOrig\", 'diffDEST', 'diffORG', 'newbalanceDest', 'oldbalanceDest']])\n",
    "y = np.array(df_2[[\"isFraud\"]])\n",
    "x, y = shuffle(x, y)"
   ]
  },
  {
   "cell_type": "markdown",
   "id": "3da04cb5",
   "metadata": {},
   "source": [
    "zbog malog broja prevara probacemo ipak na smote podacima"
   ]
  },
  {
   "cell_type": "code",
   "execution_count": 55,
   "id": "49657b5d",
   "metadata": {
    "ExecuteTime": {
     "end_time": "2022-03-17T07:15:49.679269Z",
     "start_time": "2022-03-17T07:15:49.672250Z"
    }
   },
   "outputs": [],
   "source": [
    "x_train, x_test, y_train, y_test = train_test_split(X_resampled, y_resampled, test_size=0.10, random_state=42)"
   ]
  },
  {
   "cell_type": "code",
   "execution_count": 56,
   "id": "d69c142e",
   "metadata": {
    "ExecuteTime": {
     "end_time": "2022-03-17T07:15:49.685227Z",
     "start_time": "2022-03-17T07:15:49.681361Z"
    }
   },
   "outputs": [],
   "source": [
    "balance = [{0:0.01,1:.9}, {0:5,1:0.8}, {0:0.001,1:1}, {0:0.05,1:0.7}, {0:0.0001,1:1}]\n",
    "param_grid = dict(class_weight=balance)"
   ]
  },
  {
   "cell_type": "code",
   "execution_count": 57,
   "id": "b30f7854",
   "metadata": {
    "ExecuteTime": {
     "end_time": "2022-03-17T07:17:48.181978Z",
     "start_time": "2022-03-17T07:15:49.686675Z"
    }
   },
   "outputs": [
    {
     "data": {
      "text/plain": [
       "GridSearchCV(estimator=RandomForestClassifier(max_depth=7, max_leaf_nodes=20,\n",
       "                                              n_estimators=500),\n",
       "             param_grid={'class_weight': [{0: 0.01, 1: 0.9}, {0: 5, 1: 0.8},\n",
       "                                          {0: 0.001, 1: 1}, {0: 0.05, 1: 0.7},\n",
       "                                          {0: 0.0001, 1: 1}]})"
      ]
     },
     "execution_count": 57,
     "metadata": {},
     "output_type": "execute_result"
    }
   ],
   "source": [
    "# now we want to try several weights for class weights\n",
    "\n",
    "rf_cs = RandomForestClassifier(max_depth=7, max_leaf_nodes=20, n_estimators=500)\n",
    "best_rf_cs = GridSearchCV(rf_cs, param_grid)\n",
    "y_train = y_train.reshape(-1)\n",
    "best_rf_cs.fit(x_train,y_train)\n"
   ]
  },
  {
   "cell_type": "code",
   "execution_count": 58,
   "id": "ee511f5e",
   "metadata": {
    "ExecuteTime": {
     "end_time": "2022-03-17T07:17:48.188599Z",
     "start_time": "2022-03-17T07:17:48.183492Z"
    }
   },
   "outputs": [
    {
     "name": "stdout",
     "output_type": "stream",
     "text": [
      " Results from Grid Search \n",
      "\n",
      " The best estimator across ALL searched params:\n",
      " RandomForestClassifier(class_weight={0: 0.05, 1: 0.7}, max_depth=7,\n",
      "                       max_leaf_nodes=20, n_estimators=500)\n",
      "\n",
      " The best score across ALL searched params:\n",
      " 0.9829285033288461\n",
      "\n",
      " The best parameters across ALL searched params:\n",
      " {'class_weight': {0: 0.05, 1: 0.7}}\n"
     ]
    }
   ],
   "source": [
    "print(\" Results from Grid Search \" )\n",
    "print(\"\\n The best estimator across ALL searched params:\\n\",best_rf_cs.best_estimator_)\n",
    "print(\"\\n The best score across ALL searched params:\\n\",best_rf_cs.best_score_)\n",
    "print(\"\\n The best parameters across ALL searched params:\\n\",best_rf_cs.best_params_)"
   ]
  },
  {
   "cell_type": "code",
   "execution_count": 59,
   "id": "a4448e90",
   "metadata": {
    "ExecuteTime": {
     "end_time": "2022-03-17T07:17:53.823184Z",
     "start_time": "2022-03-17T07:17:48.190968Z"
    }
   },
   "outputs": [
    {
     "data": {
      "text/plain": [
       "RandomForestClassifier(class_weight={0: 0.05, 1: 0.7}, max_depth=7,\n",
       "                       max_leaf_nodes=20, n_estimators=500)"
      ]
     },
     "execution_count": 59,
     "metadata": {},
     "output_type": "execute_result"
    }
   ],
   "source": [
    "weights = {0: 0.05, 1: 0.7}\n",
    "rf_cs_best = RandomForestClassifier(max_depth=7, max_leaf_nodes=20, n_estimators=500, class_weight=weights)\n",
    "rf_cs_best.fit(x_train,y_train)"
   ]
  },
  {
   "cell_type": "code",
   "execution_count": 60,
   "id": "6eb5a816",
   "metadata": {
    "ExecuteTime": {
     "end_time": "2022-03-17T07:17:53.923618Z",
     "start_time": "2022-03-17T07:17:53.824695Z"
    }
   },
   "outputs": [],
   "source": [
    "rf_pred = rf_cs_best.predict(x_test)"
   ]
  },
  {
   "cell_type": "markdown",
   "id": "df380c36",
   "metadata": {},
   "source": [
    "### This is absolutely best - both SMOTE and cost sensitive learning!!!"
   ]
  },
  {
   "cell_type": "code",
   "execution_count": 61,
   "id": "85ac839c",
   "metadata": {
    "ExecuteTime": {
     "end_time": "2022-03-17T07:17:53.937735Z",
     "start_time": "2022-03-17T07:17:53.926033Z"
    },
    "scrolled": true
   },
   "outputs": [
    {
     "name": "stdout",
     "output_type": "stream",
     "text": [
      "ROCAUC score: 0.9835820895522388\n",
      "Accuracy score: 0.9834917458729364\n",
      "F1 score: 0.9836714497773379\n",
      "precision:  0.97\n",
      "recall:  1.0\n"
     ]
    }
   ],
   "source": [
    "print('ROCAUC score:',metrics.roc_auc_score(y_test, rf_pred))\n",
    "print('Accuracy score:',metrics.accuracy_score(y_test, rf_pred))\n",
    "print('F1 score:',metrics.f1_score(y_test, rf_pred))\n",
    "print('precision: ', round(metrics.precision_score(y_test,rf_pred),2))\n",
    "print('recall: ', round(metrics.recall_score(y_test,rf_pred),2))"
   ]
  },
  {
   "cell_type": "code",
   "execution_count": 62,
   "id": "bd01890d",
   "metadata": {
    "ExecuteTime": {
     "end_time": "2022-03-17T07:17:54.204947Z",
     "start_time": "2022-03-17T07:17:53.939220Z"
    }
   },
   "outputs": [
    {
     "data": {
      "image/png": "[encoded data removed]",
      "text/plain": [
       "<Figure size 432x288 with 1 Axes>"
      ]
     },
     "metadata": {
      "needs_background": "light"
     },
     "output_type": "display_data"
    }
   ],
   "source": [
    "y_pred_2_proba = rf_cs_best.predict_proba(x_test)\n",
    "\n",
    "\n",
    "pos_probs = y_pred_2_proba[:, 1]\n",
    "\n",
    "roc_auc = metrics.roc_auc_score(y_test, pos_probs)\n",
    "# plot no skill roc curve\n",
    "plt.plot([0, 1], [0, 1], linestyle='--', label='No Skill')\n",
    "# calculate roc curve for model\n",
    "fpr, tpr, _ = metrics.roc_curve(y_test, pos_probs)\n",
    "# plot model roc curve\n",
    "plt.plot(fpr, tpr, marker='.', label='Random forest with SMOTE and Cost - sensitive learning')\n",
    "# axis labels\n",
    "plt.xlabel('False Positive Rate')\n",
    "plt.ylabel('True Positive Rate')\n",
    "# show the legend\n",
    "plt.legend()\n",
    "plt.title(f'AUC score: {round(roc_auc,3)}')\n",
    "# show the plot\n",
    "plt.show()"
   ]
  },
  {
   "cell_type": "code",
   "execution_count": 63,
   "id": "9e8029e7",
   "metadata": {
    "ExecuteTime": {
     "end_time": "2022-03-17T07:17:54.366960Z",
     "start_time": "2022-03-17T07:17:54.207208Z"
    }
   },
   "outputs": [
    {
     "data": {
      "image/png": "[encoded data removed]",
      "text/plain": [
       "<Figure size 432x288 with 1 Axes>"
      ]
     },
     "metadata": {
      "needs_background": "light"
     },
     "output_type": "display_data"
    }
   ],
   "source": [
    "pos_probs = y_pred_2_proba[:, 1]\n",
    "\n",
    "no_skill = len(y_test[y_test==1]) / len(y_test)\n",
    "# plot the no skill precision-recall curve\n",
    "plt.plot([0, 1], [no_skill, no_skill], linestyle='--', label='No Skill')\n",
    "# calculate model precision-recall curve\n",
    "precision, recall, _ = precision_recall_curve(y_test, pos_probs)\n",
    "\n",
    "auc_score = auc(recall, precision)\n",
    "# plot the model precision-recall curve\n",
    "plt.plot(recall, precision, marker='.', label='Random forest with SMOTE and Cost - sensitive learning')\n",
    "# axis labels\n",
    "plt.xlabel('Recall')\n",
    "plt.ylabel('Precision')\n",
    "plt.legend()\n",
    "plt.title(f'Precision-Recall AUC Score {round(auc_score,3)}')\n",
    "# show the plot\n",
    "plt.show()"
   ]
  }
 ],
 "metadata": {
  "kernelspec": {
   "display_name": "Python 3 (ipykernel)",
   "language": "python",
   "name": "python3"
  },
  "language_info": {
   "codemirror_mode": {
    "name": "ipython",
    "version": 3
   },
   "file_extension": ".py",
   "mimetype": "text/x-python",
   "name": "python",
   "nbconvert_exporter": "python",
   "pygments_lexer": "ipython3",
   "version": "3.8.5"
  }
 },
 "nbformat": 4,
 "nbformat_minor": 5
}
